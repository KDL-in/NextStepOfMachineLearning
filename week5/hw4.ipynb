{
 "cells": [
  {
   "cell_type": "code",
   "execution_count": 0,
   "metadata": {
    "colab": {
     "base_uri": "https://localhost:8080/",
     "height": 390
    },
    "colab_type": "code",
    "executionInfo": {
     "elapsed": 14262,
     "status": "ok",
     "timestamp": 1586679072474,
     "user": {
      "displayName": "KD Lin",
      "photoUrl": "",
      "userId": "07150804307204552996"
     },
     "user_tz": -480
    },
    "id": "BE-V3cxNaVb8",
    "outputId": "748aa346-6df5-4c77-ccde-9d64c800ceea"
   },
   "outputs": [
    {
     "name": "stdout",
     "output_type": "stream",
     "text": [
      "[nltk_data] Downloading package wordnet to /root/nltk_data...\n",
      "[nltk_data]   Unzipping corpora/wordnet.zip.\n",
      "[nltk_data] Error loading WordNetLemmatizer: Package\n",
      "[nltk_data]     'WordNetLemmatizer' not found in index\n",
      "[nltk_data] Downloading package averaged_perceptron_tagger to\n",
      "[nltk_data]     /root/nltk_data...\n",
      "[nltk_data]   Unzipping taggers/averaged_perceptron_tagger.zip.\n",
      "[nltk_data] Downloading package stopwords to /root/nltk_data...\n",
      "[nltk_data]   Unzipping corpora/stopwords.zip.\n",
      "Collecting modelsummary\n",
      "  Downloading https://files.pythonhosted.org/packages/36/98/08d46b021de6aebad12ac368d03afe41d399285b2629cff2a2c076822981/modelsummary-1.1.7.tar.gz\n",
      "Requirement already satisfied: tqdm in /usr/local/lib/python3.6/dist-packages (from modelsummary) (4.38.0)\n",
      "Requirement already satisfied: torch in /usr/local/lib/python3.6/dist-packages (from modelsummary) (1.4.0)\n",
      "Requirement already satisfied: numpy in /usr/local/lib/python3.6/dist-packages (from modelsummary) (1.18.2)\n",
      "Building wheels for collected packages: modelsummary\n",
      "  Building wheel for modelsummary (setup.py) ... \u001b[?25l\u001b[?25hdone\n",
      "  Created wheel for modelsummary: filename=modelsummary-1.1.7-cp36-none-any.whl size=6955 sha256=d5c3cbb338d1222037a77349df758cc6f890953aee3d55a37dcec32a3fbc449a\n",
      "  Stored in directory: /root/.cache/pip/wheels/fc/d3/e8/1ed6d9523b8480be97ccded9ecfed3413e84c73dae12bcc329\n",
      "Successfully built modelsummary\n",
      "Installing collected packages: modelsummary\n",
      "Successfully installed modelsummary-1.1.7\n"
     ]
    }
   ],
   "source": [
    "import os\n",
    "import nltk\n",
    "from nltk.corpus import stopwords\n",
    "from nltk.stem import WordNetLemmatizer\n",
    "import torch\n",
    "import torch.nn as nn\n",
    "import numpy as np\n",
    "import random\n",
    "from gensim.models import word2vec\n",
    "from gensim.models import Word2Vec\n",
    "import time\n",
    "nltk.download('wordnet')\n",
    "nltk.download('WordNetLemmatizer')\n",
    "nltk.download('averaged_perceptron_tagger')\n",
    "nltk.download(\"stopwords\")\n",
    "!pip install modelsummary\n",
    "# model summary\n",
    "from modelsummary import summary\n",
    "\n",
    "# this is for filtering the warnings\n",
    "import warnings\n",
    "warnings.filterwarnings('ignore')\n",
    "\n",
    "def set_seed(seed):\n",
    "    random.seed(seed)\n",
    "    np.random.seed(seed)\n",
    "    torch.manual_seed(seed)\n",
    "    torch.cuda.manual_seed(seed)\n",
    "    torch.cuda.manual_seed_all(seed)\n",
    "\n",
    "set_seed(9)"
   ]
  },
  {
   "cell_type": "markdown",
   "metadata": {
    "colab_type": "text",
    "id": "5HHim9wS53ck"
   },
   "source": [
    "# 1.  Preprocessing\n",
    "\n",
    "数据预处理部分大概需要做：\n",
    "\n",
    "1. 读取数据\n",
    "2. 使用gensim.word2vec训练词向量，建立词向量映射\n",
    "3. sentenses to idx list"
   ]
  },
  {
   "cell_type": "code",
   "execution_count": 0,
   "metadata": {
    "colab": {
     "base_uri": "https://localhost:8080/",
     "height": 188
    },
    "colab_type": "code",
    "executionInfo": {
     "elapsed": 52152,
     "status": "ok",
     "timestamp": 1586679110386,
     "user": {
      "displayName": "KD Lin",
      "photoUrl": "",
      "userId": "07150804307204552996"
     },
     "user_tz": -480
    },
    "id": "dwiJgJSM5glP",
    "outputId": "8a15f7fb-af8d-4c0e-baf7-18f612e677c9"
   },
   "outputs": [
    {
     "name": "stdout",
     "output_type": "stream",
     "text": [
      "Go to this URL in a browser: https://accounts.google.com/o/oauth2/auth?client_id=947318989803-6bn6qk8qdgf4n4g3pfee6491hc0brc4i.apps.googleusercontent.com&redirect_uri=urn%3aietf%3awg%3aoauth%3a2.0%3aoob&response_type=code&scope=email%20https%3a%2f%2fwww.googleapis.com%2fauth%2fdocs.test%20https%3a%2f%2fwww.googleapis.com%2fauth%2fdrive%20https%3a%2f%2fwww.googleapis.com%2fauth%2fdrive.photos.readonly%20https%3a%2f%2fwww.googleapis.com%2fauth%2fpeopleapi.readonly\n",
      "\n",
      "Enter your authorization code:\n",
      "··········\n",
      "Mounted at /content/drive\n",
      "Archive:  data.zip\n",
      "  inflating: testing_data.txt        \n",
      "  inflating: training_label.txt      \n",
      "  inflating: training_nolabel.txt    \n"
     ]
    }
   ],
   "source": [
    "# gdrive\n",
    "from google.colab import drive  as gdrive\n",
    "gdrive.mount('/content/drive')\n",
    "!cp /content/drive/My\\ Drive/ml2020spring-hw4.zip ./data.zip\n",
    "!unzip data.zip"
   ]
  },
  {
   "cell_type": "code",
   "execution_count": 0,
   "metadata": {
    "colab": {},
    "colab_type": "code",
    "id": "nrLFNd8w8HhE"
   },
   "outputs": [],
   "source": [
    "# google\n",
    "# !gdown --id '1lz0Wtwxsh5YCPdqQ3E3l_nbfJT1N13V8' --output data.zip\n",
    "# !unzip data.zip\n",
    "# !ls"
   ]
  },
  {
   "cell_type": "code",
   "execution_count": 0,
   "metadata": {
    "colab": {},
    "colab_type": "code",
    "id": "kZ9Rz7_98Pyt"
   },
   "outputs": [],
   "source": [
    "# local"
   ]
  },
  {
   "cell_type": "markdown",
   "metadata": {
    "colab_type": "text",
    "id": "NvlDqKERD8I0"
   },
   "source": [
    "## 1.1 文本预处理\n",
    "\n",
    "读取句子，对文本进行一些预处理。\n",
    "\n",
    "- **分词**，对于英文来说，分词只需要用空格，标点进行即可，给定数据中已经给标点前后增加空格。\n",
    "- **删除停用词** ，例如to，for等，这在文本处理中是可选项，这些词存在与否对于部分任务，例如文本分类，但在例如机器翻译中，就不进行。至于需不需要保留标点符号，我认为应该差不多。一方面，考虑标点符号和上下文关系不大，因而word2vec可能没有什么意义，但标点符号有利于句子的划分。所以这里不对标点符号进行处理。\n",
    "- **词型还原**，同样是可选项，英文中词有多种时态，但是word2vec中却会分为多个词，这显然是不太合理的，对于文本情感分析，直觉上，时态并不会给文本分类带来太多什么帮助。\n",
    "\n",
    "ref https://panchuang.net/2019/08/31/nlp-essentials-removing-stopwords-and-performing-text-normalization-using-nltk-and-spacy-in-python/\n",
    "\n",
    "更新：\n",
    "事实证明，删除停用词，词型还原都没有用，尤其是删除停用词会对结果产生负影响。\n"
   ]
  },
  {
   "cell_type": "code",
   "execution_count": 0,
   "metadata": {
    "colab": {},
    "colab_type": "code",
    "id": "mfPihRmBE1dn"
   },
   "outputs": [],
   "source": [
    "def load_data(data_path, name):\n",
    "    y = None\n",
    "    # read\n",
    "    with open(os.path.join(data_path, name)) as f:\n",
    "        sentenses = f.readlines()\n",
    "        if name == 'testing_data.txt':\n",
    "            sentenses = sentenses[1:]\n",
    "            sentenses = [sen.split(',',1)[1] for sen in sentenses]\n",
    "        if name == 'training_label.txt':\n",
    "            y = [int(sen[0]) for sen in sentenses]\n",
    "            sentenses = [sen[10:] for sen in sentenses]\n",
    "            \n",
    "        sentences = [sen.strip('\\n').split() for sen in sentenses]\n",
    "    # deal with stopword and tense\n",
    "    \n",
    "    def lemmatize(word):\n",
    "        wnl = WordNetLemmatizer()\n",
    "        word = wnl.lemmatize(word, 'n')\n",
    "        word = wnl.lemmatize(word, 'v')\n",
    "        word = wnl.lemmatize(word, 'a')\n",
    "        return word\n",
    "\n",
    "    x = []\n",
    "    stopword = set(stopwords.words('english'))\n",
    "    # # without stopword and lemmatize\n",
    "    x = [sen.split() for sen in sentenses]\n",
    "    # lemmatize\n",
    "    # for sentence in sentences:\n",
    "    #     x.append([lemmatize(word) for word in sentence])    \n",
    "\n",
    "    # stopword  & lemmatize\n",
    "    # for sentence in sentences:\n",
    "    #     x.append([lemmatize(word) for word in sentence if word not in stopword])\n",
    "    \n",
    "    if y:\n",
    "        return x,y\n",
    "    else:\n",
    "        return x"
   ]
  },
  {
   "cell_type": "code",
   "execution_count": 0,
   "metadata": {
    "colab": {
     "base_uri": "https://localhost:8080/",
     "height": 104
    },
    "colab_type": "code",
    "executionInfo": {
     "elapsed": 20073,
     "status": "ok",
     "timestamp": 1586583223411,
     "user": {
      "displayName": "KD Lin",
      "photoUrl": "",
      "userId": "07150804307204552996"
     },
     "user_tz": -480
    },
    "id": "DAlnCQeBB_6s",
    "outputId": "6681bd2c-86bc-472e-f35c-38cce8445847"
   },
   "outputs": [
    {
     "name": "stdout",
     "output_type": "stream",
     "text": [
      "====train data\n",
      "size: 200000\n",
      "[['are', 'wtf', '...', 'awww', 'thanks', '!'], ['leavingg', 'to', 'wait', 'for', 'kaysie', 'to', 'arrive', 'myspacin', 'itt', 'for', 'now', 'ilmmthek', '.!'], ['i', 'wish', 'i', 'could', 'go', 'and', 'see', 'duffy', 'when', 'she', 'comes', 'to', 'mamaia', 'romania', '.'], ['i', 'know', 'eep', '!', 'i', 'can', \"'\", 't', 'wait', 'for', 'one', 'more', 'day', '....'], ['so', 'scared', 'and', 'feeling', 'sick', '.', 'fuck', '!', 'hope', 'someone', 'at', 'hr', 'help', '...', 'wish', 'it', 'would', 'be', 'wendita', 'or', 'karen', '.'], ['my', 'b', 'day', 'was', 'thurs', '.', 'i', 'wanted', '2', 'do', '5', 'this', 'weekend', 'for', 'my', 'b', 'day', 'but', 'i', 'guess', 'close', 'enough', 'next', 'weekend', '.', 'going', 'alone'], ['e3', 'is', 'in', 'the', 'trending', 'topics', 'only', 'just', 'noticed', 'ive', 'been', 'tweeting', 'on', 'my', 'iphone', 'until', 'now'], ['where', 'did', 'you', 'get', 'him', 'from', 'i', 'know', 'someone', 'who', 'would', 'love', 'that', '!'], ['dam', 'just', 'got', 'buzzed', 'by', 'another', 'huge', 'fly', '!', 'this', 'time', 'it', 'landed', 'on', 'my', 'head', '...', 'not', 'impressed'], ['tomorrowwwwwwwww', '!!!', 'you', \"'\", 'll', 'love', 'tomorrow', \"'\", 's', 'news', '!']]\n",
      "[1, 1, 0, 1, 0, 0, 1, 1, 0, 1]\n"
     ]
    }
   ],
   "source": [
    "\n",
    "data_path = './'\n",
    "train_data,train_label = load_data(data_path, 'training_label.txt')\n",
    "print('====train data')\n",
    "print('size: {}'.format(len(train_data)))\n",
    "print(train_data[:10])\n",
    "print(train_label[:10])"
   ]
  },
  {
   "cell_type": "code",
   "execution_count": 0,
   "metadata": {
    "colab": {},
    "colab_type": "code",
    "id": "wheeJ9h7B_lP"
   },
   "outputs": [],
   "source": [
    "# test_data = load_data(data_path, 'testing_data.txt')\n",
    "# print('====test data')\n",
    "# print('size: {}'.format(len(test_data)))\n",
    "# print(test_data[:10])\n",
    "# train_nolabel = load_data(data_path, 'training_nolabel.txt')\n",
    "# print('====train data without label')\n",
    "# print('size: {}'.format(len(train_nolabel)))\n",
    "# print(train_nolabel[:10])"
   ]
  },
  {
   "cell_type": "markdown",
   "metadata": {
    "colab_type": "text",
    "id": "364X6vMCEni_"
   },
   "source": [
    "## 1.2 word2vec\n",
    "\n",
    "- 训练词向量，单层神经网络预测下一个词，取hidden layer的输出，以此向量化。把所有数据拿出来训练词向量。gensim.word2vec已经写好了框架，直接使用训练。\n",
    "- 建立word2idx，idx2vec的映射。\n",
    "- 然后将sentenses转为indies list\n",
    "\n"
   ]
  },
  {
   "cell_type": "code",
   "execution_count": 0,
   "metadata": {
    "colab": {},
    "colab_type": "code",
    "id": "dhtn4YXEGhfO"
   },
   "outputs": [],
   "source": [
    "emb_dim = 250\n",
    "# model = word2vec.Word2Vec(train_data+test_data+train_nolabel,\n",
    "#                           size = emb_dim,                                                                 # dimension\n",
    "#                           window = 5,                                                              # windlow of context\n",
    "#                           min_count = 5,                                                          # remove low frequency word\n",
    "#                           workers = 12,                                                            # precess tread \n",
    "#                           iter = 10,                                                                   # iteration\n",
    "#                           sg = 1                                                                       #  if 1, use skp-gram, 0 use cbow\n",
    "#                           )"
   ]
  },
  {
   "cell_type": "code",
   "execution_count": 0,
   "metadata": {
    "colab": {},
    "colab_type": "code",
    "id": "WQ6-abhkOzSh"
   },
   "outputs": [],
   "source": [
    "wv_name = 'w2v_all_without'\n",
    "# wv_name = 'w2v_all_lem'\n",
    "# wv_name = 'w2v_all'\n",
    "# model.save(os.path.join(data_path, wv_name))\n",
    "# !mkdir /content/drive/My\\ Drive/hw4/\n",
    "# !cp  w2v_all*  /content/drive/My\\ Drive/hw4/"
   ]
  },
  {
   "cell_type": "code",
   "execution_count": 0,
   "metadata": {
    "colab": {
     "base_uri": "https://localhost:8080/",
     "height": 70
    },
    "colab_type": "code",
    "executionInfo": {
     "elapsed": 24629,
     "status": "ok",
     "timestamp": 1586583228405,
     "user": {
      "displayName": "KD Lin",
      "photoUrl": "",
      "userId": "07150804307204552996"
     },
     "user_tz": -480
    },
    "id": "9QHFsJ3AJD5_",
    "outputId": "6ca7e5d6-1da9-48e3-e221-b8a963893351"
   },
   "outputs": [
    {
     "name": "stderr",
     "output_type": "stream",
     "text": [
      "/usr/local/lib/python3.6/dist-packages/smart_open/smart_open_lib.py:410: UserWarning: This function is deprecated, use smart_open.open instead. See the migration notes for details: https://github.com/RaRe-Technologies/smart_open/blob/master/README.rst#migrating-to-the-new-open-function\n",
      "  'See the migration notes for details: %s' % _MIGRATION_NOTES_URL\n"
     ]
    }
   ],
   "source": [
    "# load word2vec model\n",
    "!cp /content/drive/My\\ Drive/hw4/w2v_all* ./\n",
    "w2v_path = os.path.join(data_path, wv_name)\n",
    "w2v_model = Word2Vec.load(w2v_path)"
   ]
  },
  {
   "cell_type": "code",
   "execution_count": 0,
   "metadata": {
    "colab": {
     "base_uri": "https://localhost:8080/",
     "height": 121
    },
    "colab_type": "code",
    "executionInfo": {
     "elapsed": 24607,
     "status": "ok",
     "timestamp": 1586583228407,
     "user": {
      "displayName": "KD Lin",
      "photoUrl": "",
      "userId": "07150804307204552996"
     },
     "user_tz": -480
    },
    "id": "AFbb0aGZJ6Cs",
    "outputId": "4949a742-72a2-4de9-cc51-828f855a7cb0"
   },
   "outputs": [
    {
     "name": "stderr",
     "output_type": "stream",
     "text": [
      "/usr/local/lib/python3.6/dist-packages/ipykernel_launcher.py:4: DeprecationWarning: Call to deprecated `__getitem__` (Method will be removed in 4.0.0, use self.wv.__getitem__() instead).\n",
      "  after removing the cwd from sys.path.\n",
      "/usr/local/lib/python3.6/dist-packages/ipykernel_launcher.py:8: DeprecationWarning: Call to deprecated `__getitem__` (Method will be removed in 4.0.0, use self.wv.__getitem__() instead).\n",
      "  \n"
     ]
    },
    {
     "name": "stdout",
     "output_type": "stream",
     "text": [
      "(250,)\n"
     ]
    }
   ],
   "source": [
    "# map word to idx, idx to vector\n",
    "word2idx = {}\n",
    "idx2word = []\n",
    "embedding_matrix = []\n",
    "print(w2v_model['wtf'].shape)\n",
    "for word in w2v_model.wv.vocab:\n",
    "    idx2word.append(word)\n",
    "    word2idx[word] = len(idx2word)-1\n",
    "    embedding_matrix.append(w2v_model[word])\n",
    "\n",
    "# add <PAD> and <UNK> \n",
    "word  = '<PAD>'\n",
    "idx2word.append(word)\n",
    "word2idx[word] = len(idx2word)-1\n",
    "embedding_matrix.append(np.random.uniform(0,1,emb_dim))\n",
    "word  = '<UNK>'\n",
    "idx2word.append(word)\n",
    "word2idx[word] = len(idx2word)-1\n",
    "embedding_matrix.append(np.random.uniform(0,1,emb_dim))\n",
    "\n",
    "# embedding_matrix = np.concatenate(embedding_matrix)"
   ]
  },
  {
   "cell_type": "code",
   "execution_count": 0,
   "metadata": {
    "colab": {},
    "colab_type": "code",
    "id": "pBQGspvjco6T"
   },
   "outputs": [],
   "source": [
    "emb_matrix = np.zeros((len(embedding_matrix), emb_dim))\n",
    "for i in range(emb_matrix.shape[0]):\n",
    "    emb_matrix[i, :] = embedding_matrix[i][:]"
   ]
  },
  {
   "cell_type": "markdown",
   "metadata": {
    "colab_type": "text",
    "id": "4PHSbMStT-2W"
   },
   "source": [
    "sentense to ldx list 需要规整句子长度，查看长度分布，定义长度。"
   ]
  },
  {
   "cell_type": "code",
   "execution_count": 0,
   "metadata": {
    "colab": {
     "base_uri": "https://localhost:8080/",
     "height": 513
    },
    "colab_type": "code",
    "executionInfo": {
     "elapsed": 25932,
     "status": "ok",
     "timestamp": 1586583229843,
     "user": {
      "displayName": "KD Lin",
      "photoUrl": "",
      "userId": "07150804307204552996"
     },
     "user_tz": -480
    },
    "id": "PNxlTfj5UNl7",
    "outputId": "b8a87ff8-f120-46f8-eafc-2f16538fcb19"
   },
   "outputs": [
    {
     "data": {
      "image/png": "[encoded data removed]",
      "text/plain": [
       "<Figure size 432x288 with 1 Axes>"
      ]
     },
     "metadata": {
      "needs_background": "light",
      "tags": []
     },
     "output_type": "display_data"
    },
    {
     "data": {
      "image/png": "[encoded data removed]",
      "text/plain": [
       "<Figure size 432x288 with 1 Axes>"
      ]
     },
     "metadata": {
      "needs_background": "light",
      "tags": []
     },
     "output_type": "display_data"
    }
   ],
   "source": [
    "from matplotlib import pyplot as plt\n",
    "def show_ditribution(data):\n",
    "    '''\n",
    "    show data ditribution\n",
    "    '''\n",
    "    n = len(data)\n",
    "    plt.plot(range(n),data)\n",
    "    plt.show()\n",
    "    plt.plot(range(n),np.sort(data))\n",
    "    plt.show()\n",
    "\n",
    "show_ditribution([len(sen) for sen in train_data])"
   ]
  },
  {
   "cell_type": "code",
   "execution_count": 0,
   "metadata": {
    "colab": {},
    "colab_type": "code",
    "id": "Sfbq0f1NTBx0"
   },
   "outputs": [],
   "source": [
    "len_sentence = 20\n",
    "def data_preprocess(train_data, train_label = None, word2idx = None, len_sentence = 20):\n",
    "    train_x = np.empty((len(train_data), len_sentence))\n",
    "    \n",
    "    for i,sentence in enumerate(train_data):\n",
    "            sen_len = len(sentence)\n",
    "            for j in range(len_sentence):\n",
    "                if j >= sen_len:\n",
    "                    train_x[i,j] = word2idx['<PAD>']\n",
    "                    continue\n",
    "                word = sentence[j]\n",
    "                if word in word2idx.keys():\n",
    "                    train_x[i,j] = word2idx[word]\n",
    "                else:\n",
    "                    train_x[i,j] = word2idx['<UNK>']\n",
    "    \n",
    "    # print(\"==train_x\")\n",
    "    # print(train_x[:10])\n",
    "    # print(\"size: {}\".format(train_x.shape))\n",
    "    # print(train_y[:10])\n",
    "\n",
    "    if train_label is not None:\n",
    "        train_y = np.array(train_label)\n",
    "        return train_x, train_y\n",
    "    else:\n",
    "        return train_x\n"
   ]
  },
  {
   "cell_type": "code",
   "execution_count": 0,
   "metadata": {
    "colab": {},
    "colab_type": "code",
    "id": "W40SQlqHKfhl"
   },
   "outputs": [],
   "source": [
    "train_x, train_y = data_preprocess(train_data, train_label, word2idx, 20)\n",
    "val_x = train_x[18000:]\n",
    "val_y = train_y[18000:]\n",
    "train_x = train_x[:18000]\n",
    "train_y = train_y[:18000]"
   ]
  },
  {
   "cell_type": "markdown",
   "metadata": {
    "colab_type": "text",
    "id": "-e6BBMubvI8T"
   },
   "source": [
    "## 1.3 Extend Dataset"
   ]
  },
  {
   "cell_type": "code",
   "execution_count": 0,
   "metadata": {
    "colab": {},
    "colab_type": "code",
    "id": "ri0wJ4d4vf8_"
   },
   "outputs": [],
   "source": [
    "from torch.utils import data\n",
    "class Dataset(data.Dataset):\n",
    "    def __init__(self, x, y=None):\n",
    "        self.x = x\n",
    "        self.y = y\n",
    "    def __getitem__(self, i):\n",
    "        # if self.y is not None:\n",
    "        #     return torch.LongTensor(self.x[i, :]), torch.LongTensor(self.y[i])\n",
    "        # return torch.LongTensor(self.x[i, :])\n",
    "        if self.y is not None:\n",
    "            return self.x[i, :], self.y[i]\n",
    "        return self.x[i, :]\n",
    "    def __len__(self):\n",
    "        return len(self.x)"
   ]
  },
  {
   "cell_type": "code",
   "execution_count": 0,
   "metadata": {
    "colab": {},
    "colab_type": "code",
    "id": "-DuYIv0GNhXt"
   },
   "outputs": [],
   "source": [
    "batch_size = 128\n",
    "train_set = Dataset(train_x, train_y)\n",
    "val_set = Dataset(val_x, val_y)\n",
    "\n",
    "train_loader = torch.utils.data.DataLoader(dataset = train_set,\n",
    "                                            batch_size = batch_size,\n",
    "                                            shuffle = True,\n",
    "                                            num_workers = 8)\n",
    "\n",
    "val_loader = torch.utils.data.DataLoader(dataset = val_set,\n",
    "                                            batch_size = batch_size,\n",
    "                                            shuffle = False,\n",
    "                                            num_workers = 8)"
   ]
  },
  {
   "cell_type": "markdown",
   "metadata": {
    "colab_type": "text",
    "id": "FYwpIEVNcxZQ"
   },
   "source": [
    "# 2. Model\n",
    "\n",
    "构建模型，主要是embedding层注意一下即可。\n",
    "\n",
    "另外，pytorch里的LSTM参数很多，尤其是输入，输出，理解起来比较难。\n",
    "\n",
    "````python\n",
    "Inputs: input, (h_0, c_0)\n",
    "    input of shape (seq_len, batch, input_size)\n",
    "    h_0 of shape (num_layers * num_directions, batch, hidden_size)\n",
    "    c_0 of shape (num_layers * num_directions, batch, hidden_size)\n",
    "Outputs: output, (h_n, c_n)\n",
    "    output of shape (seq_len, batch, num_directions * hidden_size)\n",
    "    h_n of shape (num_layers * num_directions, batch, hidden_size)\n",
    "    c_n of shape (num_layers * num_directions, batch, hidden_size)\n",
    "````\n",
    "结合这个图，按照batch_first理解，即input为（batch, 序列长, 输入维度），忽略batch，都视为1个sample。所以输入是一个矩形（序列长度，输入维度），输出是一个矩形（序列长度，输出维度）。如果是双向，则输出维度x2.\n",
    "\n",
    "然后是c，h，c和h的维度是一致的，为单个LSTM单元的输出，pytorch可以指定初始c，h，得到所有输出c，h。同样，batch_first，忽略batch，则每个LSTM单元的输出为（输出维度），n层LSTM输出维度为（层数，输出维度），所以同样都是矩形。\n",
    "\n",
    "输入如果不指定c_0，h_0则默认为0.\n",
    "![](https://pic4.zhimg.com/80/v2-ebf8cd2faa564d9d80a958dcf25e6b3b_720w.jpg)\n",
    "\n"
   ]
  },
  {
   "cell_type": "code",
   "execution_count": 0,
   "metadata": {
    "colab": {},
    "colab_type": "code",
    "id": "D4itqdAlWvZ1"
   },
   "outputs": [],
   "source": [
    "import torch.nn as nn\n",
    "import torch"
   ]
  },
  {
   "cell_type": "code",
   "execution_count": 0,
   "metadata": {
    "colab": {},
    "colab_type": "code",
    "id": "H3w5rpA-a3yi"
   },
   "outputs": [],
   "source": [
    "\n",
    "class lstm_model(nn.Module):\n",
    "    def __init__(self, embedding_matrix, trainable_embedding = False):\n",
    "        super(lstm_model,self).__init__()\n",
    "        self.dim_emb =  embedding_matrix.shape[1]\n",
    "        self.embedding = nn.Embedding(embedding_matrix.shape[0], self.dim_emb )\n",
    "        self.embedding.weight = nn.Parameter(torch.Tensor(embedding_matrix))\n",
    "        self.embedding.weight.requires_grad = trainable_embedding\n",
    "        self.lstm_layers = nn.LSTM(self.dim_emb, 256, num_layers = 1, batch_first = True)\n",
    "        self.dnn = nn.Sequential(\n",
    "                        nn.Dropout(0.5),\n",
    "                        nn.Linear(256, 1),\n",
    "                        nn.Sigmoid()\n",
    "        )\n",
    "    def forward(self, x):\n",
    "        out = self.embedding(x)\n",
    "        out,_ = self.lstm_layers(out)\n",
    "        out = out[:, -1, :] # 输出默认为sequence，使用最后一个time step的输出, (none，output_dim)，不需要再flatten\n",
    "        return self.dnn(out)\n",
    "        "
   ]
  },
  {
   "cell_type": "markdown",
   "metadata": {
    "colab_type": "text",
    "id": "MVtly6EbK9VH"
   },
   "source": [
    "# 3. Training\n",
    "\n",
    "````python\n",
    "for epoch\n",
    "    for x_batch in train_data\n",
    "        # forward\n",
    "        pred_batch <- model.predict(x_batch)\n",
    "        loss_batch <- loss_function(pred_batch, y_batch)\n",
    "\n",
    "        # backward\n",
    "        optim: gradient descent\n",
    "\n",
    "        # record log\n",
    "        acc += calculate batch acc (pred_batch, y_batch)\n",
    "        loss += loss_batch\n",
    "\n",
    "    calculate val loss & acc\n",
    "````"
   ]
  },
  {
   "cell_type": "code",
   "execution_count": 0,
   "metadata": {
    "colab": {},
    "colab_type": "code",
    "id": "WkdDYT15aP_6"
   },
   "outputs": [],
   "source": [
    "import time\n",
    "import torch"
   ]
  },
  {
   "cell_type": "code",
   "execution_count": 0,
   "metadata": {
    "colab": {
     "base_uri": "https://localhost:8080/",
     "height": 591
    },
    "colab_type": "code",
    "executionInfo": {
     "elapsed": 155895,
     "status": "ok",
     "timestamp": 1586583359937,
     "user": {
      "displayName": "KD Lin",
      "photoUrl": "",
      "userId": "07150804307204552996"
     },
     "user_tz": -480
    },
    "id": "zjqrDICKYa7k",
    "outputId": "29033f13-94c4-42da-89e4-c1bc10874fd6"
   },
   "outputs": [
    {
     "name": "stderr",
     "output_type": "stream",
     "text": [
      "/usr/local/lib/python3.6/dist-packages/torch/nn/modules/loss.py:498: UserWarning: Using a target size (torch.Size([128])) that is different to the input size (torch.Size([128, 1])) is deprecated. Please ensure they have the same size.\n",
      "  return F.binary_cross_entropy(input, target, weight=self.weight, reduction=self.reduction)\n",
      "/usr/local/lib/python3.6/dist-packages/torch/nn/modules/loss.py:498: UserWarning: Using a target size (torch.Size([80])) that is different to the input size (torch.Size([80, 1])) is deprecated. Please ensure they have the same size.\n",
      "  return F.binary_cross_entropy(input, target, weight=self.weight, reduction=self.reduction)\n",
      "/usr/local/lib/python3.6/dist-packages/torch/nn/modules/loss.py:498: UserWarning: Using a target size (torch.Size([112])) that is different to the input size (torch.Size([112, 1])) is deprecated. Please ensure they have the same size.\n",
      "  return F.binary_cross_entropy(input, target, weight=self.weight, reduction=self.reduction)\n"
     ]
    },
    {
     "name": "stdout",
     "output_type": "stream",
     "text": [
      "[001/020] 6.11 sec(s) Train Acc: 0.601222 Loss: 0.005044 | Val Acc: 0.751066 loss: 0.003998\n",
      "Saving with acc : 0.751065934065934\n"
     ]
    },
    {
     "name": "stderr",
     "output_type": "stream",
     "text": [
      "/usr/local/lib/python3.6/dist-packages/torch/serialization.py:360: UserWarning: Couldn't retrieve source code for container of type lstm_model. It won't be checked for correctness upon loading.\n",
      "  \"type \" + obj.__name__ + \". It won't be checked \"\n"
     ]
    },
    {
     "name": "stdout",
     "output_type": "stream",
     "text": [
      "[002/020] 6.69 sec(s) Train Acc: 0.756222 Loss: 0.003872 | Val Acc: 0.774412 loss: 0.003691\n",
      "Saving with acc : 0.7744120879120879\n",
      "[003/020] 6.07 sec(s) Train Acc: 0.780500 Loss: 0.003606 | Val Acc: 0.776824 loss: 0.003635\n",
      "Saving with acc : 0.7768241758241758\n",
      "[004/020] 5.91 sec(s) Train Acc: 0.789444 Loss: 0.003485 | Val Acc: 0.779835 loss: 0.003686\n",
      "Saving with acc : 0.7798351648351648\n",
      "[005/020] 6.46 sec(s) Train Acc: 0.798278 Loss: 0.003357 | Val Acc: 0.779379 loss: 0.003596\n",
      "[006/020] 6.39 sec(s) Train Acc: 0.803667 Loss: 0.003301 | Val Acc: 0.783863 loss: 0.003565\n",
      "Saving with acc : 0.7838626373626374\n",
      "[007/020] 5.88 sec(s) Train Acc: 0.812278 Loss: 0.003157 | Val Acc: 0.781104 loss: 0.003619\n",
      "[008/020] 5.90 sec(s) Train Acc: 0.825278 Loss: 0.003007 | Val Acc: 0.778819 loss: 0.003711\n",
      "[009/020] 6.54 sec(s) Train Acc: 0.834556 Loss: 0.002854 | Val Acc: 0.775390 loss: 0.003870\n",
      "[010/020] 6.54 sec(s) Train Acc: 0.849000 Loss: 0.002622 | Val Acc: 0.770659 loss: 0.003931\n",
      "[011/020] 6.64 sec(s) Train Acc: 0.864778 Loss: 0.002427 | Val Acc: 0.773154 loss: 0.004453\n",
      "[012/020] 6.59 sec(s) Train Acc: 0.882833 Loss: 0.002102 | Val Acc: 0.761819 loss: 0.004590\n",
      "[013/020] 6.74 sec(s) Train Acc: 0.905889 Loss: 0.001802 | Val Acc: 0.761473 loss: 0.005177\n",
      "[014/020] 6.49 sec(s) Train Acc: 0.923722 Loss: 0.001499 | Val Acc: 0.758621 loss: 0.006045\n",
      "[015/020] 6.62 sec(s) Train Acc: 0.940056 Loss: 0.001211 | Val Acc: 0.748522 loss: 0.006630\n",
      "[016/020] 6.29 sec(s) Train Acc: 0.956667 Loss: 0.000914 | Val Acc: 0.749176 loss: 0.007390\n",
      "[017/020] 6.62 sec(s) Train Acc: 0.965333 Loss: 0.000753 | Val Acc: 0.754577 loss: 0.007793\n",
      "[018/020] 6.63 sec(s) Train Acc: 0.972611 Loss: 0.000606 | Val Acc: 0.745165 loss: 0.008343\n",
      "[019/020] 6.62 sec(s) Train Acc: 0.981944 Loss: 0.000424 | Val Acc: 0.751604 loss: 0.009453\n",
      "[020/020] 6.61 sec(s) Train Acc: 0.984556 Loss: 0.000367 | Val Acc: 0.745418 loss: 0.010113\n"
     ]
    }
   ],
   "source": [
    "def cal_acc(pred_b, y_b):\n",
    "    output_b = pred_b.cpu().detach().numpy().reshape(-1)\n",
    "    output_b[output_b>=0.5] = 1\n",
    "    output_b[output_b < 0.5] = 0\n",
    "    output_b = output_b.astype(np.int32)\n",
    "    return np.sum(output_b == y_b.numpy())\n",
    "\n",
    "learning_rate = 0.001\n",
    "num_epoch = 20\n",
    "device = torch.device(\"cuda\" if torch.cuda.is_available() else \"cpu\")\n",
    "path = './'\n",
    "\n",
    "model = lstm_model(emb_matrix).to(device)\n",
    "optimizer = torch.optim.Adam(model.parameters(), lr = learning_rate) \n",
    "loss_func = nn.BCELoss()\n",
    "logs = {'time':[], 'train_loss':[], 'train_acc':[], 'val_acc':[], 'val_loss':[]}\n",
    "best_epochs = []\n",
    "best_acc = 0\n",
    "for epoch in range(num_epoch):\n",
    "    time_epoch_start = time.time()\n",
    "    train_acc = 0.0 \n",
    "    train_loss = 0.0\n",
    "    model.train()\n",
    "    for i, (x_b, y_b) in enumerate(train_loader):\n",
    "        # forward\n",
    "        optimizer.zero_grad() \n",
    "        pred_b = model(x_b.to(device, dtype = torch.long)) # torch的特点，需要将数据设置到gpu上\n",
    "        loss_b = loss_func(pred_b, y_b.to(device, dtype = torch.float))\n",
    "        # backward\n",
    "        loss_b.backward()\n",
    "        optimizer.step()\n",
    "        # log\n",
    "        train_acc += cal_acc(pred_b, y_b)\n",
    "        train_loss += loss_b.item()\n",
    "   # calculate val acc and loss\n",
    "    model.eval()\n",
    "    val_acc = 0.0\n",
    "    val_loss = 0.0\n",
    "    with torch.no_grad():\n",
    "        for i,(x_b, y_b) in enumerate(val_loader):\n",
    "            pred_b = model(x_b.to(device, dtype = torch.long))\n",
    "            loss_b = loss_func(pred_b, y_b.to(device, dtype = torch.float))\n",
    "            val_acc += cal_acc(pred_b, y_b)\n",
    "            val_loss += loss_b.item()\n",
    "    # print log\n",
    "    logs['time'].append(time.time()-time_epoch_start)\n",
    "    logs['train_acc'].append(train_acc/train_set.__len__())\n",
    "    logs['train_loss'].append(train_loss/train_set.__len__())\n",
    "    logs['val_acc'].append(val_acc/val_set.__len__())\n",
    "    logs['val_loss'].append(val_loss/val_set.__len__()) \n",
    "    \n",
    "    print('[%03d/%03d] %2.2f sec(s) Train Acc: %3.6f Loss: %3.6f | Val Acc: %3.6f loss: %3.6f' % \\\n",
    "            (epoch + 1, num_epoch,  logs['time'][-1], \\\n",
    "            logs['train_acc'][-1] , logs['train_loss'][-1], logs['val_acc'][-1], logs['val_loss'][-1])) \n",
    "    # save best model\n",
    "    # notes： early stop\n",
    "    if val_acc > best_acc:\n",
    "        best_acc = val_acc\n",
    "        best_epochs.append(epoch)\n",
    "        torch.save(model, os.path.join(path, 'best.model'))\n",
    "        print(\"Saving with acc : {}\".format(logs['val_acc'][-1]))\n",
    "    "
   ]
  },
  {
   "cell_type": "code",
   "execution_count": 0,
   "metadata": {
    "colab": {
     "base_uri": "https://localhost:8080/",
     "height": 34
    },
    "colab_type": "code",
    "executionInfo": {
     "elapsed": 155879,
     "status": "ok",
     "timestamp": 1586583359939,
     "user": {
      "displayName": "KD Lin",
      "photoUrl": "",
      "userId": "07150804307204552996"
     },
     "user_tz": -480
    },
    "id": "3NGFTdbZpqEK",
    "outputId": "42b0c637-ea6e-4d71-855f-56389107c669"
   },
   "outputs": [
    {
     "data": {
      "text/plain": [
       "['are', 'wtf', '...', 'awww', 'thanks', '!']"
      ]
     },
     "execution_count": 109,
     "metadata": {
      "tags": []
     },
     "output_type": "execute_result"
    }
   ],
   "source": [
    "train_data[0]"
   ]
  },
  {
   "cell_type": "markdown",
   "metadata": {
    "colab_type": "text",
    "id": "m3-PNC5-Wrzc"
   },
   "source": [
    "无处理数据\n",
    "````\n",
    "[001/020] 6.22 sec(s) Train Acc: 0.577111 Loss: 0.005176 | Val Acc: 0.733516 loss: 0.004225\n",
    "Saving with acc : 0.0042251411809043566\n",
    "/usr/local/lib/python3.6/dist-packages/torch/serialization.py:360: UserWarning: Couldn't retrieve source code for container of type lstm_model. It won't be checked for correctness upon loading.\n",
    "  \"type \" + obj.__name__ + \". It won't be checked \"\n",
    "[002/020] 6.19 sec(s) Train Acc: 0.753889 Loss: 0.003981 | Val Acc: 0.763495 loss: 0.003845\n",
    "Saving with acc : 0.0038445410171707908\n",
    "[003/020] 6.18 sec(s) Train Acc: 0.774389 Loss: 0.003722 | Val Acc: 0.771890 loss: 0.003742\n",
    "Saving with acc : 0.0037423860882664774\n",
    "[004/020] 5.99 sec(s) Train Acc: 0.782167 Loss: 0.003582 | Val Acc: 0.747500 loss: 0.003972\n",
    "[005/020] 6.39 sec(s) Train Acc: 0.792333 Loss: 0.003466 | Val Acc: 0.779396 loss: 0.003628\n",
    "Saving with acc : 0.0036276583070610907\n",
    "[006/020] 6.38 sec(s) Train Acc: 0.802000 Loss: 0.003323 | Val Acc: 0.780951 loss: 0.003628\n",
    "Saving with acc : 0.003627572279546287\n",
    "[007/020] 6.30 sec(s) Train Acc: 0.811000 Loss: 0.003176 | Val Acc: 0.779802 loss: 0.003663\n",
    "[008/020] 6.25 sec(s) Train Acc: 0.820722 Loss: 0.003040 | Val Acc: 0.774808 loss: 0.003727\n",
    "[009/020] 6.09 sec(s) Train Acc: 0.830444 Loss: 0.002881 | Val Acc: 0.769989 loss: 0.003840\n",
    "[010/020] 6.28 sec(s) Train Acc: 0.849500 Loss: 0.002680 | Val Acc: 0.771621 loss: 0.003905\n",
    "[011/020] 6.60 sec(s) Train Acc: 0.864167 Loss: 0.002425 | Val Acc: 0.762593 loss: 0.004190\n",
    "[012/020] 5.92 sec(s) Train Acc: 0.880000 Loss: 0.002164 | Val Acc: 0.763824 loss: 0.004621\n",
    "[013/020] 6.35 sec(s) Train Acc: 0.901944 Loss: 0.001845 | Val Acc: 0.746473 loss: 0.005116\n",
    "[014/020] 5.91 sec(s) Train Acc: 0.919111 Loss: 0.001557 | Val Acc: 0.748291 loss: 0.005405\n",
    "[015/020] 6.34 sec(s) Train Acc: 0.934056 Loss: 0.001287 | Val Acc: 0.751000 loss: 0.006179\n",
    "[016/020] 6.33 sec(s) Train Acc: 0.952944 Loss: 0.001006 | Val Acc: 0.750341 loss: 0.006643\n",
    "[017/020] 6.10 sec(s) Train Acc: 0.961333 Loss: 0.000828 | Val Acc: 0.743890 loss: 0.007536\n",
    "[018/020] 6.02 sec(s) Train Acc: 0.967444 Loss: 0.000696 | Val Acc: 0.740676 loss: 0.008257\n",
    "[019/020] 5.97 sec(s) Train Acc: 0.978833 Loss: 0.000493 | Val Acc: 0.739808 loss: 0.008277\n",
    "[020/020] 6.48 sec(s) Train Acc: 0.985944 Loss: 0.000345 | Val Acc: 0.741335 loss: 0.009711\n",
    "````\n",
    "stopword and lemmatize\n",
    "\n",
    "````\n",
    "[002/020] 6.56 sec(s) Train Acc: 0.524556 Loss: 0.005401 | Val Acc: 0.500648 loss: 0.005383\n",
    "Saving with acc : 0.5006483516483516\n",
    "[003/020] 6.61 sec(s) Train Acc: 0.519611 Loss: 0.005416 | Val Acc: 0.514505 loss: 0.005399\n",
    "Saving with acc : 0.5145054945054945\n",
    "[004/020] 6.78 sec(s) Train Acc: 0.510944 Loss: 0.005426 | Val Acc: 0.513533 loss: 0.005419\n",
    "[005/020] 6.62 sec(s) Train Acc: 0.521333 Loss: 0.005421 | Val Acc: 0.514093 loss: 0.005400\n",
    "[006/020] 6.45 sec(s) Train Acc: 0.621667 Loss: 0.005070 | Val Acc: 0.708319 loss: 0.004523\n",
    "Saving with acc : 0.7083186813186814\n",
    "[007/020] 6.61 sec(s) Train Acc: 0.732889 Loss: 0.004248 | Val Acc: 0.747973 loss: 0.004009\n",
    "Saving with acc : 0.7479725274725275\n",
    "[008/020] 6.65 sec(s) Train Acc: 0.755611 Loss: 0.003969 | Val Acc: 0.756632 loss: 0.003949\n",
    "Saving with acc : 0.7566318681318681\n",
    "[009/020] 6.09 sec(s) Train Acc: 0.765944 Loss: 0.003807 | Val Acc: 0.761170 loss: 0.003840\n",
    "Saving with acc : 0.7611703296703297\n",
    "[010/020] 6.04 sec(s) Train Acc: 0.776500 Loss: 0.003702 | Val Acc: 0.757418 loss: 0.003863\n",
    "[011/020] 5.88 sec(s) Train Acc: 0.782000 Loss: 0.003625 | Val Acc: 0.762725 loss: 0.003822\n",
    "Saving with acc : 0.7627252747252747\n",
    "[012/020] 6.76 sec(s) Train Acc: 0.786111 Loss: 0.003564 | Val Acc: 0.759060 loss: 0.003862\n",
    "[013/020] 5.98 sec(s) Train Acc: 0.795500 Loss: 0.003448 | Val Acc: 0.753214 loss: 0.003969\n",
    "[014/020] 6.51 sec(s) Train Acc: 0.806056 Loss: 0.003327 | Val Acc: 0.759709 loss: 0.004027\n",
    "[015/020] 5.98 sec(s) Train Acc: 0.817278 Loss: 0.003174 | Val Acc: 0.754099 loss: 0.004141\n",
    "[016/020] 6.78 sec(s) Train Acc: 0.827889 Loss: 0.003053 | Val Acc: 0.740198 loss: 0.004076\n",
    "[017/020] 6.24 sec(s) Train Acc: 0.840889 Loss: 0.002830 | Val Acc: 0.738308 loss: 0.004236\n",
    "[018/020] 6.69 sec(s) Train Acc: 0.859667 Loss: 0.002600 | Val Acc: 0.740049 loss: 0.004642\n",
    "[019/020] 6.24 sec(s) Train Acc: 0.878056 Loss: 0.002363 | Val Acc: 0.728973 loss: 0.005339\n",
    "[020/020] 6.60 sec(s) Train Acc: 0.894278 Loss: 0.002109 | Val Acc: 0.736577 loss: 0.005142\n",
    "````"
   ]
  },
  {
   "cell_type": "markdown",
   "metadata": {
    "colab_type": "text",
    "id": "kj2gnFtTlvPY"
   },
   "source": [
    "only lematize\n",
    "\n",
    "````\n",
    "[002/020] 6.20 sec(s) Train Acc: 0.744833 Loss: 0.004122 | Val Acc: 0.762291 loss: 0.003953\n",
    "Saving with acc : 0.7622912087912088\n",
    "[003/020] 6.31 sec(s) Train Acc: 0.767500 Loss: 0.003845 | Val Acc: 0.769253 loss: 0.003753\n",
    "Saving with acc : 0.7692527472527473\n",
    "[004/020] 5.88 sec(s) Train Acc: 0.780278 Loss: 0.003646 | Val Acc: 0.773319 loss: 0.003708\n",
    "Saving with acc : 0.7733186813186813\n",
    "[005/020] 5.96 sec(s) Train Acc: 0.786500 Loss: 0.003551 | Val Acc: 0.773879 loss: 0.003673\n",
    "Saving with acc : 0.7738791208791209\n",
    "[006/020] 6.68 sec(s) Train Acc: 0.795833 Loss: 0.003400 | Val Acc: 0.771484 loss: 0.003692\n",
    "[007/020] 6.02 sec(s) Train Acc: 0.804778 Loss: 0.003307 | Val Acc: 0.775912 loss: 0.003695\n",
    "Saving with acc : 0.7759120879120879\n",
    "[008/020] 5.94 sec(s) Train Acc: 0.812889 Loss: 0.003190 | Val Acc: 0.778346 loss: 0.003694\n",
    "Saving with acc : 0.7783461538461538\n",
    "[009/020] 6.66 sec(s) Train Acc: 0.826389 Loss: 0.003014 | Val Acc: 0.771022 loss: 0.004065\n",
    "[010/020] 6.08 sec(s) Train Acc: 0.838667 Loss: 0.002835 | Val Acc: 0.771835 loss: 0.004120\n",
    "[011/020] 5.93 sec(s) Train Acc: 0.852278 Loss: 0.002624 | Val Acc: 0.756467 loss: 0.004178\n",
    "[012/020] 6.31 sec(s) Train Acc: 0.874167 Loss: 0.002345 | Val Acc: 0.759115 loss: 0.004357\n",
    "[013/020] 5.94 sec(s) Train Acc: 0.889667 Loss: 0.002035 | Val Acc: 0.760368 loss: 0.004817\n",
    "[014/020] 5.84 sec(s) Train Acc: 0.910444 Loss: 0.001735 | Val Acc: 0.756863 loss: 0.005646\n",
    "[015/020] 6.32 sec(s) Train Acc: 0.925667 Loss: 0.001460 | Val Acc: 0.746308 loss: 0.005780\n",
    "[016/020] 6.52 sec(s) Train Acc: 0.944111 Loss: 0.001153 | Val Acc: 0.741687 loss: 0.006552\n",
    "[017/020] 6.51 sec(s) Train Acc: 0.953556 Loss: 0.001004 | Val Acc: 0.745615 loss: 0.007161\n",
    "[018/020] 5.85 sec(s) Train Acc: 0.963333 Loss: 0.000794 | Val Acc: 0.744615 loss: 0.007531\n",
    "[019/020] 6.67 sec(s) Train Acc: 0.973389 Loss: 0.000588 | Val Acc: 0.744181 loss: 0.008812\n",
    "[020/020] 6.36 sec(s) Train Acc: 0.978778 Loss: 0.000494 | Val Acc: 0.737962 loss: 0.009193\n",
    "````"
   ]
  },
  {
   "cell_type": "code",
   "execution_count": 0,
   "metadata": {
    "colab": {
     "base_uri": "https://localhost:8080/",
     "height": 437
    },
    "colab_type": "code",
    "executionInfo": {
     "elapsed": 159559,
     "status": "ok",
     "timestamp": 1586583363656,
     "user": {
      "displayName": "KD Lin",
      "photoUrl": "",
      "userId": "07150804307204552996"
     },
     "user_tz": -480
    },
    "id": "m7GpqQuHWDbx",
    "outputId": "15dd047c-e69b-4ffb-b2a3-10948c7380f1"
   },
   "outputs": [
    {
     "name": "stdout",
     "output_type": "stream",
     "text": [
      "Requirement already satisfied: modelsummary in /usr/local/lib/python3.6/dist-packages (1.1.7)\n",
      "Requirement already satisfied: numpy in /usr/local/lib/python3.6/dist-packages (from modelsummary) (1.18.2)\n",
      "Requirement already satisfied: torch in /usr/local/lib/python3.6/dist-packages (from modelsummary) (1.4.0)\n",
      "Requirement already satisfied: tqdm in /usr/local/lib/python3.6/dist-packages (from modelsummary) (4.38.0)\n",
      "-----------------------------------------------------------------------\n",
      "             Layer (type)                Input Shape         Param #\n",
      "=======================================================================\n",
      "              Embedding-1                   [-1, 20]      13,944,500\n",
      "                    GRU-2              [-1, 20, 250]               0\n",
      "                Dropout-3                  [-1, 256]               0\n",
      "                 Linear-4                  [-1, 256]             257\n",
      "                Sigmoid-5                    [-1, 1]               0\n",
      "=======================================================================\n",
      "Total params: 13,944,757\n",
      "Trainable params: 257\n",
      "Non-trainable params: 13,944,500\n",
      "-----------------------------------------------------------------------\n",
      "13944500\n",
      "192000\n",
      "196608\n",
      "768\n",
      "768\n",
      "256\n",
      "1\n",
      "14334901\n"
     ]
    }
   ],
   "source": [
    "# notes：打印参数，summary\n",
    "!pip install modelsummary\n",
    "from modelsummary import summary\n",
    "summary(lstm_model(emb_matrix), torch.zeros((20,20), dtype = torch.long))\n",
    "sum_ = 0\n",
    "\n",
    "for p,n in zip(model.parameters(), model.state_dict()):\n",
    "    print(n, '||', p.numel())"
   ]
  },
  {
   "cell_type": "code",
   "execution_count": 0,
   "metadata": {
    "colab": {
     "base_uri": "https://localhost:8080/",
     "height": 515
    },
    "colab_type": "code",
    "executionInfo": {
     "elapsed": 159550,
     "status": "ok",
     "timestamp": 1586583363657,
     "user": {
      "displayName": "KD Lin",
      "photoUrl": "",
      "userId": "07150804307204552996"
     },
     "user_tz": -480
    },
    "id": "-9ICFK0YqsdW",
    "outputId": "5a2acab1-8f16-4d6a-d37a-5141cbd42a48"
   },
   "outputs": [
    {
     "data": {
      "image/png": "[encoded data removed]",
      "text/plain": [
       "<Figure size 432x288 with 1 Axes>"
      ]
     },
     "metadata": {
      "needs_background": "light",
      "tags": []
     },
     "output_type": "display_data"
    },
    {
     "data": {
      "image/png": "[encoded data removed]",
      "text/plain": [
       "<Figure size 432x288 with 1 Axes>"
      ]
     },
     "metadata": {
      "needs_background": "light",
      "tags": []
     },
     "output_type": "display_data"
    }
   ],
   "source": [
    "# 平滑函数\n",
    "def smooth_curve(points, factor = 0.9):\n",
    "    smoothed_points = []\n",
    "    for point in points:\n",
    "        if smoothed_points:\n",
    "            prev = smoothed_points[-1]\n",
    "            smoothed_points.append(prev * factor + point * (1 - factor))\n",
    "        else:\n",
    "            smoothed_points.append(point)\n",
    "    return smoothed_points\n",
    "\n",
    "from matplotlib import pyplot as plt\n",
    "smooth_factor = 0\n",
    "plt.plot(logs['train_loss'], label = 'train loss')\n",
    "plt.plot(smooth_curve(logs['val_loss'], smooth_factor), label = 'val loss')\n",
    "plt.legend()\n",
    "plt.show()\n",
    "plt.plot(logs['train_acc'], label = 'train acc')\n",
    "plt.plot(smooth_curve(logs['val_acc'], smooth_factor), label = 'val acc')\n",
    "plt.legend()\n",
    "plt.show()"
   ]
  },
  {
   "cell_type": "markdown",
   "metadata": {
    "colab_type": "text",
    "id": "1y_tUPC3fUIK"
   },
   "source": [
    "# 4. Testing\n"
   ]
  },
  {
   "cell_type": "code",
   "execution_count": 0,
   "metadata": {
    "colab": {
     "base_uri": "https://localhost:8080/",
     "height": 50
    },
    "colab_type": "code",
    "executionInfo": {
     "elapsed": 168376,
     "status": "ok",
     "timestamp": 1586583372495,
     "user": {
      "displayName": "KD Lin",
      "photoUrl": "",
      "userId": "07150804307204552996"
     },
     "user_tz": -480
    },
    "id": "k8drrpM1gnxw",
    "outputId": "3225b63a-dcec-4474-fc63-26e2243a6dae"
   },
   "outputs": [
    {
     "name": "stdout",
     "output_type": "stream",
     "text": [
      "save csv ...\n",
      "Finish Predicting\n"
     ]
    }
   ],
   "source": [
    "import pandas as pd\n",
    "device = torch.device(\"cuda\" if torch.cuda.is_available() else \"cpu\")\n",
    "test_data = load_data(data_path, 'testing_data.txt')\n",
    "test_x = data_preprocess(test_data, word2idx = word2idx, len_sentence = 20)\n",
    "test_set = Dataset(test_x)\n",
    "test_loader = torch.utils.data.DataLoader(dataset = test_set,\n",
    "                                            batch_size = batch_size,\n",
    "                                            shuffle = False,\n",
    "                                            num_workers = 8)\n",
    "\n",
    "model = torch.load(os.path.join(data_path, 'best.model'))\n",
    "\n",
    "model.eval()\n",
    "ret_output = []\n",
    "with torch.no_grad():\n",
    "    for i, inputs in enumerate(test_loader):\n",
    "        inputs = inputs.to(device, dtype=torch.long)\n",
    "        outputs = model(inputs)\n",
    "        outputs = outputs.squeeze()\n",
    "        outputs[outputs>=0.5] = 1 # 大於等於 0.5 為負面\n",
    "        outputs[outputs<0.5] = 0 # 小於 0.5 為正面\n",
    "        ret_output += outputs.int().tolist() \n",
    "tmp = pd.DataFrame({\"id\":[str(i) for i in range(len(test_x))],\"label\":ret_output})\n",
    "print(\"save csv ...\")\n",
    "tmp.to_csv(os.path.join(data_path, 'predict.csv'), index=False)\n",
    "print(\"Finish Predicting\")\n"
   ]
  },
  {
   "cell_type": "markdown",
   "metadata": {
    "colab_type": "text",
    "id": "9plmvlsU0si3"
   },
   "source": [
    "# 5. Sum-up\n",
    "\n",
    "不知道为什么， 参考示例代码写的，它的performer就是比我好不少。\n",
    "\n",
    "示例代码给的经验是，应该慢慢写慢慢封装代码，要不然后期修改起来相当麻烦。可以参考以下聚合代码。使用方法或者类进行封装。\n",
    "\n",
    "- 加载数据模块\n",
    "- 预处理模块，可以使用类封装，因为涉及到的东西比较多，类的层次更好\n",
    "- 模型，类封装\n",
    "- 训练，torch的train过程比较琐碎\n",
    "- 验证\n",
    "\n",
    "下面对上面的部分代码进行封装。方便后续实验。\n",
    "\n",
    "**更新**\n",
    "\n",
    "后面整理了以下，突然发现我的模型一点问题也没有……准确率和示例代码是差不多的。"
   ]
  },
  {
   "cell_type": "code",
   "execution_count": 0,
   "metadata": {
    "colab": {},
    "colab_type": "code",
    "id": "Bpx8bD_cd9C2"
   },
   "outputs": [],
   "source": [
    "def load_data(data_path, name):\n",
    "    y = None\n",
    "    # read\n",
    "    with open(os.path.join(data_path, name)) as f:\n",
    "        sentenses = f.readlines()\n",
    "        if name == 'testing_data.txt':\n",
    "            sentenses = sentenses[1:]\n",
    "            sentenses = [sen.split(',',1)[1] for sen in sentenses]\n",
    "        if name == 'training_label.txt':\n",
    "            y = [int(sen[0]) for sen in sentenses]\n",
    "            sentenses = [sen[10:] for sen in sentenses]\n",
    "            \n",
    "        sentences = [sen.strip('\\n').split() for sen in sentenses]\n",
    "    # deal with stopword and tense\n",
    "    \n",
    "    # def lemmatize(word):\n",
    "    #     wnl = WordNetLemmatizer()\n",
    "    #     word = wnl.lemmatize(word, 'n')\n",
    "    #     word = wnl.lemmatize(word, 'v')\n",
    "    #     word = wnl.lemmatize(word, 'a')\n",
    "    #     return word\n",
    "\n",
    "    x = []\n",
    "    stopword = set(stopwords.words('english'))\n",
    "    # # without stopword and lemmatize\n",
    "    x = [sen.split() for sen in sentenses]\n",
    "    # lemmatize\n",
    "    # for sentence in sentences:\n",
    "    #     x.append([lemmatize(word) for word in sentence])    \n",
    "\n",
    "    # stopword  & lemmatize\n",
    "    # for sentence in sentences:\n",
    "    #     x.append([lemmatize(word) for word in sentence if word not in stopword])\n",
    "    \n",
    "    if y:\n",
    "        return x,y\n",
    "    else:\n",
    "        return x\n",
    "\n",
    "class PreprocesserBOW():\n",
    "    '''\n",
    "    BOW preprocesser\n",
    "    '''\n",
    "    def __init__(self, data, max_len = 5000):\n",
    "        # count word frequency statistics\n",
    "        self.max_len = max_len\n",
    "        self.vocab_len = 0\n",
    "        word_freq = {}\n",
    "        self.word_idx = {}\n",
    "\n",
    "        for sentence in data:\n",
    "            for word in sentence:\n",
    "                if word in word_freq.keys():\n",
    "                    word_freq[word]+=1\n",
    "                else:\n",
    "                    word_freq[word] = 1\n",
    "        # select first max_len word sorted by frequency\n",
    "        word_freq = sorted(word_freq.items(), key = lambda item: item[1], reverse = True)\n",
    "        self.vocab_len = len(word_freq) if self.max_len > len(word_freq) else self.max_len\n",
    "        for word,_ in word_freq:\n",
    "            if len(self.word_idx) >= self.vocab_len:\n",
    "                break\n",
    "            self.word_idx[word] = len(self.word_idx)\n",
    "\n",
    "    def _to_bow(self, data, label = None):\n",
    "        # sentense to bow idx\n",
    "        x_bow = np.zeros((len(data), self.vocab_len), np.int32)\n",
    "        for i,sentence in enumerate(data):\n",
    "            for j,word in enumerate(sentence):\n",
    "                if word in self.word_idx.keys():\n",
    "                    x_bow[i, self.word_idx[word]] += 1      \n",
    "          \n",
    "        if label is not None:\n",
    "            y = np.array(label).reshape(-1).astype(np.int8)\n",
    "            return x_bow,y\n",
    "        return x_bow\n",
    "\n",
    "from torch.utils import data\n",
    "class Dataset(data.Dataset):\n",
    "    def __init__(self, x, y=None):\n",
    "        self.x = x\n",
    "        self.y = y\n",
    "    def __getitem__(self, i):\n",
    "        # if self.y is not None:\n",
    "        #     return torch.LongTensor(self.x[i, :]), torch.LongTensor(self.y[i])\n",
    "        # return torch.LongTensor(self.x[i, :])\n",
    "        if self.y is not None:\n",
    "            return self.x[i, :], self.y[i]\n",
    "        return self.x[i, :]\n",
    "    def __len__(self):\n",
    "        return len(self.x)\n",
    "\n",
    "from torch import nn\n",
    "class bow_model(nn.Module):\n",
    "    def __init__(self):\n",
    "        super(bow_model,self).__init__()\n",
    "        self.dnn = nn.Sequential( nn.Linear(3000, 512),\n",
    "                                         nn.ReLU(),\n",
    "                                         nn.Dropout(0.5),\n",
    "                                         nn.Linear(512, 128),\n",
    "                                         nn.ReLU(),\n",
    "                                         nn.Dropout(0.5),\n",
    "                                         nn.Linear(128, 1),\n",
    "                                         nn.Sigmoid() )\n",
    "    def forward(self, x):\n",
    "        out = self.dnn(x)\n",
    "        return out\n",
    "\n",
    "import time\n",
    "\n",
    "def training(model, train_loader, val_loader, device, num_epoch = 5, data_path = './',learning_rate = 0.001):\n",
    "    def cal_acc(pred_b, y_b):\n",
    "        output_b = pred_b.cpu().detach().numpy().reshape(-1)\n",
    "        output_b[output_b>=0.5] = 1\n",
    "        output_b[output_b < 0.5] = 0\n",
    "        output_b = output_b.astype(np.int32)\n",
    "        return np.sum(output_b == y_b.numpy())\n",
    "\n",
    "    device = torch.device(\"cuda\" if torch.cuda.is_available() else \"cpu\")\n",
    "\n",
    "    optimizer = torch.optim.Adam(model.parameters(), lr = learning_rate) \n",
    "    loss_func = nn.BCELoss()\n",
    "    logs = {'time':[], 'train_loss':[], 'train_acc':[], 'val_acc':[], 'val_loss':[]}\n",
    "    best_epochs = []\n",
    "    best_acc = 0\n",
    "    for epoch in range(num_epoch):\n",
    "        time_epoch_start = time.time()\n",
    "        train_acc = 0.0 \n",
    "        train_loss = 0.0\n",
    "        model.train()\n",
    "        for i, (x_b, y_b) in enumerate(train_loader):\n",
    "            # forward\n",
    "            optimizer.zero_grad() \n",
    "            pred_b = model(x_b.to(device, dtype = torch.float)) # torch的特点，需要将数据设置到gpu上\n",
    "            loss_b = loss_func(pred_b, y_b.to(device, dtype = torch.float))\n",
    "            # backward\n",
    "            loss_b.backward()\n",
    "            optimizer.step()\n",
    "            # log\n",
    "            train_acc += cal_acc(pred_b, y_b)\n",
    "            train_loss += loss_b.item()\n",
    "    # calculate val acc and loss\n",
    "        model.eval()\n",
    "        val_acc = 0.0\n",
    "        val_loss = 0.0\n",
    "        with torch.no_grad():\n",
    "            for i,(x_b, y_b) in enumerate(val_loader):\n",
    "                pred_b = model(x_b.to(device, dtype = torch.float))\n",
    "                loss_b = loss_func(pred_b, y_b.to(device, dtype = torch.float))\n",
    "                val_acc += cal_acc(pred_b, y_b)\n",
    "                val_loss += loss_b.item()\n",
    "        # print log\n",
    "        logs['time'].append(time.time()-time_epoch_start)\n",
    "        logs['train_acc'].append(train_acc/train_set.__len__())\n",
    "        logs['train_loss'].append(train_loss/train_set.__len__())\n",
    "        logs['val_acc'].append(val_acc/val_set.__len__())\n",
    "        logs['val_loss'].append(val_loss/val_set.__len__()) \n",
    "        # notes：打印logs\n",
    "        # print(\"Valid | Loss:{:.5f} Acc: {:.3f} \".format(total_loss/v_batch, total_acc/v_batch*100))\n",
    "        print('[%03d/%03d] %2.2f sec(s) Train Acc: %3.6f Loss: %3.6f | Val Acc: %3.6f loss: %3.6f' % \\\n",
    "                (epoch + 1, num_epoch,  logs['time'][-1], \\\n",
    "                logs['train_acc'][-1] , logs['train_loss'][-1], logs['val_acc'][-1], logs['val_loss'][-1])) \n",
    "        # save best model\n",
    "        if val_acc > best_acc:\n",
    "            best_acc = val_acc\n",
    "            best_epochs.append(epoch)\n",
    "            torch.save(model, os.path.join(data_path, 'best_bow.model'))\n",
    "            print(\"Saving with acc : {}\".format(logs['val_acc'][-1]))\n",
    "    return logs\n",
    "\n",
    "\n",
    "def show_logs(logs, smooth_factor = 0):\n",
    "    # 平滑函数\n",
    "    def smooth_curve(points, factor = 0.9):\n",
    "        smoothed_points = []\n",
    "        for point in points:\n",
    "            if smoothed_points:\n",
    "                prev = smoothed_points[-1]\n",
    "                smoothed_points.append(prev * factor + point * (1 - factor))\n",
    "            else:\n",
    "                smoothed_points.append(point)\n",
    "        return smoothed_points\n",
    "\n",
    "    from matplotlib import pyplot as plt\n",
    "    smooth_factor = 0\n",
    "    plt.plot(logs['train_loss'], label = 'train loss')\n",
    "    plt.plot(smooth_curve(logs['val_loss'], smooth_factor), label = 'val loss')\n",
    "    plt.legend()\n",
    "    plt.show()\n",
    "    plt.plot(logs['train_acc'], label = 'train acc')\n",
    "    plt.plot(smooth_curve(logs['val_acc'], smooth_factor), label = 'val acc')\n",
    "    plt.legend()\n",
    "    plt.show()\n"
   ]
  },
  {
   "cell_type": "markdown",
   "metadata": {
    "colab_type": "text",
    "id": "hWgNvAcPNVPa"
   },
   "source": [
    "# 6. 实验\n",
    "1. (1%) 請說明你實作的 RNN 的模型架構、word embedding 方法、訓練過程 (learning curve) 和準確率為何？ (盡量是過 public strong baseline 的 model)\n",
    "2. (2%) 請比較 BOW + DNN 與 RNN 兩種不同 model 對於 \"today is a good day, but it is hot\" 與 \"today is hot, but it is a good day\" 這兩句的分數 (過 softmax 後的數值)，並討論造成差異的原因。 \n",
    "3. (1%) 請敘述你如何 improve performance（preprocess、embedding、架構等等），並解釋為何這些做法可以使模型進步，並列出準確率與 improve 前的差異。（semi-supervised 的部分請在下題回答）\n",
    "4. (2%) 請描述你的semi-supervised方法是如何標記label，並比較有無semi-supervised training對準確率的影響並試著探討原因（因為 semi-supervise learning 在 labeled training data 數量較少時，比較能夠發揮作用，所以在實作本題時，建議把有 label 的training data從 20 萬筆減少到 2 萬筆以下，在這樣的實驗設定下，比較容易觀察到semi-supervise learning所帶來的幫助）\n"
   ]
  },
  {
   "cell_type": "markdown",
   "metadata": {
    "colab_type": "text",
    "id": "OzuIWax-Nu5K"
   },
   "source": [
    "\n",
    "## 6.1 RNN模型架构和实验结果\n",
    "\n",
    "\n",
    "使用的是示例代码中的实现，kaggle上最佳结果是81.2%，没有过strong basline。\n",
    "模型结构如下， 可训练参数为100w左右。参数来源如下\n",
    "\n",
    "- Embedding，50000 word x 250 dim = 100w\n",
    "- LSTM， 参数量和 输入维度 x 输出维度 成正相关\n",
    "- 全连接，参数量为 输入维度 x 输出维度\n",
    "\n",
    "可训练参数大部分来自与LSTM，大概每层25w左右。\n",
    "\n",
    "````\n",
    "LSTM_Net(\n",
    "  (embedding): Embedding(55779, 250)\n",
    "  (lstm): LSTM(250, 256, num_layers=2, batch_first=True, dropout=0.5)\n",
    "  (classifier): Sequential(\n",
    "    (0): Dropout(p=0.5, inplace=False)\n",
    "    (1): Linear(in_features=256, out_features=512, bias=True)\n",
    "    (2): ReLU()\n",
    "    (3): Linear(in_features=512, out_features=1, bias=True)\n",
    "    (4): Sigmoid()\n",
    "  )\n",
    ")\n",
    "parameter total:15123375, trainable:1178625\n",
    "````\n",
    "\n"
   ]
  },
  {
   "cell_type": "markdown",
   "metadata": {
    "colab_type": "text",
    "id": "d7K8WpZNS_r3"
   },
   "source": [
    "## 6.2 BOW + DNN model\n"
   ]
  },
  {
   "cell_type": "markdown",
   "metadata": {
    "colab_type": "text",
    "id": "MvGLPAUAc7Zr"
   },
   "source": [
    "\n",
    "### 6.2.1 bag of word\n",
    "bag of word，思想很简单，和one-hot编码类似，但它每个位置上不再是1，而是单词在句子中出现的次数。\n",
    "\n",
    "步骤如下：\n",
    "\n",
    "- 获取单词集合，如果词量太大，可能需要统计词频，截取字典\n",
    "- 转换trian，test，val set to bow\n"
   ]
  },
  {
   "cell_type": "code",
   "execution_count": 0,
   "metadata": {
    "colab": {},
    "colab_type": "code",
    "id": "Z_TaFQ2adnSD"
   },
   "outputs": [],
   "source": [
    "data_path = './'\n",
    "batch_size = 128\n",
    "# load data\n",
    "train_data, train_label = load_data(data_path, 'training_label.txt')\n",
    "test_data = load_data(data_path, 'testing_data.txt')\n",
    "bow_preprocesser = PreprocesserBOW(train_data+test_data, 3000)\n",
    "# data to bow data\n",
    "train_x,train_y = bow_preprocesser._to_bow(train_data, train_label)\n",
    "test_x = bow_preprocesser._to_bow(test_data)\n",
    "# split data\n",
    "train_x, train_y, val_x, val_y = train_x[:180000],train_y[:180000],train_x[180000:],train_y[180000:]\n",
    "# torch data \n",
    "batch_size = 128\n",
    "train_set = Dataset(train_x,train_y)\n",
    "val_set = Dataset(val_x, val_y)\n",
    "test_set = Dataset(test_x)\n",
    "train_loader = torch.utils.data.DataLoader(dataset = train_set,\n",
    "                                            batch_size = batch_size,\n",
    "                                            shuffle = True,\n",
    "                                            num_workers = 8)\n",
    "val_loader = torch.utils.data.DataLoader(dataset = val_set,\n",
    "                                            batch_size = batch_size,\n",
    "                                            shuffle = False,\n",
    "                                            num_workers = 8)\n",
    "# training\n",
    "device = torch.device(\"cuda\" if torch.cuda.is_available() else \"cpu\")\n",
    "model = bow_model().to(device)\n",
    "summary(bow_model(), torch.zeros((20, 3000)))\n",
    "learning_rate = 0.001\n",
    "num_epoch = 10\n",
    "logs = training(model, train_loader, val_loader, device, num_epoch = num_epoch, data_path= data_path, learning_rate = learning_rate)\n",
    "# show logs\n",
    "show_logs(logs)"
   ]
  },
  {
   "cell_type": "code",
   "execution_count": 0,
   "metadata": {
    "colab": {
     "base_uri": "https://localhost:8080/",
     "height": 625
    },
    "colab_type": "code",
    "executionInfo": {
     "elapsed": 134328,
     "status": "ok",
     "timestamp": 1586602826540,
     "user": {
      "displayName": "KD Lin",
      "photoUrl": "",
      "userId": "07150804307204552996"
     },
     "user_tz": -480
    },
    "id": "iT8j6VDKzaEo",
    "outputId": "37db42bf-4a05-42c6-93a1-867d35fe7a7f"
   },
   "outputs": [
    {
     "name": "stdout",
     "output_type": "stream",
     "text": [
      "-----------------------------------------------------------------------\n",
      "             Layer (type)                Input Shape         Param #\n",
      "=======================================================================\n",
      "                 Linear-1                 [-1, 3000]       1,536,512\n",
      "                   ReLU-2                  [-1, 512]               0\n",
      "                Dropout-3                  [-1, 512]               0\n",
      "                 Linear-4                  [-1, 512]          65,664\n",
      "                   ReLU-5                  [-1, 128]               0\n",
      "                Dropout-6                  [-1, 128]               0\n",
      "                 Linear-7                  [-1, 128]             129\n",
      "                Sigmoid-8                    [-1, 1]               0\n",
      "=======================================================================\n",
      "Total params: 1,602,305\n",
      "Trainable params: 1,602,305\n",
      "Non-trainable params: 0\n",
      "-----------------------------------------------------------------------\n"
     ]
    },
    {
     "name": "stderr",
     "output_type": "stream",
     "text": [
      "/usr/local/lib/python3.6/dist-packages/torch/nn/modules/loss.py:498: UserWarning: Using a target size (torch.Size([128])) that is different to the input size (torch.Size([128, 1])) is deprecated. Please ensure they have the same size.\n",
      "  return F.binary_cross_entropy(input, target, weight=self.weight, reduction=self.reduction)\n",
      "/usr/local/lib/python3.6/dist-packages/torch/nn/modules/loss.py:498: UserWarning: Using a target size (torch.Size([32])) that is different to the input size (torch.Size([32, 1])) is deprecated. Please ensure they have the same size.\n",
      "  return F.binary_cross_entropy(input, target, weight=self.weight, reduction=self.reduction)\n"
     ]
    },
    {
     "name": "stdout",
     "output_type": "stream",
     "text": [
      "[001/010] 13.38 sec(s) Train Acc: 0.771139 Loss: 0.003768 | Val Acc: 0.783900 loss: 0.003587\n",
      "Saving with acc : 0.7839\n"
     ]
    },
    {
     "name": "stderr",
     "output_type": "stream",
     "text": [
      "/usr/local/lib/python3.6/dist-packages/torch/serialization.py:360: UserWarning: Couldn't retrieve source code for container of type bow_model. It won't be checked for correctness upon loading.\n",
      "  \"type \" + obj.__name__ + \". It won't be checked \"\n"
     ]
    },
    {
     "name": "stdout",
     "output_type": "stream",
     "text": [
      "[002/010] 13.32 sec(s) Train Acc: 0.802272 Loss: 0.003365 | Val Acc: 0.792050 loss: 0.003517\n",
      "Saving with acc : 0.79205\n",
      "[003/010] 13.35 sec(s) Train Acc: 0.824561 Loss: 0.003041 | Val Acc: 0.794800 loss: 0.003529\n",
      "Saving with acc : 0.7948\n",
      "[004/010] 13.30 sec(s) Train Acc: 0.851667 Loss: 0.002645 | Val Acc: 0.789800 loss: 0.003715\n",
      "[005/010] 13.31 sec(s) Train Acc: 0.875617 Loss: 0.002267 | Val Acc: 0.788550 loss: 0.003938\n",
      "[006/010] 13.31 sec(s) Train Acc: 0.893006 Loss: 0.001966 | Val Acc: 0.783750 loss: 0.004252\n",
      "[007/010] 13.34 sec(s) Train Acc: 0.907600 Loss: 0.001722 | Val Acc: 0.784250 loss: 0.004537\n",
      "[008/010] 13.65 sec(s) Train Acc: 0.917967 Loss: 0.001549 | Val Acc: 0.783150 loss: 0.004938\n",
      "[009/010] 13.35 sec(s) Train Acc: 0.925828 Loss: 0.001412 | Val Acc: 0.782650 loss: 0.005094\n",
      "[010/010] 13.37 sec(s) Train Acc: 0.932344 Loss: 0.001302 | Val Acc: 0.784700 loss: 0.005251\n"
     ]
    }
   ],
   "source": [
    "# data_path\n",
    "# train_loader\n",
    "# val_loader"
   ]
  },
  {
   "cell_type": "code",
   "execution_count": 0,
   "metadata": {
    "colab": {
     "base_uri": "https://localhost:8080/",
     "height": 517
    },
    "colab_type": "code",
    "executionInfo": {
     "elapsed": 1285,
     "status": "ok",
     "timestamp": 1586602928147,
     "user": {
      "displayName": "KD Lin",
      "photoUrl": "",
      "userId": "07150804307204552996"
     },
     "user_tz": -480
    },
    "id": "F5HYY_OGzJUb",
    "outputId": "d36b3f0c-ef3a-4c1c-c876-fd0100973ecf"
   },
   "outputs": [
    {
     "data": {
      "image/png": "[encoded data removed]",
      "text/plain": [
       "<Figure size 432x288 with 1 Axes>"
      ]
     },
     "metadata": {
      "needs_background": "light",
      "tags": []
     },
     "output_type": "display_data"
    },
    {
     "data": {
      "image/png": "[encoded data removed]",
      "text/plain": [
       "<Figure size 432x288 with 1 Axes>"
      ]
     },
     "metadata": {
      "needs_background": "light",
      "tags": []
     },
     "output_type": "display_data"
    }
   ],
   "source": [
    "show_logs(logs)"
   ]
  },
  {
   "cell_type": "code",
   "execution_count": 0,
   "metadata": {
    "colab": {},
    "colab_type": "code",
    "id": "KSbE4mYI6351"
   },
   "outputs": [],
   "source": [
    "# save model\n",
    "# !cp ./best_bow.model ./drive/My\\ Drive/hw4/"
   ]
  },
  {
   "cell_type": "markdown",
   "metadata": {
    "colab_type": "text",
    "id": "vXx44zlwVKth"
   },
   "source": [
    "测试[\"today is a good day, but it is hot\",\n",
    " \"today is hot, but it is a good day\" ]的预测结果。"
   ]
  },
  {
   "cell_type": "code",
   "execution_count": 0,
   "metadata": {
    "colab": {},
    "colab_type": "code",
    "id": "fTQ6nh8AVhBS"
   },
   "outputs": [],
   "source": [
    "!cp /content/drive/My\\ Drive/hw4/best_bow.model ./"
   ]
  },
  {
   "cell_type": "code",
   "execution_count": 0,
   "metadata": {
    "colab": {},
    "colab_type": "code",
    "id": "RLcMsiY2VOb6"
   },
   "outputs": [],
   "source": [
    "bow_model = torch.load('./best_bow.model')\n",
    "# load data\n",
    "train_data, train_label = load_data(data_path, 'training_label.txt')\n",
    "test_data = load_data(data_path, 'testing_data.txt')\n",
    "bow_preprocesser = PreprocesserBOW(train_data+test_data, 3000)"
   ]
  },
  {
   "cell_type": "code",
   "execution_count": 0,
   "metadata": {
    "colab": {},
    "colab_type": "code",
    "id": "NU5xE9JbV2yE"
   },
   "outputs": [],
   "source": [
    "target_data = [\"today is a good day, but it is hot\",\n",
    " \"today is hot, but it is a good day\" ]\n",
    "target_data = [t.split() for t in target_data]\n",
    "test_x_bow = bow_preprocesser._to_bow(target_data)"
   ]
  },
  {
   "cell_type": "markdown",
   "metadata": {
    "colab_type": "text",
    "id": "50RK2QBbWv-h"
   },
   "source": [
    "bow model 处理[\"today is a good day, but it is hot\", \"today is hot, but it is a good day\" ]结果如下。"
   ]
  },
  {
   "cell_type": "code",
   "execution_count": 0,
   "metadata": {
    "colab": {
     "base_uri": "https://localhost:8080/",
     "height": 50
    },
    "colab_type": "code",
    "executionInfo": {
     "elapsed": 1454,
     "status": "ok",
     "timestamp": 1586610484377,
     "user": {
      "displayName": "KD Lin",
      "photoUrl": "",
      "userId": "07150804307204552996"
     },
     "user_tz": -480
    },
    "id": "ac7M7aOGWN29",
    "outputId": "b744de0d-12c5-46da-9b6c-5e65edb06374"
   },
   "outputs": [
    {
     "name": "stdout",
     "output_type": "stream",
     "text": [
      "tensor([[0.5937],\n",
      "        [0.5491]], device='cuda:0')\n"
     ]
    }
   ],
   "source": [
    "bow_model.eval()\n",
    "with torch.no_grad():\n",
    "    input_ = torch.tensor(test_x_bow).to(device, dtype=torch.float)\n",
    "    output_ = bow_model(input_)\n",
    "    print(output_)"
   ]
  },
  {
   "cell_type": "markdown",
   "metadata": {
    "colab_type": "text",
    "id": "GRs-I5_77T3b"
   },
   "source": [
    "### 6.2.2  rnn model\n",
    "\n",
    "下面使用示例代码中的模型，整理早先的代码，自己实现的performce差一点。"
   ]
  },
  {
   "cell_type": "code",
   "execution_count": 0,
   "metadata": {
    "colab": {},
    "colab_type": "code",
    "id": "CNIvBInMBD7T"
   },
   "outputs": [],
   "source": [
    "# model.py\n",
    "# 這個 block 是要拿來訓練的模型\n",
    "import torch\n",
    "from torch import nn\n",
    "class LSTM_Net(nn.Module):\n",
    "    def __init__(self, embedding, embedding_dim, hidden_dim, num_layers, dropout=0.5, fix_embedding=True):\n",
    "        super(LSTM_Net, self).__init__()\n",
    "        # 製作 embedding layer\n",
    "        self.embedding = torch.nn.Embedding(embedding.size(0),embedding.size(1))\n",
    "        self.embedding.weight = torch.nn.Parameter(embedding)\n",
    "        # 是否將 embedding fix 住，如果 fix_embedding 為 False，在訓練過程中，embedding 也會跟著被訓練\n",
    "        self.embedding.weight.requires_grad = False if fix_embedding else True\n",
    "        self.embedding_dim = embedding.size(1)\n",
    "        self.hidden_dim = hidden_dim\n",
    "        self.num_layers = num_layers\n",
    "        self.dropout = dropout\n",
    "        #                               input size             output size                 lstm layers num              \n",
    "        self.lstm = nn.LSTM(embedding_dim, hidden_dim, num_layers=num_layers, dropout = 0.5, batch_first=True)\n",
    "        self.classifier = nn.Sequential( nn.Dropout(dropout),\n",
    "                                         nn.Linear(hidden_dim, hidden_dim*2),\n",
    "                                         nn.ReLU(),\n",
    "                                         nn.Linear(hidden_dim*2, 1),\n",
    "                                         nn.Sigmoid() )\n",
    "    def forward(self, inputs):\n",
    "        inputs = self.embedding(inputs)\n",
    "        x, _ = self.lstm(inputs, None)\n",
    "        # x 的 dimension (batch, seq_len, hidden_size)\n",
    "        # 取用 LSTM 最後一層的 hidden state\n",
    "        x = x[:, -1, :] # lstm 返回的shape为 none，layer，output\n",
    "        x = self.classifier(x)\n",
    "        return x\n",
    "    \n",
    "class PreprocessserW2V():\n",
    "    def __init__(self, w2v_path=None, emb_dim = 250):\n",
    "        if w2v_path is None:\n",
    "            print(\"Please call train_embedding\")\n",
    "            return\n",
    "        w2v_model = Word2Vec.load(w2v_path)\n",
    "        # map word to idx and idx to vector\n",
    "        self.word2idx = {}\n",
    "        idx2word = []\n",
    "        embedding_matrix = []\n",
    "\n",
    "        for word in w2v_model.wv.vocab:\n",
    "            idx2word.append(word)\n",
    "            self.word2idx[word] = len(idx2word)-1\n",
    "            embedding_matrix.append(w2v_model[word])\n",
    "\n",
    "        # add <PAD> and <UNK> \n",
    "        word  = '<PAD>'\n",
    "        idx2word.append(word)\n",
    "        self.word2idx[word] = len(idx2word)-1\n",
    "        embedding_matrix.append(np.random.uniform(0,1,emb_dim))\n",
    "        word  = '<UNK>'\n",
    "        idx2word.append(word)\n",
    "        self.word2idx[word] = len(idx2word)-1\n",
    "        embedding_matrix.append(np.random.uniform(0,1,emb_dim))\n",
    "        self. emb_matrix = np.zeros((len(embedding_matrix), emb_dim))\n",
    "        for i in range(self.emb_matrix.shape[0]):\n",
    "            self.emb_matrix[i, :] = embedding_matrix[i][:]\n",
    "    \n",
    "    def _get_emb_matrix(self):\n",
    "        return self.emb_matrix\n",
    "\n",
    "    def _to_w2v(self, data, label = None, len_sentence = 20):\n",
    "        x = np.empty((len(data), len_sentence), dtype = np.int32)\n",
    "        \n",
    "        for i,sentence in enumerate(data):\n",
    "                sen_len = len(sentence)\n",
    "                for j in range(len_sentence):\n",
    "                    if j >= sen_len:\n",
    "                        x[i,j] = self.word2idx['<PAD>']\n",
    "                        continue\n",
    "                    word = sentence[j]\n",
    "                    if word in self.word2idx.keys():\n",
    "                        x[i,j] = self.word2idx[word]\n",
    "                    else:\n",
    "                        x[i,j] = self.word2idx['<UNK>']\n",
    "        if label is not None:\n",
    "            y = np.array(label).reshape(-1)\n",
    "            return x, y\n",
    "        else:\n",
    "            return x\n",
    "\n",
    "\n",
    "    def _train_embedding(self, data, dimension = 250, window = 5, min_count = 5, workers = 12, iter =10, sg = 10):\n",
    "        self.w2v_model = word2vec.Word2Vec(data,\n",
    "                          size = dimension,                                                                 # dimension\n",
    "                          window = window,                                                              # windlow of context\n",
    "                          min_count = min_count,                                                          # remove low frequency word\n",
    "                          workers = workers,                                                            # precess tread \n",
    "                          iter = iter,                                                                   # iteration\n",
    "                          sg = sg                                                                       #  if 1, use skp-gram, 0 use cbow\n",
    "        )\n",
    "\n",
    "        "
   ]
  },
  {
   "cell_type": "code",
   "execution_count": 0,
   "metadata": {
    "colab": {},
    "colab_type": "code",
    "id": "KV-o7SLmRNaK"
   },
   "outputs": [],
   "source": [
    "w2v_preprocesser._to_w2v(test_data)\n",
    "!cp ./drive/My\\ Drive/hw4/w2v_all* ./"
   ]
  },
  {
   "cell_type": "code",
   "execution_count": 0,
   "metadata": {
    "colab": {},
    "colab_type": "code",
    "id": "FbvLcjhcADx6"
   },
   "outputs": [],
   "source": [
    "# load test\n",
    "test_data = load_data(data_path, 'testing_data.txt')\n",
    "# create preprocessor\n",
    "w2v_path = os.path.join(data_path, 'w2v_all_without')\n",
    "w2v_preprocesser = PreprocessserW2V(w2v_path)\n",
    "# preprocess test data\n",
    "test_x = w2v_preprocesser._to_w2v(test_data)\n",
    "# load model\n",
    "data_path = './'\n",
    "rnn_model = torch.load(os.path.join(data_path, 'best_rnn.model'))"
   ]
  },
  {
   "cell_type": "code",
   "execution_count": 0,
   "metadata": {
    "colab": {},
    "colab_type": "code",
    "id": "WqARx3zNkiUN"
   },
   "outputs": [],
   "source": [
    "target_data = [\"today is a good day, but it is hot\",\n",
    " \"today is hot, but it is a good day\" ]\n",
    "target_data = [t.split() for t in target_data]"
   ]
  },
  {
   "cell_type": "code",
   "execution_count": 0,
   "metadata": {
    "colab": {},
    "colab_type": "code",
    "id": "8iY5ilMeTEOG"
   },
   "outputs": [],
   "source": [
    "test_x_rnn = w2v_preprocesser._to_w2v(target_data)"
   ]
  },
  {
   "cell_type": "markdown",
   "metadata": {
    "colab_type": "text",
    "id": "ZquqD0MSUyo7"
   },
   "source": [
    "w2v模型对[\"today is a good day, but it is hot\",\n",
    " \"today is hot, but it is a good day\" ]的预测如下。"
   ]
  },
  {
   "cell_type": "code",
   "execution_count": 0,
   "metadata": {
    "colab": {
     "base_uri": "https://localhost:8080/",
     "height": 50
    },
    "colab_type": "code",
    "executionInfo": {
     "elapsed": 2303,
     "status": "ok",
     "timestamp": 1586609866865,
     "user": {
      "displayName": "KD Lin",
      "photoUrl": "",
      "userId": "07150804307204552996"
     },
     "user_tz": -480
    },
    "id": "pBq3X35RTeMp",
    "outputId": "8f7bcf85-2715-4063-eb63-236bc42f377c"
   },
   "outputs": [
    {
     "name": "stdout",
     "output_type": "stream",
     "text": [
      "tensor([[0.6308],\n",
      "        [0.9297]], device='cuda:0')\n"
     ]
    }
   ],
   "source": [
    "rnn_model.eval()\n",
    "with torch.no_grad():\n",
    "    input_ = torch.tensor(test_x_rnn).to(device, dtype=torch.long)\n",
    "    output_ = rnn_model(input_)\n",
    "    print(output_)"
   ]
  },
  {
   "cell_type": "markdown",
   "metadata": {
    "colab_type": "text",
    "id": "nInfKc0eW8Wr"
   },
   "source": [
    "### 6.2.3  结论\n",
    "\n",
    "rnn + w2v模型表现如下：\n",
    "\n",
    "> acc 80.937\n",
    ">\n",
    "> [\"today is a good day, but it is hot\", \"today is hot, but it is a good day\" ]\n",
    ">   \n",
    "> 0.6308概率为good， 0.9297概率为good\n",
    "\n",
    "dnn + bow模型表现如下：\n",
    "\n",
    "> acc 79.4800\n",
    ">\n",
    "> [\"today is a good day, but it is hot\", \"today is hot, but it is a good day\" ]\n",
    ">   \n",
    "> 0.5937概率为good，0.5491概率为good\n",
    "\n",
    "从上面结果可以看出：\n",
    "- 两个模型表现接近。\n",
    "- 对于目标句子的识别，rnn+w2v显然正确的多。\n",
    "\n",
    "我自己实现的模型还不如bow。这个有些意外，因为bow模型不考虑上下文，向量化方式比较简单。应该就是因为，对于情感分析，lstm其实并发挥不了太多的作用——想目标句子这种上下文自带否定的句子很少，通常来说我们看某个句子好坏（表达的感受）只需要从关键词“开心“，“wtf”，“sad”就可以大概率判断出来，这也是bow模型效果不错的原因。\n",
    "\n",
    "再看对于目标句子的判别，bow模型显然搞错了，它以为第二句表达很好的感受，lstm模型就很好的handle这种情况。"
   ]
  },
  {
   "cell_type": "markdown",
   "metadata": {
    "colab_type": "text",
    "id": "-ca1JbXtZ7gk"
   },
   "source": [
    "## 6.3 实验分析与总结\n",
    "\n",
    "这次调参上没有什么好说的，没跑过助教的示例代码，明明是同样原理的实现，不知道那部分出问题了，很郁闷。\n",
    "\n",
    "心得如下：\n",
    "\n",
    "- 边写边封装\n",
    "- lstm的调参，唯一有点用的，就是stack lstm，dropout影响很小\n"
   ]
  },
  {
   "cell_type": "markdown",
   "metadata": {
    "colab_type": "text",
    "id": "H4B5mcyYVuJ0"
   },
   "source": [
    "## 6.4 Semi-supervised learning\n",
    "\n",
    "这里首先实现最简单的self-learning的模型，为了更好的看到实验结果，按照提示，选择20000笔数据作为训练数据，10000笔作为val set，剩下的作为test set。大致流程：\n",
    "- 获取新数据集，label 和 no label混合\n",
    "- 训练，找到最佳模型，预测no label数据\n",
    "- 回到第一步"
   ]
  },
  {
   "cell_type": "code",
   "execution_count": 0,
   "metadata": {
    "colab": {},
    "colab_type": "code",
    "id": "t-GuHUWgYZSZ"
   },
   "outputs": [],
   "source": [
    "class PreprocessserW2V():\n",
    "    def __init__(self, w2v_path=None, emb_dim = 250):\n",
    "        if w2v_path is None:\n",
    "            print(\"Please call train_embedding\")\n",
    "            return\n",
    "        w2v_model = Word2Vec.load(w2v_path)\n",
    "        # map word to idx and idx to vector\n",
    "        self.word2idx = {}\n",
    "        idx2word = []\n",
    "        embedding_matrix = []\n",
    "\n",
    "        for word in w2v_model.wv.vocab:\n",
    "            idx2word.append(word)\n",
    "            self.word2idx[word] = len(idx2word)-1\n",
    "            embedding_matrix.append(w2v_model[word])\n",
    "\n",
    "        # add <PAD> and <UNK> \n",
    "        word  = '<PAD>'\n",
    "        idx2word.append(word)\n",
    "        self.word2idx[word] = len(idx2word)-1\n",
    "        embedding_matrix.append(np.random.uniform(0,1,emb_dim))\n",
    "        word  = '<UNK>'\n",
    "        idx2word.append(word)\n",
    "        self.word2idx[word] = len(idx2word)-1\n",
    "        embedding_matrix.append(np.random.uniform(0,1,emb_dim))\n",
    "        self. emb_matrix = np.zeros((len(embedding_matrix), emb_dim))\n",
    "        for i in range(self.emb_matrix.shape[0]):\n",
    "            self.emb_matrix[i, :] = embedding_matrix[i][:]\n",
    "    \n",
    "    def _get_emb_matrix(self):\n",
    "        return self.emb_matrix\n",
    "\n",
    "    def _to_w2v(self, data, label = None, len_sentence = 20):\n",
    "        x = np.empty((len(data), len_sentence), dtype = np.int32)\n",
    "        \n",
    "        for i,sentence in enumerate(data):\n",
    "                sen_len = len(sentence)\n",
    "                for j in range(len_sentence):\n",
    "                    if j >= sen_len:\n",
    "                        x[i,j] = self.word2idx['<PAD>']\n",
    "                        continue\n",
    "                    word = sentence[j]\n",
    "                    if word in self.word2idx.keys():\n",
    "                        x[i,j] = self.word2idx[word]\n",
    "                    else:\n",
    "                        x[i,j] = self.word2idx['<UNK>']\n",
    "        if label is not None:\n",
    "            y = np.array(label).reshape(-1)\n",
    "            return x, y\n",
    "        else:\n",
    "            return x\n",
    "\n",
    "\n",
    "    def _train_embedding(self, data, dimension = 250, window = 5, min_count = 5, workers = 12, iter =10, sg = 10):\n",
    "        self.w2v_model = word2vec.Word2Vec(data,\n",
    "                          size = dimension,                                                                 # dimension\n",
    "                          window = window,                                                              # windlow of context\n",
    "                          min_count = min_count,                                                          # remove low frequency word\n",
    "                          workers = workers,                                                            # precess tread \n",
    "                          iter = iter,                                                                   # iteration\n",
    "                          sg = sg                                                                       #  if 1, use skp-gram, 0 use cbow\n",
    "        )\n",
    "    \n",
    "def load_data(data_path, name):\n",
    "    y = None\n",
    "    # read\n",
    "    with open(os.path.join(data_path, name)) as f:\n",
    "        sentenses = f.readlines()\n",
    "        if name == 'testing_data.txt':\n",
    "            sentenses = sentenses[1:]\n",
    "            sentenses = [sen.split(',',1)[1] for sen in sentenses]\n",
    "        if name == 'training_label.txt':\n",
    "            y = [int(sen[0]) for sen in sentenses]\n",
    "            sentenses = [sen[10:] for sen in sentenses]\n",
    "            \n",
    "        sentences = [sen.strip('\\n').split() for sen in sentenses]\n",
    "    # deal with stopword and tense\n",
    "    \n",
    "    # def lemmatize(word):\n",
    "    #     wnl = WordNetLemmatizer()\n",
    "    #     word = wnl.lemmatize(word, 'n')\n",
    "    #     word = wnl.lemmatize(word, 'v')\n",
    "    #     word = wnl.lemmatize(word, 'a')\n",
    "    #     return word\n",
    "\n",
    "    x = []\n",
    "    stopword = set(stopwords.words('english'))\n",
    "    # # without stopword and lemmatize\n",
    "    x = [sen.split() for sen in sentenses]\n",
    "    # lemmatize\n",
    "    # for sentence in sentences:\n",
    "    #     x.append([lemmatize(word) for word in sentence])    \n",
    "\n",
    "    # stopword  & lemmatize\n",
    "    # for sentence in sentences:\n",
    "    #     x.append([lemmatize(word) for word in sentence if word not in stopword])\n",
    "    \n",
    "    if y:\n",
    "        return x,y\n",
    "    else:\n",
    "        return x\n",
    "\n",
    "def split_data(data, label, split_radios):\n",
    "    n = len(data)\n",
    "    idx = np.arange(n)\n",
    "    np.random.shuffle(idx)\n",
    "    if len(split_radios) == 2:\n",
    "        b1 = int(split_radios[0]/np.sum(split_radios) * n) \n",
    "        return data[idx[:b1]], label[idx[:b1]], data[idx[b1:]], label[idx[b1:]]\n",
    "    elif len(split_radios)==3:\n",
    "        b1 = int(split_radios[0]/np.sum(split_radios) * n) \n",
    "        b2 = int((split_radios[0]+ split_radios[1])/np.sum(split_radios) * n) \n",
    "        print(b1, b2)\n",
    "        return data[idx[:b1]], label[idx[:b1]], data[idx[b1: b2]], label[idx[b1: b2]], data[idx[b2:]], label[idx[b2:]]\n",
    "\n",
    "class lstm_model(nn.Module):\n",
    "    def __init__(self, embedding_matrix, trainable_embedding = False):\n",
    "        super(lstm_model,self).__init__()\n",
    "        self.dim_emb =  embedding_matrix.shape[1]\n",
    "        self.embedding = nn.Embedding(embedding_matrix.shape[0], self.dim_emb )\n",
    "        self.embedding.weight = nn.Parameter(torch.Tensor(embedding_matrix))\n",
    "        self.embedding.weight.requires_grad = trainable_embedding\n",
    "        self.lstm_layers = nn.LSTM(self.dim_emb, 256, num_layers = 2, dropout = 0.5, batch_first = True)\n",
    "        self.dnn = nn.Sequential(\n",
    "                        nn.Dropout(0.5),\n",
    "                        nn.Linear(256, 1),\n",
    "                        nn.Sigmoid()\n",
    "        )\n",
    "    def forward(self, x):\n",
    "        out = self.embedding(x)\n",
    "        out,_ = self.lstm_layers(out)\n",
    "        out = out[:, -1, :] # 输出默认为sequence，使用最后一个time step的输出, (none，output_dim)，不需要再flatten\n",
    "        return self.dnn(out)\n",
    "\n",
    "class Dataset(torch.utils.data.Dataset):\n",
    "    def __init__(self, x, y=None):\n",
    "        self.x = x\n",
    "        self.y = y\n",
    "    def __getitem__(self, i):\n",
    "        # if self.y is not None:\n",
    "        #     return torch.LongTensor(self.x[i, :]), torch.LongTensor(self.y[i])\n",
    "        # return torch.LongTensor(self.x[i, :])\n",
    "        if self.y is not None:\n",
    "            return self.x[i, :], self.y[i]\n",
    "        return self.x[i, :]\n",
    "    def __len__(self):\n",
    "        return len(self.x)\n",
    "def training(model, train_loader, val_loader, device, num_epoch = 5, data_path = './',learning_rate = 0.001):\n",
    "    def cal_acc(pred_b, y_b):\n",
    "        output_b = pred_b.cpu().detach().numpy().reshape(-1)\n",
    "        output_b[output_b>=0.5] = 1\n",
    "        output_b[output_b < 0.5] = 0\n",
    "        output_b = output_b.astype(np.int32)\n",
    "        return np.sum(output_b == y_b.numpy())\n",
    "\n",
    "    optimizer = torch.optim.Adam(model.parameters(), lr = learning_rate) \n",
    "    loss_func = nn.BCELoss()\n",
    "    logs = {'time':[], 'train_loss':[], 'train_acc':[], 'val_acc':[], 'val_loss':[]}\n",
    "    best_epochs = []\n",
    "    best_acc = 0\n",
    "    for epoch in range(num_epoch):\n",
    "        time_epoch_start = time.time()\n",
    "        train_acc = 0.0 \n",
    "        train_loss = 0.0\n",
    "        model.train()\n",
    "        for i, (x_b, y_b) in enumerate(train_loader):\n",
    "            # forward\n",
    "            optimizer.zero_grad() \n",
    "            pred_b = model(x_b.to(device, dtype = torch.long)) # torch的特点，需要将数据设置到gpu上\n",
    "            loss_b = loss_func(pred_b, y_b.to(device, dtype = torch.float))\n",
    "            # backward\n",
    "            loss_b.backward()\n",
    "            optimizer.step()\n",
    "            # log\n",
    "            train_acc += cal_acc(pred_b, y_b)\n",
    "            train_loss += loss_b.item()\n",
    "    # calculate val acc and loss\n",
    "        model.eval()\n",
    "        val_acc = 0.0\n",
    "        val_loss = 0.0\n",
    "        with torch.no_grad():\n",
    "            for i,(x_b, y_b) in enumerate(val_loader):\n",
    "                pred_b = model(x_b.to(device, dtype = torch.long))\n",
    "                loss_b = loss_func(pred_b, y_b.to(device, dtype = torch.float))\n",
    "                val_acc += cal_acc(pred_b, y_b)\n",
    "                val_loss += loss_b.item()\n",
    "        # print log\n",
    "        logs['time'].append(time.time()-time_epoch_start)\n",
    "        logs['train_acc'].append(train_acc/train_set.__len__())\n",
    "        logs['train_loss'].append(train_loss/train_set.__len__())\n",
    "        logs['val_acc'].append(val_acc/val_set.__len__())\n",
    "        logs['val_loss'].append(val_loss/val_set.__len__()) \n",
    "        # notes：打印logs\n",
    "        # print(\"Valid | Loss:{:.5f} Acc: {:.3f} \".format(total_loss/v_batch, total_acc/v_batch*100))\n",
    "        print('[%03d/%03d] %2.2f sec(s) Train Acc: %3.6f Loss: %3.6f | Val Acc: %3.6f loss: %3.6f' % \\\n",
    "                (epoch + 1, num_epoch,  logs['time'][-1], \\\n",
    "                logs['train_acc'][-1] , logs['train_loss'][-1]*1000, logs['val_acc'][-1], logs['val_loss'][-1]*1000)) \n",
    "        # save best model\n",
    "        if val_acc > best_acc:\n",
    "            best_acc = val_acc\n",
    "            best_epochs.append(epoch)\n",
    "            torch.save(model, os.path.join(data_path, 'best_semi.model'))\n",
    "            print(\"Saving with acc : {}\".format(logs['val_acc'][-1]))\n",
    "    return logs"
   ]
  },
  {
   "cell_type": "markdown",
   "metadata": {
    "colab_type": "text",
    "id": "hDuWqO7ZXXbp"
   },
   "source": [
    "### 6.4.1  Self-learning\n",
    "\n",
    "这个模型就是实现上述步骤的方法，简单而且直观。"
   ]
  },
  {
   "cell_type": "code",
   "execution_count": 0,
   "metadata": {
    "colab": {
     "base_uri": "https://localhost:8080/",
     "height": 34
    },
    "colab_type": "code",
    "executionInfo": {
     "elapsed": 8276,
     "status": "ok",
     "timestamp": 1586686279526,
     "user": {
      "displayName": "KD Lin",
      "photoUrl": "",
      "userId": "07150804307204552996"
     },
     "user_tz": -480
    },
    "id": "A3yAtsRTYFSM",
    "outputId": "bc55f5f4-d03c-4f63-8ee5-6dde6f177127"
   },
   "outputs": [
    {
     "name": "stdout",
     "output_type": "stream",
     "text": [
      "20000 30000\n"
     ]
    }
   ],
   "source": [
    "!cp ./drive/My\\ Drive/hw4/w2v_all* ./\n",
    "data_path = './'\n",
    "# create preprocessor\n",
    "w2v_path = os.path.join(data_path, 'w2v_all_without')\n",
    "w2v_preprocesser = PreprocessserW2V(w2v_path)\n",
    "# load data\n",
    "train_data, train_label = load_data(data_path, 'training_label.txt')\n",
    "train_x, train_y = w2v_preprocesser._to_w2v(train_data, train_label)\n",
    "# split data\n",
    "train_x, train_y, val_x, val_y, test_x, test_y = split_data(train_x, train_y, [2, 1, 17])"
   ]
  },
  {
   "cell_type": "code",
   "execution_count": 0,
   "metadata": {
    "colab": {
     "base_uri": "https://localhost:8080/",
     "height": 34
    },
    "colab_type": "code",
    "executionInfo": {
     "elapsed": 768,
     "status": "ok",
     "timestamp": 1586684071677,
     "user": {
      "displayName": "KD Lin",
      "photoUrl": "",
      "userId": "07150804307204552996"
     },
     "user_tz": -480
    },
    "id": "cXUDtWPYvWq-",
    "outputId": "38fc0700-c575-4ff6-a7b2-744d5bd0d01c"
   },
   "outputs": [
    {
     "data": {
      "text/plain": [
       "(2197, 20)"
      ]
     },
     "execution_count": 52,
     "metadata": {
      "tags": []
     },
     "output_type": "execute_result"
    }
   ],
   "source": [
    "train_x.shape"
   ]
  },
  {
   "cell_type": "code",
   "execution_count": 0,
   "metadata": {
    "colab": {
     "base_uri": "https://localhost:8080/",
     "height": 34
    },
    "colab_type": "code",
    "executionInfo": {
     "elapsed": 2208,
     "status": "ok",
     "timestamp": 1586684083254,
     "user": {
      "displayName": "KD Lin",
      "photoUrl": "",
      "userId": "07150804307204552996"
     },
     "user_tz": -480
    },
    "id": "WXy8LBOevZgv",
    "outputId": "533ca69d-cfd2-4f74-f0ef-835440debaa0"
   },
   "outputs": [
    {
     "data": {
      "text/plain": [
       "(10989, 20)"
      ]
     },
     "execution_count": 53,
     "metadata": {
      "tags": []
     },
     "output_type": "execute_result"
    }
   ],
   "source": [
    "val_x.shape"
   ]
  },
  {
   "cell_type": "code",
   "execution_count": 0,
   "metadata": {
    "colab": {
     "base_uri": "https://localhost:8080/",
     "height": 34
    },
    "colab_type": "code",
    "executionInfo": {
     "elapsed": 484,
     "status": "ok",
     "timestamp": 1586684324341,
     "user": {
      "displayName": "KD Lin",
      "photoUrl": "",
      "userId": "07150804307204552996"
     },
     "user_tz": -480
    },
    "id": "H7fOWqTQwUl1",
    "outputId": "5e4b16d4-4fa0-4ab6-ff8c-0e3f40c418ad"
   },
   "outputs": [
    {
     "data": {
      "text/plain": [
       "(186814, 20)"
      ]
     },
     "execution_count": 57,
     "metadata": {
      "tags": []
     },
     "output_type": "execute_result"
    }
   ],
   "source": [
    "test_x.shape"
   ]
  },
  {
   "cell_type": "code",
   "execution_count": 0,
   "metadata": {
    "colab": {},
    "colab_type": "code",
    "id": "ckci3f8wmn0n"
   },
   "outputs": [],
   "source": [
    "device = torch.device(\"cuda\" if torch.cuda.is_available() else \"cpu\")\n",
    "learning_rate = 0.001\n",
    "num_epoch = 10\n",
    "batch_size = 128\n",
    "low = 0.05\n",
    "high = 0.95\n",
    "log_acc = []\n",
    "test_loader = torch.utils.data.DataLoader(dataset = test_set,\n",
    "                                            batch_size = batch_size,\n",
    "                                            shuffle = False,\n",
    "                                            num_workers = 8)\n",
    "train_test_x, train_test_y = train_x, train_y"
   ]
  },
  {
   "cell_type": "code",
   "execution_count": null,
   "metadata": {},
   "outputs": [],
   "source": [
    "for i in range(5):\n",
    "    train_set,val_set, test_set = Dataset(train_test_x, train_test_y),Dataset(val_x, val_y), Dataset(test_x)\n",
    "    train_loader = torch.utils.data.DataLoader(dataset = train_set,\n",
    "                                                batch_size = batch_size,\n",
    "                                                shuffle = True,\n",
    "                                                num_workers = 8)\n",
    "    val_loader = torch.utils.data.DataLoader(dataset = val_set,\n",
    "                                                batch_size = batch_size,\n",
    "                                                shuffle = False,\n",
    "                                                num_workers = 8)\n",
    "\n",
    "    # model\n",
    "    rnn_model = lstm_model(w2v_preprocesser._get_emb_matrix()).to(device)\n",
    "    logs = training(rnn_model, train_loader, val_loader, device, num_epoch = num_epoch, data_path= data_path, learning_rate = learning_rate)\n",
    "    # test\n",
    "    model = torch.load(os.path.join(data_path, 'best_semi.model'))\n",
    "    model.eval()\n",
    "    test_pred = []\n",
    "    with torch.no_grad():\n",
    "        for i, inputs in enumerate(test_loader):\n",
    "            inputs = inputs.to(device, dtype=torch.long)\n",
    "            outputs = model(inputs)\n",
    "            outputs = outputs.squeeze()\n",
    "            test_pred += outputs.tolist() \n",
    "    test_pred = np.array(test_pred)\n",
    "    test_label = np.zeros(test_pred.shape, dtype =np.int8)\n",
    "    test_label[test_pred>=0.5] = 1\n",
    "    test_label[test_pred< 0.5] = 0\n",
    "    log_acc.append(np.sum(test_label == test_y)/len(test_label))\n",
    "    # Choose the data that predicts the best results\n",
    "    add_x, add_y = test_x[(test_pred>high) | (test_pred < low)], test_label[(test_pred>high) | (test_pred < low)]\n",
    "    print(\"------------------------------------------------\")\n",
    "    print(\"train size: {}\".format(train_test_x.shape[0]))\n",
    "    print(\"current acc: {}\".format(log_acc[-1]))\n",
    "    print(\"adding nolabel data,\")\n",
    "    print(\"- lable 1: {}\".format(np.sum(add_y==1)))\n",
    "    print(\"- lable 0: {}\".format(np.sum(add_y==0)))\n",
    "    print('-------------------------------------------------')\n",
    "    # new dataset\n",
    "    train_test_x, train_test_y = np.concatenate((train_x, add_x)),np.concatenate((train_y, add_y))"
   ]
  },
  {
   "cell_type": "markdown",
   "metadata": {
    "colab_type": "text",
    "id": "rlUgjacX2ymu"
   },
   "source": [
    "2000 笔训练数据，阈值0.1，0.9\n",
    "````\n",
    "\n",
    "[010/010] 1.15 sec(s) Train Acc: 0.776513 Loss: 3.956478 | Val Acc: 0.743198 loss: 4.180540\n",
    "Saving with acc : 0.7431977431977432\n",
    "------------------------------------------------\n",
    "train size: 2197\n",
    "current acc: 0.7428030019163446\n",
    "adding nolabel data,\n",
    "- lable 1: 11926\n",
    "- lable 0: 39648\n",
    "-------------------------------------------------\n",
    "[007/010] 4.67 sec(s) Train Acc: 0.993156 Loss: 0.169375 | Val Acc: 0.753299 loss: 5.880286\n",
    "Saving with acc : 0.7532987532987533\n",
    "------------------------------------------------\n",
    "train size: 53771\n",
    "current acc: 0.7501472052415772\n",
    "adding nolabel data,\n",
    "- lable 1: 50298\n",
    "- lable 0: 67212\n",
    "-------------------------------------------------\n",
    "[006/010] 8.83 sec(s) Train Acc: 0.996884 Loss: 0.098808 | Val Acc: 0.758213 loss: 9.933585\n",
    "Saving with acc : 0.7582127582127582\n",
    "------------------------------------------------\n",
    "train size: 119707\n",
    "current acc: 0.7533696618026486\n",
    "adding nolabel data,\n",
    "- lable 1: 83770\n",
    "- lable 0: 87302\n",
    "-------------------------------------------------\n",
    "[003/010] 12.39 sec(s) Train Acc: 0.990293 Loss: 0.243880 | Val Acc: 0.759032 loss: 9.990977\n",
    "Saving with acc : 0.759031759031759\n",
    "------------------------------------------------\n",
    "train size: 173269\n",
    "current acc: 0.7551040071943216\n",
    "adding nolabel data,\n",
    "- lable 1: 85105\n",
    "- lable 0: 88555\n",
    "-------------------------------------------------\n",
    "[009/010] 12.56 sec(s) Train Acc: 0.995593 Loss: 0.135653 | Val Acc: 0.759578 loss: 11.569117\n",
    "Saving with acc : 0.7595777595777595\n",
    "------------------------------------------------\n",
    "train size: 175857\n",
    "current acc: 0.7552967122378409\n",
    "adding nolabel data,\n",
    "- lable 1: 90647\n",
    "- lable 0: 89291\n",
    "-------------------------------------------------\n",
    "[001/010] 13.09 sec(s) Train Acc: 0.941543 Loss: 1.036670 | Val Acc: 0.759669 loss: 9.814486\n",
    "Saving with acc : 0.7596687596687597\n",
    "------------------------------------------------\n",
    "train size: 182135\n",
    "current acc: 0.7561478261800507\n",
    "adding nolabel data,\n",
    "- lable 1: 85990\n",
    "- lable 0: 86486\n",
    "````\n",
    "\n",
    "20000笔训练数据，阈值0.1，0.9\n",
    "\n",
    "````\n",
    "[007/010] 2.34 sec(s) Train Acc: 0.820600 Loss: 0.003122 | Val Acc: 0.787300 loss: 0.003761\n",
    "Saving with acc : 0.7873\n",
    "------------------------------------------------\n",
    "train size: 20000\n",
    "current acc: 0.7809823529411765\n",
    "adding nolabel data,\n",
    "- lable 1: 48917\n",
    "- lable 0: 62929\n",
    "-------------------------------------------------\n",
    "[003/010] 9.63 sec(s) Train Acc: 0.970170 Loss: 0.000765 | Val Acc: 0.789600 loss: 0.004963\n",
    "Saving with acc : 0.7896\n",
    "------------------------------------------------\n",
    "train size: 131846\n",
    "current acc: 0.7816235294117647\n",
    "adding nolabel data,\n",
    "- lable 1: 64053\n",
    "- lable 0: 74953\n",
    "-------------------------------------------------\n",
    "[008/010] 11.46 sec(s) Train Acc: 0.981994 Loss: 0.000544 | Val Acc: 0.790200 loss: 0.005861\n",
    "Saving with acc : 0.7902\n",
    "------------------------------------------------\n",
    "train size: 159006\n",
    "current acc: 0.7817\n",
    "adding nolabel data,\n",
    "- lable 1: 76039\n",
    "- lable 0: 82730\n",
    "-------------------------------------------------\n",
    "[001/010] 12.80 sec(s) Train Acc: 0.909515 Loss: 0.001736 | Val Acc: 0.791300 loss: 0.005236\n",
    "Saving with acc : 0.7913\n",
    "------------------------------------------------\n",
    "train size: 178769\n",
    "current acc: 0.782035294117647\n",
    "adding nolabel data,\n",
    "- lable 1: 76408\n",
    "- lable 0: 77083\n",
    "-------------------------------------------------\n",
    "[005/010] 12.35 sec(s) Train Acc: 0.977388 Loss: 0.000700 | Val Acc: 0.793300 loss: 0.005935\n",
    "Saving with acc : 0.7933\n",
    "------------------------------------------------\n",
    "train size: 173491\n",
    "current acc: 0.7831176470588235\n",
    "adding nolabel data,\n",
    "- lable 1: 80023\n",
    "- lable 0: 82715\n",
    "-------------------------------------------------\n",
    "\n",
    "````\n"
   ]
  },
  {
   "cell_type": "code",
   "execution_count": 0,
   "metadata": {
    "colab": {
     "base_uri": "https://localhost:8080/",
     "height": 54
    },
    "colab_type": "code",
    "executionInfo": {
     "elapsed": 1648,
     "status": "ok",
     "timestamp": 1586685979165,
     "user": {
      "displayName": "KD Lin",
      "photoUrl": "",
      "userId": "07150804307204552996"
     },
     "user_tz": -480
    },
    "id": "oarz1CB22m2Z",
    "outputId": "52b0aa1f-0e2f-4289-ae5d-029023ab1607"
   },
   "outputs": [
    {
     "name": "stdout",
     "output_type": "stream",
     "text": [
      "[0.7428030019163446, 0.7501472052415772, 0.7533696618026486, 0.7551040071943216, 0.7552967122378409, 0.7561478261800507, 0.7541351290588499, 0.7559658269722825, 0.7566884708854796, 0.7570096459580117]\n"
     ]
    }
   ],
   "source": [
    "print(log_acc)"
   ]
  },
  {
   "cell_type": "markdown",
   "metadata": {
    "colab_type": "text",
    "id": "sN3-diqQyQ6J"
   },
   "source": [
    "#### 结论\n",
    "\n",
    "上面是self-learning的实验日志，实验将train data分为3部分，2000笔作为训练数据（为了更好地看到模型提升，所以减少到2000笔），10000笔作为验证集用于early stop，180000笔作为测试集，模拟no label data。test部分的label可以计算准确率，不过只用于模型评价，不参与训练。\n",
    "\n",
    "模型每次迭代选用预测概率大于0.9或小于0.1的数据假如训练集，迭代10次。\n",
    "\n",
    "结果如下：\n",
    "\n",
    "- 初始准确率74，模型经过10次迭代，准确率为75.7%，提升尚可\n",
    "- 可以观察到一开始模型预测数据中，符合阈值的只有10000和30000，随着迭代，慢慢变多，第十次迭代选用接近90000和90000笔数据，这说明，模型预测结果越来越极端。\n",
    "- 经过一次迭代，后面第一个epoch的train acc一开始就达到很高。这个现象可能是这样的，假如模型最终总是容易到达某种状态，而我用这种状态取预测，取出极端结果，加入训练集，那么模型再次到达接近该状态的时候，极端选择的数据符合“处于这个状态的模型”的预测，所以这时候对于这些极端数据，预测结果会和它们的伪标签很接近，因而此时准确率很高，loss很低。\n",
    "\n",
    "结论：\n",
    "\n",
    "self-training会记忆error，模型训练后预测的结果会存在某些error，一旦你把这些error加入训练集作为新模型的目标开始训练，则这种error会在每次迭代中传播。\n",
    "所以结果不会提升非常大就是。"
   ]
  },
  {
   "cell_type": "markdown",
   "metadata": {
    "colab_type": "text",
    "id": "9REakzT8Dx75"
   },
   "source": [
    "### 6.4.2 Entropy-based Regularization\n",
    "\n",
    "$$E\\left(y^{u}\\right)=-\\sum_{m=1}^{5} y_{m}^{u} \\ln \\left(y_{m}^{u}\\right)$$\n",
    "\n",
    "可视为正则项，它让模型输出结果尽可能极端。所以基本和上面的模型一模一样，只需要自定义损失函数即可。\n",
    "\n",
    "**结论**\n",
    "\n",
    "提升微乎其微。"
   ]
  },
  {
   "cell_type": "code",
   "execution_count": 0,
   "metadata": {
    "colab": {},
    "colab_type": "code",
    "id": "zMq0hymHFuTN"
   },
   "outputs": [],
   "source": [
    "class EBCELoss(nn.Module):\n",
    "    def __init__(self):\n",
    "        super().__init__()\n",
    "        self.crossy = nn.BCELoss()\n",
    "    def forward(self, y_hat, y, lambda_= 1):\n",
    "        E = -torch.mean( y_hat * torch.log(y_hat) + (1 - y_hat) * torch.log(1 - y_hat))\n",
    "        # print(E)\n",
    "        #  不知道为什么，我这边自己写的binary crossy entropy 不行，结果是一样的。\n",
    "        # return -torch.sum(y*torch.log(y_hat)+(1-y)*torch.log(1-y_hat)) + lambda_ * E\n",
    "        return self.crossy(y_hat, y) + lambda_ * E"
   ]
  },
  {
   "cell_type": "code",
   "execution_count": 0,
   "metadata": {
    "colab": {
     "base_uri": "https://localhost:8080/",
     "height": 67
    },
    "colab_type": "code",
    "executionInfo": {
     "elapsed": 559,
     "status": "ok",
     "timestamp": 1586693755169,
     "user": {
      "displayName": "KD Lin",
      "photoUrl": "",
      "userId": "07150804307204552996"
     },
     "user_tz": -480
    },
    "id": "iCNBtYqiJrE4",
    "outputId": "cba215ba-ab6d-47b0-e2d8-10e73cd32471"
   },
   "outputs": [
    {
     "name": "stdout",
     "output_type": "stream",
     "text": [
      "-0.5004024235381879\n",
      "tensor(1.6094)\n"
     ]
    },
    {
     "data": {
      "text/plain": [
       "tensor(1.6094)"
      ]
     },
     "execution_count": 159,
     "metadata": {
      "tags": []
     },
     "output_type": "execute_result"
    }
   ],
   "source": [
    "print(0.2*np.log(0.2)+0.8*np.log(0.8))\n",
    "a = [0.2]\n",
    "input = torch.Tensor(np.array(a))\n",
    "target = torch.empty(1).random_(2)\n",
    "m = nn.Sigmoid()\n",
    "m(input)\n",
    "print(nn.BCELoss()(input, target))\n",
    "EBCELoss()(input, target, 0)"
   ]
  },
  {
   "cell_type": "code",
   "execution_count": 0,
   "metadata": {
    "colab": {},
    "colab_type": "code",
    "id": "bGDbGEsgGw5a"
   },
   "outputs": [],
   "source": [
    "def e_training(model, train_loader, val_loader, device,num_epoch = 5,  lambda_ = 1,data_path = './',learning_rate = 0.001):\n",
    "    def cal_acc(pred_b, y_b):\n",
    "        output_b = pred_b.cpu().detach().numpy().reshape(-1)\n",
    "        output_b[output_b>=0.5] = 1\n",
    "        output_b[output_b < 0.5] = 0\n",
    "        output_b = output_b.astype(np.int32)\n",
    "        return np.sum(output_b == y_b.numpy())\n",
    "\n",
    "    optimizer = torch.optim.Adam(model.parameters(), lr = learning_rate) \n",
    "    loss_func = EBCELoss()\n",
    "    logs = {'time':[], 'train_loss':[], 'train_acc':[], 'val_acc':[], 'val_loss':[]}\n",
    "    best_epochs = []\n",
    "    best_acc = 0\n",
    "    for epoch in range(num_epoch):\n",
    "        time_epoch_start = time.time()\n",
    "        train_acc = 0.0 \n",
    "        train_loss = 0.0\n",
    "        model.train()\n",
    "        for i, (x_b, y_b) in enumerate(train_loader):\n",
    "            # forward\n",
    "            optimizer.zero_grad() \n",
    "            pred_b = model(x_b.to(device, dtype = torch.long)) # torch的特点，需要将数据设置到gpu上\n",
    "            loss_b = loss_func(pred_b, y_b.to(device, dtype = torch.float), lambda_)\n",
    "            # backward\n",
    "            loss_b.backward()\n",
    "            optimizer.step()\n",
    "            # log\n",
    "            train_acc += cal_acc(pred_b, y_b)\n",
    "            train_loss += loss_b.item()\n",
    "    # calculate val acc and loss\n",
    "        model.eval()\n",
    "        val_acc = 0.0\n",
    "        val_loss = 0.0\n",
    "        with torch.no_grad():\n",
    "            for i,(x_b, y_b) in enumerate(val_loader):\n",
    "                pred_b = model(x_b.to(device, dtype = torch.long))\n",
    "                loss_b = loss_func(pred_b, y_b.to(device, dtype = torch.float), lambda_)\n",
    "                val_acc += cal_acc(pred_b, y_b)\n",
    "                val_loss += loss_b.item()\n",
    "        # print log\n",
    "        logs['time'].append(time.time()-time_epoch_start)\n",
    "        logs['train_acc'].append(train_acc/train_set.__len__())\n",
    "        logs['train_loss'].append(train_loss/train_set.__len__())\n",
    "        logs['val_acc'].append(val_acc/val_set.__len__())\n",
    "        logs['val_loss'].append(val_loss/val_set.__len__()) \n",
    "        # notes：打印logs\n",
    "        # print(\"Valid | Loss:{:.5f} Acc: {:.3f} \".format(total_loss/v_batch, total_acc/v_batch*100))\n",
    "        print('[%03d/%03d] %2.2f sec(s) Train Acc: %3.6f Loss: %3.6f | Val Acc: %3.6f loss: %3.6f' % \\\n",
    "                (epoch + 1, num_epoch,  logs['time'][-1], \\\n",
    "                logs['train_acc'][-1] , logs['train_loss'][-1]*1000, logs['val_acc'][-1], logs['val_loss'][-1]*1000)) \n",
    "        # save best model\n",
    "        if val_acc > best_acc:\n",
    "            best_acc = val_acc\n",
    "            best_epochs.append(epoch)\n",
    "            torch.save(model, os.path.join(data_path, 'best_semi.model'))\n",
    "            print(\"Saving with acc : {}\".format(logs['val_acc'][-1]))\n",
    "    return logs"
   ]
  },
  {
   "cell_type": "code",
   "execution_count": 0,
   "metadata": {
    "colab": {},
    "colab_type": "code",
    "id": "Em0hZcJRIROu"
   },
   "outputs": [],
   "source": [
    "device = torch.device(\"cuda\" if torch.cuda.is_available() else \"cpu\")\n",
    "learning_rate = 0.001\n",
    "lambda_ = 0.3 # entropy rate\n",
    "num_epoch = 10\n",
    "batch_size = 128\n",
    "low = 0.01\n",
    "high = 0.99\n",
    "log_acc = []\n",
    "test_loader = torch.utils.data.DataLoader(dataset = test_set,\n",
    "                                            batch_size = batch_size,\n",
    "                                            shuffle = False,\n",
    "                                            num_workers = 8)\n",
    "train_test_x, train_test_y = train_x, train_y"
   ]
  },
  {
   "cell_type": "code",
   "execution_count": 0,
   "metadata": {
    "colab": {
     "base_uri": "https://localhost:8080/",
     "height": 1000
    },
    "colab_type": "code",
    "executionInfo": {
     "elapsed": 262584,
     "status": "ok",
     "timestamp": 1586694570433,
     "user": {
      "displayName": "KD Lin",
      "photoUrl": "",
      "userId": "07150804307204552996"
     },
     "user_tz": -480
    },
    "id": "VkCL5Ov4Iav8",
    "outputId": "aa0ba5e6-7eef-4093-e639-eae85da3de30"
   },
   "outputs": [
    {
     "name": "stdout",
     "output_type": "stream",
     "text": [
      "[001/010] 2.51 sec(s) Train Acc: 0.648200 Loss: 6.248311 | Val Acc: 0.732100 loss: 5.433541\n",
      "Saving with acc : 0.7321\n",
      "[002/010] 2.48 sec(s) Train Acc: 0.756600 Loss: 5.035489 | Val Acc: 0.770900 loss: 5.084585\n",
      "Saving with acc : 0.7709\n",
      "[003/010] 2.51 sec(s) Train Acc: 0.776800 Loss: 4.704654 | Val Acc: 0.771600 loss: 4.827197\n",
      "Saving with acc : 0.7716\n",
      "[004/010] 2.58 sec(s) Train Acc: 0.787650 Loss: 4.540770 | Val Acc: 0.772700 loss: 4.819413\n",
      "Saving with acc : 0.7727\n",
      "[005/010] 2.53 sec(s) Train Acc: 0.796650 Loss: 4.352282 | Val Acc: 0.782600 loss: 4.724758\n",
      "Saving with acc : 0.7826\n",
      "[006/010] 2.52 sec(s) Train Acc: 0.805500 Loss: 4.222201 | Val Acc: 0.776800 loss: 4.759089\n",
      "[007/010] 2.51 sec(s) Train Acc: 0.817250 Loss: 3.989873 | Val Acc: 0.767900 loss: 5.013383\n",
      "[008/010] 2.47 sec(s) Train Acc: 0.827650 Loss: 3.828512 | Val Acc: 0.780300 loss: 4.852379\n",
      "[009/010] 2.47 sec(s) Train Acc: 0.846750 Loss: 3.474392 | Val Acc: 0.772700 loss: 5.089710\n",
      "[010/010] 2.49 sec(s) Train Acc: 0.862650 Loss: 3.178172 | Val Acc: 0.764600 loss: 5.482867\n",
      "------------------------------------------------\n",
      "train size: 20000\n",
      "current acc: 0.7816941176470589\n",
      "adding nolabel data,\n",
      "- lable 1: 5819\n",
      "- lable 0: 11768\n",
      "-------------------------------------------------\n",
      "[001/010] 3.73 sec(s) Train Acc: 0.824886 Loss: 3.634790 | Val Acc: 0.753800 loss: 5.076803\n",
      "Saving with acc : 0.7538\n",
      "[002/010] 3.70 sec(s) Train Acc: 0.878256 Loss: 2.642953 | Val Acc: 0.760800 loss: 4.920262\n",
      "Saving with acc : 0.7608\n",
      "[003/010] 3.74 sec(s) Train Acc: 0.884508 Loss: 2.489763 | Val Acc: 0.779600 loss: 4.954840\n",
      "Saving with acc : 0.7796\n",
      "[004/010] 3.74 sec(s) Train Acc: 0.889669 Loss: 2.382325 | Val Acc: 0.775700 loss: 4.809128\n",
      "[005/010] 3.74 sec(s) Train Acc: 0.892117 Loss: 2.300082 | Val Acc: 0.786200 loss: 4.717941\n",
      "Saving with acc : 0.7862\n",
      "[006/010] 3.74 sec(s) Train Acc: 0.897943 Loss: 2.217749 | Val Acc: 0.780300 loss: 4.772831\n",
      "[007/010] 3.74 sec(s) Train Acc: 0.904169 Loss: 2.095070 | Val Acc: 0.780600 loss: 5.012825\n",
      "[008/010] 3.72 sec(s) Train Acc: 0.910714 Loss: 1.952419 | Val Acc: 0.772700 loss: 5.115722\n",
      "[009/010] 3.77 sec(s) Train Acc: 0.919493 Loss: 1.781327 | Val Acc: 0.768600 loss: 5.353241\n",
      "[010/010] 3.70 sec(s) Train Acc: 0.928007 Loss: 1.606774 | Val Acc: 0.765900 loss: 5.583426\n",
      "------------------------------------------------\n",
      "train size: 37587\n",
      "current acc: 0.7834470588235294\n",
      "adding nolabel data,\n",
      "- lable 1: 10714\n",
      "- lable 0: 13063\n",
      "-------------------------------------------------\n",
      "[001/010] 4.18 sec(s) Train Acc: 0.602280 Loss: 6.610866 | Val Acc: 0.498600 loss: 7.138659\n",
      "Saving with acc : 0.4986\n",
      "[002/010] 4.19 sec(s) Train Acc: 0.591429 Loss: 6.611729 | Val Acc: 0.672400 loss: 6.834016\n",
      "Saving with acc : 0.6724\n",
      "[003/010] 4.18 sec(s) Train Acc: 0.881582 Loss: 2.672971 | Val Acc: 0.766600 loss: 5.116840\n",
      "Saving with acc : 0.7666\n",
      "[004/010] 4.15 sec(s) Train Acc: 0.894100 Loss: 2.309241 | Val Acc: 0.733700 loss: 5.394599\n",
      "[005/010] 4.19 sec(s) Train Acc: 0.897024 Loss: 2.235628 | Val Acc: 0.767700 loss: 5.057441\n",
      "Saving with acc : 0.7677\n",
      "[006/010] 4.17 sec(s) Train Acc: 0.900724 Loss: 2.126157 | Val Acc: 0.768800 loss: 5.240816\n",
      "Saving with acc : 0.7688\n",
      "[007/010] 4.19 sec(s) Train Acc: 0.903031 Loss: 2.117521 | Val Acc: 0.760000 loss: 4.999765\n",
      "[008/010] 4.18 sec(s) Train Acc: 0.899879 Loss: 2.156356 | Val Acc: 0.772900 loss: 5.211196\n",
      "Saving with acc : 0.7729\n",
      "[009/010] 4.17 sec(s) Train Acc: 0.907052 Loss: 1.999255 | Val Acc: 0.756000 loss: 5.031468\n",
      "[010/010] 4.22 sec(s) Train Acc: 0.908354 Loss: 1.947141 | Val Acc: 0.786000 loss: 4.827530\n",
      "Saving with acc : 0.786\n",
      "------------------------------------------------\n",
      "train size: 43777\n",
      "current acc: 0.7831117647058824\n",
      "adding nolabel data,\n",
      "- lable 1: 22115\n",
      "- lable 0: 18594\n",
      "-------------------------------------------------\n",
      "[001/010] 5.39 sec(s) Train Acc: 0.640399 Loss: 6.259273 | Val Acc: 0.640200 loss: 6.942075\n",
      "Saving with acc : 0.6402\n",
      "[002/010] 5.36 sec(s) Train Acc: 0.668188 Loss: 5.794994 | Val Acc: 0.630000 loss: 6.886653\n",
      "[003/010] 5.37 sec(s) Train Acc: 0.877003 Loss: 2.978478 | Val Acc: 0.755800 loss: 5.997949\n",
      "Saving with acc : 0.7558\n",
      "[004/010] 5.37 sec(s) Train Acc: 0.920358 Loss: 1.945035 | Val Acc: 0.765900 loss: 5.085778\n",
      "Saving with acc : 0.7659\n",
      "[005/010] 5.44 sec(s) Train Acc: 0.923240 Loss: 1.826652 | Val Acc: 0.755500 loss: 5.416344\n",
      "[006/010] 5.50 sec(s) Train Acc: 0.926551 Loss: 1.708863 | Val Acc: 0.780200 loss: 5.207455\n",
      "Saving with acc : 0.7802\n",
      "[007/010] 5.42 sec(s) Train Acc: 0.928083 Loss: 1.628750 | Val Acc: 0.782300 loss: 4.850074\n",
      "Saving with acc : 0.7823\n",
      "[008/010] 5.40 sec(s) Train Acc: 0.931328 Loss: 1.557861 | Val Acc: 0.776100 loss: 4.968523\n",
      "[009/010] 5.38 sec(s) Train Acc: 0.932761 Loss: 1.498654 | Val Acc: 0.785200 loss: 5.012819\n",
      "Saving with acc : 0.7852\n",
      "[010/010] 5.40 sec(s) Train Acc: 0.933717 Loss: 1.463784 | Val Acc: 0.784900 loss: 4.992991\n",
      "------------------------------------------------\n",
      "train size: 60709\n",
      "current acc: 0.7812588235294118\n",
      "adding nolabel data,\n",
      "- lable 1: 23699\n",
      "- lable 0: 26262\n",
      "-------------------------------------------------\n",
      "[001/010] 6.05 sec(s) Train Acc: 0.888895 Loss: 2.464490 | Val Acc: 0.772900 loss: 5.375454\n",
      "Saving with acc : 0.7729\n",
      "[002/010] 6.08 sec(s) Train Acc: 0.935550 Loss: 1.544315 | Val Acc: 0.777600 loss: 4.956572\n",
      "Saving with acc : 0.7776\n",
      "[003/010] 6.06 sec(s) Train Acc: 0.939138 Loss: 1.424580 | Val Acc: 0.776800 loss: 5.066558\n",
      "[004/010] 6.03 sec(s) Train Acc: 0.940910 Loss: 1.347964 | Val Acc: 0.769600 loss: 5.286130\n",
      "[005/010] 6.08 sec(s) Train Acc: 0.943583 Loss: 1.298447 | Val Acc: 0.786500 loss: 5.139339\n",
      "Saving with acc : 0.7865\n",
      "[006/010] 6.08 sec(s) Train Acc: 0.945655 Loss: 1.213438 | Val Acc: 0.787400 loss: 5.791182\n",
      "Saving with acc : 0.7874\n",
      "[007/010] 6.07 sec(s) Train Acc: 0.948757 Loss: 1.143379 | Val Acc: 0.776700 loss: 5.686602\n",
      "[008/010] 6.09 sec(s) Train Acc: 0.953260 Loss: 1.046369 | Val Acc: 0.779300 loss: 6.012300\n",
      "[009/010] 6.07 sec(s) Train Acc: 0.958734 Loss: 0.939025 | Val Acc: 0.768200 loss: 5.745823\n",
      "[010/010] 6.07 sec(s) Train Acc: 0.964895 Loss: 0.811657 | Val Acc: 0.761500 loss: 7.072319\n",
      "------------------------------------------------\n",
      "train size: 69961\n",
      "current acc: 0.7847176470588235\n",
      "adding nolabel data,\n",
      "- lable 1: 40404\n",
      "- lable 0: 41588\n",
      "-------------------------------------------------\n",
      "[001/010] 8.39 sec(s) Train Acc: 0.926396 Loss: 1.826598 | Val Acc: 0.781500 loss: 5.730542\n",
      "Saving with acc : 0.7815\n",
      "[002/010] 8.44 sec(s) Train Acc: 0.957301 Loss: 1.179705 | Val Acc: 0.783400 loss: 5.919544\n",
      "Saving with acc : 0.7834\n",
      "[003/010] 8.36 sec(s) Train Acc: 0.959752 Loss: 1.077968 | Val Acc: 0.786200 loss: 5.979901\n",
      "Saving with acc : 0.7862\n",
      "[004/010] 8.33 sec(s) Train Acc: 0.961958 Loss: 1.005803 | Val Acc: 0.786600 loss: 5.466662\n",
      "Saving with acc : 0.7866\n",
      "[005/010] 8.36 sec(s) Train Acc: 0.963850 Loss: 0.926975 | Val Acc: 0.784800 loss: 5.953185\n",
      "[006/010] 8.32 sec(s) Train Acc: 0.966213 Loss: 0.850783 | Val Acc: 0.786700 loss: 5.528215\n",
      "Saving with acc : 0.7867\n",
      "[007/010] 8.34 sec(s) Train Acc: 0.968752 Loss: 0.785852 | Val Acc: 0.780800 loss: 6.088794\n",
      "[008/010] 8.38 sec(s) Train Acc: 0.972547 Loss: 0.703420 | Val Acc: 0.780900 loss: 6.510166\n",
      "[009/010] 8.40 sec(s) Train Acc: 0.975508 Loss: 0.640039 | Val Acc: 0.772400 loss: 6.351744\n",
      "[010/010] 8.57 sec(s) Train Acc: 0.979998 Loss: 0.542574 | Val Acc: 0.763000 loss: 7.153377\n",
      "------------------------------------------------\n",
      "train size: 101992\n",
      "current acc: 0.7828529411764706\n",
      "adding nolabel data,\n",
      "- lable 1: 39968\n",
      "- lable 0: 36142\n",
      "-------------------------------------------------\n",
      "[001/010] 7.91 sec(s) Train Acc: 0.914681 Loss: 2.005486 | Val Acc: 0.779000 loss: 5.510721\n",
      "Saving with acc : 0.779\n",
      "[002/010] 7.93 sec(s) Train Acc: 0.954916 Loss: 1.219321 | Val Acc: 0.780700 loss: 5.547425\n",
      "Saving with acc : 0.7807\n",
      "[003/010] 7.96 sec(s) Train Acc: 0.957830 Loss: 1.088896 | Val Acc: 0.784500 loss: 5.453128\n",
      "Saving with acc : 0.7845\n",
      "[004/010] 7.95 sec(s) Train Acc: 0.961097 Loss: 0.987985 | Val Acc: 0.782700 loss: 5.761620\n",
      "[005/010] 7.89 sec(s) Train Acc: 0.963844 Loss: 0.900723 | Val Acc: 0.780600 loss: 5.626979\n",
      "[006/010] 7.91 sec(s) Train Acc: 0.966195 Loss: 0.832595 | Val Acc: 0.777600 loss: 6.446960\n",
      "[007/010] 7.94 sec(s) Train Acc: 0.968515 Loss: 0.772845 | Val Acc: 0.777300 loss: 6.638481\n",
      "[008/010] 7.87 sec(s) Train Acc: 0.972271 Loss: 0.676902 | Val Acc: 0.775400 loss: 6.174359\n",
      "[009/010] 7.92 sec(s) Train Acc: 0.976641 Loss: 0.593471 | Val Acc: 0.765600 loss: 6.886308\n",
      "[010/010] 7.97 sec(s) Train Acc: 0.980793 Loss: 0.509478 | Val Acc: 0.771100 loss: 7.779644\n",
      "------------------------------------------------\n",
      "train size: 96110\n",
      "current acc: 0.780035294117647\n",
      "adding nolabel data,\n",
      "- lable 1: 29715\n",
      "- lable 0: 41848\n",
      "-------------------------------------------------\n",
      "[001/010] 7.63 sec(s) Train Acc: 0.905267 Loss: 2.301191 | Val Acc: 0.773800 loss: 5.604280\n",
      "Saving with acc : 0.7738\n",
      "[002/010] 7.58 sec(s) Train Acc: 0.951749 Loss: 1.299346 | Val Acc: 0.781700 loss: 5.068060\n",
      "Saving with acc : 0.7817\n",
      "[003/010] 7.58 sec(s) Train Acc: 0.954774 Loss: 1.168665 | Val Acc: 0.782300 loss: 5.172992\n",
      "Saving with acc : 0.7823\n",
      "[004/010] 7.64 sec(s) Train Acc: 0.956729 Loss: 1.096386 | Val Acc: 0.773400 loss: 5.497969\n",
      "[005/010] 7.64 sec(s) Train Acc: 0.959121 Loss: 1.015608 | Val Acc: 0.781100 loss: 5.508895\n",
      "[006/010] 7.68 sec(s) Train Acc: 0.961360 Loss: 0.957932 | Val Acc: 0.774200 loss: 5.562803\n",
      "[007/010] 7.58 sec(s) Train Acc: 0.963861 Loss: 0.894220 | Val Acc: 0.773900 loss: 5.555977\n",
      "[008/010] 7.55 sec(s) Train Acc: 0.966777 Loss: 0.808648 | Val Acc: 0.776800 loss: 6.355165\n",
      "[009/010] 7.56 sec(s) Train Acc: 0.970021 Loss: 0.744905 | Val Acc: 0.774800 loss: 6.744621\n",
      "[010/010] 7.58 sec(s) Train Acc: 0.974193 Loss: 0.657691 | Val Acc: 0.769800 loss: 6.615981\n",
      "------------------------------------------------\n",
      "train size: 91563\n",
      "current acc: 0.7790588235294118\n",
      "adding nolabel data,\n",
      "- lable 1: 22447\n",
      "- lable 0: 34533\n",
      "-------------------------------------------------\n",
      "[001/010] 6.51 sec(s) Train Acc: 0.906534 Loss: 2.214701 | Val Acc: 0.765400 loss: 5.495915\n",
      "Saving with acc : 0.7654\n",
      "[002/010] 6.55 sec(s) Train Acc: 0.942414 Loss: 1.415526 | Val Acc: 0.779700 loss: 5.376507\n",
      "Saving with acc : 0.7797\n",
      "[003/010] 6.54 sec(s) Train Acc: 0.946220 Loss: 1.281419 | Val Acc: 0.782700 loss: 5.126262\n",
      "Saving with acc : 0.7827\n",
      "[004/010] 6.58 sec(s) Train Acc: 0.948246 Loss: 1.219694 | Val Acc: 0.766400 loss: 5.297795\n",
      "[005/010] 6.59 sec(s) Train Acc: 0.950169 Loss: 1.168877 | Val Acc: 0.780600 loss: 5.333243\n",
      "[006/010] 6.53 sec(s) Train Acc: 0.952975 Loss: 1.084392 | Val Acc: 0.771400 loss: 5.522798\n",
      "[007/010] 6.55 sec(s) Train Acc: 0.956443 Loss: 1.009961 | Val Acc: 0.773100 loss: 5.586048\n",
      "[008/010] 6.52 sec(s) Train Acc: 0.959912 Loss: 0.927781 | Val Acc: 0.775500 loss: 5.612648\n",
      "[009/010] 6.55 sec(s) Train Acc: 0.965822 Loss: 0.819807 | Val Acc: 0.778200 loss: 6.480778\n",
      "[010/010] 6.57 sec(s) Train Acc: 0.970200 Loss: 0.738627 | Val Acc: 0.765000 loss: 6.397323\n",
      "------------------------------------------------\n",
      "train size: 76980\n",
      "current acc: 0.7803529411764706\n",
      "adding nolabel data,\n",
      "- lable 1: 25173\n",
      "- lable 0: 35252\n",
      "-------------------------------------------------\n",
      "[001/010] 6.80 sec(s) Train Acc: 0.911097 Loss: 2.106971 | Val Acc: 0.775200 loss: 5.172036\n",
      "Saving with acc : 0.7752\n",
      "[002/010] 6.80 sec(s) Train Acc: 0.945713 Loss: 1.366718 | Val Acc: 0.775300 loss: 4.937779\n",
      "Saving with acc : 0.7753\n",
      "[003/010] 6.77 sec(s) Train Acc: 0.947976 Loss: 1.244043 | Val Acc: 0.782700 loss: 5.064082\n",
      "Saving with acc : 0.7827\n",
      "[004/010] 6.77 sec(s) Train Acc: 0.949978 Loss: 1.172460 | Val Acc: 0.778800 loss: 5.164232\n",
      "[005/010] 6.82 sec(s) Train Acc: 0.951881 Loss: 1.118712 | Val Acc: 0.781100 loss: 5.304127\n",
      "[006/010] 6.85 sec(s) Train Acc: 0.954554 Loss: 1.059475 | Val Acc: 0.779700 loss: 5.691582\n",
      "[007/010] 6.80 sec(s) Train Acc: 0.957911 Loss: 0.982293 | Val Acc: 0.769600 loss: 5.638190\n",
      "[008/010] 6.76 sec(s) Train Acc: 0.961728 Loss: 0.899343 | Val Acc: 0.770100 loss: 6.221616\n",
      "[009/010] 6.77 sec(s) Train Acc: 0.965807 Loss: 0.812320 | Val Acc: 0.766200 loss: 6.150774\n",
      "[010/010] 6.91 sec(s) Train Acc: 0.970643 Loss: 0.711119 | Val Acc: 0.771700 loss: 6.375217\n",
      "------------------------------------------------\n",
      "train size: 80425\n",
      "current acc: 0.7810529411764706\n",
      "adding nolabel data,\n",
      "- lable 1: 20791\n",
      "- lable 0: 33793\n",
      "-------------------------------------------------\n"
     ]
    }
   ],
   "source": [
    "for i in range(10):\n",
    "    train_set,val_set, test_set = Dataset(train_test_x, train_test_y),Dataset(val_x, val_y), Dataset(test_x)\n",
    "    train_loader = torch.utils.data.DataLoader(dataset = train_set,\n",
    "                                                batch_size = batch_size,\n",
    "                                                shuffle = True,\n",
    "                                                num_workers = 8)\n",
    "    val_loader = torch.utils.data.DataLoader(dataset = val_set,\n",
    "                                                batch_size = batch_size,\n",
    "                                                shuffle = False,\n",
    "                                                num_workers = 8)\n",
    "\n",
    "    # model\n",
    "    rnn_model = lstm_model(w2v_preprocesser._get_emb_matrix()).to(device)\n",
    "    logs = e_training(rnn_model, train_loader, val_loader, device, lambda_ = lambda_, num_epoch = num_epoch, data_path= data_path, learning_rate = learning_rate)\n",
    "    # test\n",
    "    model = torch.load(os.path.join(data_path, 'best_semi.model'))\n",
    "    model.eval()\n",
    "    test_pred = []\n",
    "    with torch.no_grad():\n",
    "        for i, inputs in enumerate(test_loader):\n",
    "            inputs = inputs.to(device, dtype=torch.long)\n",
    "            outputs = model(inputs)\n",
    "            outputs = outputs.squeeze()\n",
    "            test_pred += outputs.tolist() \n",
    "    test_pred = np.array(test_pred)\n",
    "    test_label = np.zeros(test_pred.shape, dtype =np.int8)\n",
    "    test_label[test_pred>=0.5] = 1\n",
    "    test_label[test_pred< 0.5] = 0\n",
    "    log_acc.append(np.sum(test_label == test_y)/len(test_label))\n",
    "    # Choose the data that predicts the best results\n",
    "    add_x, add_y = test_x[(test_pred>high) | (test_pred < low)], test_label[(test_pred>high) | (test_pred < low)]\n",
    "    print(\"------------------------------------------------\")\n",
    "    print(\"train size: {}\".format(train_test_x.shape[0]))\n",
    "    print(\"current acc: {}\".format(log_acc[-1]))\n",
    "    print(\"adding nolabel data,\")\n",
    "    print(\"- lable 1: {}\".format(np.sum(add_y==1)))\n",
    "    print(\"- lable 0: {}\".format(np.sum(add_y==0)))\n",
    "    print('-------------------------------------------------')\n",
    "    # new dataset\n",
    "    train_test_x, train_test_y = np.concatenate((train_x, add_x)),np.concatenate((train_y, add_y))"
   ]
  }
 ],
 "metadata": {
  "accelerator": "GPU",
  "colab": {
   "collapsed_sections": [],
   "machine_shape": "hm",
   "name": "hw4.ipynb",
   "provenance": [],
   "toc_visible": true
  },
  "kernelspec": {
   "display_name": "Python 3",
   "language": "python",
   "name": "python3"
  },
  "language_info": {
   "codemirror_mode": {
    "name": "ipython",
    "version": 3
   },
   "file_extension": ".py",
   "mimetype": "text/x-python",
   "name": "python",
   "nbconvert_exporter": "python",
   "pygments_lexer": "ipython3",
   "version": "3.7.4"
  },
  "toc": {
   "base_numbering": 1,
   "nav_menu": {},
   "number_sections": false,
   "sideBar": true,
   "skip_h1_title": false,
   "title_cell": "Table of Contents",
   "title_sidebar": "Contents",
   "toc_cell": false,
   "toc_position": {
    "height": "calc(100% - 180px)",
    "left": "10px",
    "top": "150px",
    "width": "215.813px"
   },
   "toc_section_display": true,
   "toc_window_display": true
  }
 },
 "nbformat": 4,
 "nbformat_minor": 1
}
