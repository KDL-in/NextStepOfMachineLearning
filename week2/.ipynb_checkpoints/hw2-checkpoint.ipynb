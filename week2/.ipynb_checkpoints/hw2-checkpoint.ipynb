{
 "cells": [
  {
   "cell_type": "markdown",
   "metadata": {
    "colab_type": "text",
    "id": "qGl4ARgP5chF"
   },
   "source": [
    "# 1. Task Description\n",
    "给定诸多属性，预测某人收入是否超过50000美元。\n",
    "\n",
    "**Notes**\n",
    "\n",
    "使用one-hot vector 处理离散型属性，具体而言，某些属性取离散值，如何进行预处理，这一直是我的疑问，这里算是一个方法。举例：\n",
    "属性education，可能包含n个离散值High scholl graduate、Master degree、Children……如何数据化？\n",
    "one-hot vector的方法是将其变为两n个属性，每个属性只取0，1两种值。\n",
    "\n",
    "**WHY**\n",
    "\n",
    "我过往的想法是直接给n个值编号，利用编号代替属性取值，但仔细想想这样是不好的。相当于给某个属性下的取值赋予了不同权重，但其实这些取值是对等的，而且，例如理发师编号为10，而CEO编号为11，loss function只会感知到大小，无法感知离散取值不同。所以这种奇怪的one-hot vector才是正确的做法。\n"
   ]
  },
  {
   "cell_type": "markdown",
   "metadata": {
    "colab_type": "text",
    "id": "nM26S5P6_3J-"
   },
   "source": [
    "\n",
    "# 2. Processing\n",
    "\n",
    "1. 读取数据\n",
    "2. 标准化\n",
    "3. 切分数据"
   ]
  },
  {
   "cell_type": "code",
   "execution_count": 1,
   "metadata": {
    "colab": {},
    "colab_type": "code",
    "id": "vqEI2Obs5eER"
   },
   "outputs": [
    {
     "name": "stdout",
     "output_type": "stream",
     "text": [
      "Size of training set: 48830\n",
      "Size of development set: 5426\n",
      "Size of testing set: 27622\n",
      "Dimension of data: 510\n"
     ]
    }
   ],
   "source": [
    "import numpy as np\n",
    "\n",
    "np.random.seed(0)\n",
    "\n",
    "X_train_fpath = './data/X_train'\n",
    "Y_train_fpath = './data/Y_train'\n",
    "X_test_fpath = './data/X_test'\n",
    "output_fpath = './output_{}.csv'\n",
    "\n",
    "# Parse csv files to numpy array\n",
    "with open(X_train_fpath) as f:\n",
    "    next(f)\n",
    "    X = np.array([line.strip('\\n').split(',')[1:] for line in f], dtype = float)\n",
    "with open(Y_train_fpath) as f:\n",
    "    next(f)\n",
    "    Y = np.array([line.strip('\\n').split(',')[1] for line in f], dtype = float)\n",
    "with open(X_test_fpath) as f:\n",
    "    next(f)\n",
    "    X_test = np.array([line.strip('\\n').split(',')[1:] for line in f], dtype = float)\n",
    "\n",
    "def normalize(X, train = True, specified_column = None, X_mean = None, X_std = None):\n",
    "    # This function normalizes specific columns of X.\n",
    "    # The mean and standard variance of training data will be reused when processing testing data.\n",
    "    #\n",
    "    # Arguments:\n",
    "    #     X: data to be processed\n",
    "    #     train: 'True' when processing training data, 'False' for testing data\n",
    "    #     specific_column: indexes of the columns that will be normalized. If 'None', all columns\n",
    "    #         will be normalized.\n",
    "    #     X_mean: mean value of training data, used when train = 'False'\n",
    "    #     X_std: standard deviation of training data, used when train = 'False'\n",
    "    # Outputs:\n",
    "    #     X: normalized data\n",
    "    #     X_mean: computed mean value of training data\n",
    "    #     X_std: computed standard deviation of training data\n",
    "\n",
    "    if specified_column == None:\n",
    "        specified_column = np.arange(X.shape[1])\n",
    "    if train:\n",
    "        X_mean = np.mean(X[:, specified_column] ,0).reshape(1, -1)\n",
    "        X_std  = np.std(X[:, specified_column], 0).reshape(1, -1)\n",
    "\n",
    "    X[:,specified_column] = (X[:, specified_column] - X_mean) / (X_std + 1e-8)\n",
    "     \n",
    "    return X, X_mean, X_std\n",
    "\n",
    "def train_dev_split(X, Y, dev_ratio = 0.25):\n",
    "    # This function spilts data into training set and development set.\n",
    "    train_size = int(len(X) * (1 - dev_ratio))\n",
    "    return X[:train_size], Y[:train_size], X[train_size:], Y[train_size:]\n",
    "\n",
    "# Normalize training and testing data\n",
    "X, X_mean, X_std = normalize(X, train = True)\n",
    "X_test, _, _= normalize(X_test, train = False, specified_column = None, X_mean = X_mean, X_std = X_std)\n",
    "    \n",
    "# Split data into training set and development set\n",
    "dev_ratio = 0.1\n",
    "X_train, Y_train, X_dev, Y_dev = train_dev_split(X, Y, dev_ratio = dev_ratio)\n",
    "\n",
    "train_size = X_train.shape[0]\n",
    "dev_size = X_dev.shape[0]\n",
    "test_size = X_test.shape[0]\n",
    "data_dim = X_train.shape[1]\n",
    "print('Size of training set: {}'.format(train_size))\n",
    "print('Size of development set: {}'.format(dev_size))\n",
    "print('Size of testing set: {}'.format(test_size))\n",
    "print('Dimension of data: {}'.format(data_dim))"
   ]
  },
  {
   "cell_type": "markdown",
   "metadata": {},
   "source": [
    "# 2. Model - Logistic Regression"
   ]
  },
  {
   "cell_type": "markdown",
   "metadata": {},
   "source": [
    "## 2.1 Logistic Regression\n",
    "\n",
    "$$Z=X\\cdot W + B=\\sum_iw_i \\cdot x_i + b \\\\ Y=\\sigma(Z)=\\frac{1}{1+e^{-Z}}$$\n",
    "\n",
    "**Cross Entropy**\n",
    "\n",
    "$$L = -\\frac{1}{N}\\sum_{n=1}^{N}\\hat{y}_n \\log y_n + \\left( 1 - \\hat{y}_n \\right) \\log \\left( 1 -  y_n \\right) + \\frac{\\lambda}{2N} \\sum_i w_i^{2}$$\n",
    "\n",
    "**Gradient**\n",
    "\n",
    "$$W = W - \\eta \\left[ \\frac{1}{N} \\left( Y - \\hat{Y} \\right) ^ \\mathrm{T} X + \\frac{\\lambda}{N} W \\right]= w_i -\\eta \\left[ \\frac{1}{N}\\sum_n\\left( y_n -  \\hat{y}_n\\right) x_{ni} + \\frac{\\lambda}{N} w_i \\right]  \\\\ B = B - \\frac{\\eta}{N}\\left( Y - \\hat{Y} \\right) $$ \n",
    "\n",
    "注：n 指sample数量，i 指 W 的维度。\n",
    "\n",
    "实现中把loss function中的1/N去掉。\n",
    "\n",
    "## 2.2 implementation"
   ]
  },
  {
   "cell_type": "code",
   "execution_count": 2,
   "metadata": {},
   "outputs": [],
   "source": [
    "def shuffle(X, Y):\n",
    "    # This function shuffles two equal-length list/array, X and Y, together.\n",
    "    randomize = np.arange(len(X))\n",
    "    np.random.shuffle(randomize)\n",
    "    return (X[randomize], Y[randomize])\n",
    "\n",
    "\n",
    "def sigmoid(z):\n",
    "    # Sigmoid function can be used to calculate probability.\n",
    "    # To avoid overflow, minimum/maximum output value is set.\n",
    "    return np.clip(1 / (1.0 + np.exp(-z)), 1e-8, 1 - (1e-8))\n",
    "\n",
    "\n",
    "def f(X, w, b):\n",
    "    # This is the logistic regression function, parameterized by w and b\n",
    "    #\n",
    "    # Arguements:\n",
    "    #     X: input data, shape = [batch_size, data_dimension]\n",
    "    #     w: weight vector, shape = [data_dimension, ]\n",
    "    #     b: bias, scalar\n",
    "    # Output:\n",
    "    #     predicted probability of each row of X being positively labeled, shape = [batch_size, ]\n",
    "    return sigmoid(np.matmul(X, w) + b)\n",
    "\n",
    "\n",
    "def predict(X, w, b):\n",
    "    # This function returns a truth value prediction for each row of X\n",
    "    # by rounding the result of logistic regression function.\n",
    "    return np.round(f(X, w, b)).astype(np.int)\n",
    "\n",
    "\n",
    "def accuracy(Y_pred, Y_label):\n",
    "    # This function calculates prediction accuracy\n",
    "    acc = 1 - np.mean(np.abs(Y_pred - Y_label))\n",
    "    return acc\n",
    "\n",
    "\n",
    "def cross_entropy_loss(y_pred, Y_label,w=None,lambda_ = 0):\n",
    "    # This function computes the cross entropy.\n",
    "    #\n",
    "    # Arguements:\n",
    "    #     y_pred: probabilistic predictions, float vector\n",
    "    #     Y_label: ground truth labels, bool vector\n",
    "    # Output:\n",
    "    #     cross entropy, scalar\n",
    "    N = y_pred.shape[0]\n",
    "    cross_entropy = -(np.dot(Y_label, np.log(y_pred)) \\\n",
    "            + np.dot((1 - Y_label), np.log(1 - y_pred)))/N\n",
    "    if lambda_:\n",
    "        cross_entropy += lambda_/2/N * np.dot(w,w)\n",
    "    return cross_entropy\n",
    "\n",
    "\n",
    "def gradient(X, Y_label, w, b,lambda_ = 0):\n",
    "    # This function computes the gradient of cross entropy loss with respect to weight w and bias b.\n",
    "    y_pred = f(X, w, b)\n",
    "    pred_error = y_pred - Y_label \n",
    "    N = Y_label.shape[0]\n",
    "    w_grad = (np.sum(pred_error * X.T, 1) + lambda_ * w)/N\n",
    "    b_grad = np.sum(pred_error)/N\n",
    "    return w_grad, b_grad"
   ]
  },
  {
   "cell_type": "code",
   "execution_count": 3,
   "metadata": {},
   "outputs": [
    {
     "name": "stdout",
     "output_type": "stream",
     "text": [
      "t_loss: 0.3636, v_loss: 0.3714,t_acc: 0.8652,v_acc: 0.8568\n",
      "t_loss: 0.3375, v_loss: 0.3464,t_acc: 0.8728,v_acc: 0.8625\n",
      "t_loss: 0.325, v_loss: 0.3344,t_acc: 0.8744,v_acc: 0.8645\n",
      "t_loss: 0.3172, v_loss: 0.327,t_acc: 0.8754,v_acc: 0.8669\n",
      "t_loss: 0.3119, v_loss: 0.322,t_acc: 0.8762,v_acc: 0.8684\n",
      "t_loss: 0.3079, v_loss: 0.3183,t_acc: 0.8767,v_acc: 0.8684\n",
      "t_loss: 0.3049, v_loss: 0.3154,t_acc: 0.8771,v_acc: 0.869\n",
      "t_loss: 0.3024, v_loss: 0.3132,t_acc: 0.8774,v_acc: 0.8699\n",
      "t_loss: 0.3004, v_loss: 0.3113,t_acc: 0.8778,v_acc: 0.8701\n",
      "t_loss: 0.2987, v_loss: 0.3098,t_acc: 0.878,v_acc: 0.8706\n",
      "t_loss: 0.2973, v_loss: 0.3085,t_acc: 0.8782,v_acc: 0.8706\n",
      "t_loss: 0.296, v_loss: 0.3073,t_acc: 0.8781,v_acc: 0.8706\n",
      "t_loss: 0.295, v_loss: 0.3064,t_acc: 0.8785,v_acc: 0.8704\n",
      "t_loss: 0.294, v_loss: 0.3055,t_acc: 0.8784,v_acc: 0.8708\n",
      "t_loss: 0.2931, v_loss: 0.3047,t_acc: 0.8786,v_acc: 0.8704\n",
      "t_loss: 0.2924, v_loss: 0.304,t_acc: 0.8786,v_acc: 0.8706\n",
      "t_loss: 0.2917, v_loss: 0.3034,t_acc: 0.8787,v_acc: 0.8708\n",
      "t_loss: 0.2911, v_loss: 0.3029,t_acc: 0.8788,v_acc: 0.8708\n",
      "t_loss: 0.2905, v_loss: 0.3024,t_acc: 0.8788,v_acc: 0.8714\n",
      "t_loss: 0.29, v_loss: 0.3019,t_acc: 0.8787,v_acc: 0.8717\n",
      "t_loss: 0.2895, v_loss: 0.3015,t_acc: 0.8788,v_acc: 0.8717\n",
      "t_loss: 0.2891, v_loss: 0.3011,t_acc: 0.8788,v_acc: 0.8717\n",
      "t_loss: 0.2886, v_loss: 0.3007,t_acc: 0.8788,v_acc: 0.871\n",
      "t_loss: 0.2883, v_loss: 0.3004,t_acc: 0.8787,v_acc: 0.8715\n",
      "t_loss: 0.2879, v_loss: 0.3001,t_acc: 0.8788,v_acc: 0.8715\n",
      "t_loss: 0.2876, v_loss: 0.2998,t_acc: 0.8787,v_acc: 0.8717\n",
      "t_loss: 0.2873, v_loss: 0.2995,t_acc: 0.8787,v_acc: 0.8717\n",
      "t_loss: 0.287, v_loss: 0.2993,t_acc: 0.8787,v_acc: 0.8715\n",
      "t_loss: 0.2867, v_loss: 0.299,t_acc: 0.8787,v_acc: 0.8712\n",
      "t_loss: 0.2864, v_loss: 0.2988,t_acc: 0.8788,v_acc: 0.8714\n",
      "t_loss: 0.2862, v_loss: 0.2986,t_acc: 0.8788,v_acc: 0.8712\n",
      "t_loss: 0.2859, v_loss: 0.2984,t_acc: 0.8788,v_acc: 0.8712\n",
      "t_loss: 0.2857, v_loss: 0.2982,t_acc: 0.8789,v_acc: 0.8712\n",
      "t_loss: 0.2855, v_loss: 0.298,t_acc: 0.879,v_acc: 0.8712\n",
      "t_loss: 0.2853, v_loss: 0.2978,t_acc: 0.879,v_acc: 0.871\n",
      "t_loss: 0.2851, v_loss: 0.2977,t_acc: 0.879,v_acc: 0.8708\n",
      "t_loss: 0.2849, v_loss: 0.2975,t_acc: 0.8791,v_acc: 0.871\n",
      "t_loss: 0.2848, v_loss: 0.2974,t_acc: 0.8792,v_acc: 0.8712\n",
      "t_loss: 0.2846, v_loss: 0.2972,t_acc: 0.8791,v_acc: 0.8712\n",
      "t_loss: 0.2845, v_loss: 0.2971,t_acc: 0.8792,v_acc: 0.8712\n",
      "t_loss: 0.2843, v_loss: 0.297,t_acc: 0.8792,v_acc: 0.8714\n",
      "t_loss: 0.2842, v_loss: 0.2969,t_acc: 0.8792,v_acc: 0.8714\n",
      "t_loss: 0.284, v_loss: 0.2967,t_acc: 0.8793,v_acc: 0.8715\n",
      "t_loss: 0.2839, v_loss: 0.2966,t_acc: 0.8793,v_acc: 0.871\n",
      "t_loss: 0.2838, v_loss: 0.2965,t_acc: 0.8793,v_acc: 0.871\n",
      "t_loss: 0.2837, v_loss: 0.2964,t_acc: 0.8792,v_acc: 0.8708\n",
      "t_loss: 0.2835, v_loss: 0.2963,t_acc: 0.8791,v_acc: 0.8708\n",
      "t_loss: 0.2834, v_loss: 0.2962,t_acc: 0.879,v_acc: 0.871\n",
      "t_loss: 0.2833, v_loss: 0.2961,t_acc: 0.879,v_acc: 0.8712\n",
      "t_loss: 0.2832, v_loss: 0.2961,t_acc: 0.8789,v_acc: 0.871\n",
      "t_loss: 0.2831, v_loss: 0.296,t_acc: 0.879,v_acc: 0.871\n",
      "t_loss: 0.283, v_loss: 0.2959,t_acc: 0.879,v_acc: 0.871\n",
      "t_loss: 0.2829, v_loss: 0.2958,t_acc: 0.879,v_acc: 0.871\n",
      "t_loss: 0.2828, v_loss: 0.2957,t_acc: 0.8789,v_acc: 0.871\n",
      "t_loss: 0.2827, v_loss: 0.2957,t_acc: 0.8789,v_acc: 0.8708\n",
      "t_loss: 0.2827, v_loss: 0.2956,t_acc: 0.879,v_acc: 0.8708\n",
      "t_loss: 0.2826, v_loss: 0.2955,t_acc: 0.8789,v_acc: 0.8708\n",
      "t_loss: 0.2825, v_loss: 0.2955,t_acc: 0.8789,v_acc: 0.8708\n",
      "t_loss: 0.2824, v_loss: 0.2954,t_acc: 0.8789,v_acc: 0.8708\n",
      "t_loss: 0.2823, v_loss: 0.2953,t_acc: 0.8789,v_acc: 0.8708\n",
      "t_loss: 0.2823, v_loss: 0.2953,t_acc: 0.8789,v_acc: 0.8708\n",
      "t_loss: 0.2822, v_loss: 0.2952,t_acc: 0.8789,v_acc: 0.8708\n",
      "t_loss: 0.2821, v_loss: 0.2952,t_acc: 0.8789,v_acc: 0.8708\n",
      "t_loss: 0.2821, v_loss: 0.2951,t_acc: 0.8789,v_acc: 0.871\n",
      "t_loss: 0.282, v_loss: 0.2951,t_acc: 0.8789,v_acc: 0.8712\n",
      "t_loss: 0.2819, v_loss: 0.295,t_acc: 0.879,v_acc: 0.8712\n",
      "t_loss: 0.2819, v_loss: 0.2949,t_acc: 0.8789,v_acc: 0.8712\n",
      "t_loss: 0.2818, v_loss: 0.2949,t_acc: 0.8789,v_acc: 0.8712\n",
      "t_loss: 0.2818, v_loss: 0.2949,t_acc: 0.8788,v_acc: 0.8712\n",
      "t_loss: 0.2817, v_loss: 0.2948,t_acc: 0.8789,v_acc: 0.8714\n",
      "t_loss: 0.2817, v_loss: 0.2948,t_acc: 0.8789,v_acc: 0.8714\n",
      "t_loss: 0.2816, v_loss: 0.2947,t_acc: 0.8789,v_acc: 0.871\n",
      "t_loss: 0.2815, v_loss: 0.2947,t_acc: 0.8789,v_acc: 0.8712\n",
      "t_loss: 0.2815, v_loss: 0.2946,t_acc: 0.8788,v_acc: 0.8712\n",
      "t_loss: 0.2814, v_loss: 0.2946,t_acc: 0.8789,v_acc: 0.8712\n",
      "t_loss: 0.2814, v_loss: 0.2946,t_acc: 0.8789,v_acc: 0.8712\n",
      "t_loss: 0.2814, v_loss: 0.2945,t_acc: 0.8788,v_acc: 0.8712\n",
      "t_loss: 0.2813, v_loss: 0.2945,t_acc: 0.8788,v_acc: 0.8712\n",
      "t_loss: 0.2813, v_loss: 0.2944,t_acc: 0.8788,v_acc: 0.8715\n",
      "t_loss: 0.2812, v_loss: 0.2944,t_acc: 0.8788,v_acc: 0.8715\n",
      "t_loss: 0.2812, v_loss: 0.2944,t_acc: 0.8788,v_acc: 0.8715\n",
      "t_loss: 0.2811, v_loss: 0.2943,t_acc: 0.8788,v_acc: 0.8715\n",
      "t_loss: 0.2811, v_loss: 0.2943,t_acc: 0.8788,v_acc: 0.8715\n",
      "t_loss: 0.2811, v_loss: 0.2943,t_acc: 0.8788,v_acc: 0.8715\n",
      "t_loss: 0.281, v_loss: 0.2943,t_acc: 0.8788,v_acc: 0.8715\n",
      "t_loss: 0.281, v_loss: 0.2942,t_acc: 0.8788,v_acc: 0.8717\n",
      "t_loss: 0.2809, v_loss: 0.2942,t_acc: 0.8789,v_acc: 0.8715\n",
      "t_loss: 0.2809, v_loss: 0.2942,t_acc: 0.8789,v_acc: 0.8715\n",
      "t_loss: 0.2809, v_loss: 0.2941,t_acc: 0.8789,v_acc: 0.8715\n",
      "t_loss: 0.2808, v_loss: 0.2941,t_acc: 0.8789,v_acc: 0.8715\n",
      "t_loss: 0.2808, v_loss: 0.2941,t_acc: 0.8789,v_acc: 0.8715\n",
      "t_loss: 0.2808, v_loss: 0.294,t_acc: 0.879,v_acc: 0.8717\n",
      "t_loss: 0.2807, v_loss: 0.294,t_acc: 0.879,v_acc: 0.8717\n",
      "t_loss: 0.2807, v_loss: 0.294,t_acc: 0.879,v_acc: 0.8717\n",
      "t_loss: 0.2807, v_loss: 0.294,t_acc: 0.879,v_acc: 0.8717\n",
      "t_loss: 0.2806, v_loss: 0.2939,t_acc: 0.879,v_acc: 0.8717\n",
      "t_loss: 0.2806, v_loss: 0.2939,t_acc: 0.879,v_acc: 0.8717\n",
      "t_loss: 0.2806, v_loss: 0.2939,t_acc: 0.879,v_acc: 0.8717\n",
      "t_loss: 0.2805, v_loss: 0.2939,t_acc: 0.879,v_acc: 0.8717\n",
      "t_loss: 0.2805, v_loss: 0.2938,t_acc: 0.879,v_acc: 0.8717\n",
      "Training loss: 0.2805177641794657\n",
      "Development loss: 0.2938489700826031\n",
      "Training accuracy: 0.8790292852754454\n",
      "Development accuracy: 0.8717287136011795\n"
     ]
    }
   ],
   "source": [
    "\n",
    "learning_rate = 0.03\n",
    "lambda_ = 0.3\n",
    "epoch = 100\n",
    "batch_size = 8\n",
    "\n",
    "\n",
    "\n",
    "w = np.zeros([X_train.shape[1],])\n",
    "b = np.zeros([1, ])\n",
    "iter = np.ceil(X_train.shape[0]/batch_size).astype(int)\n",
    "step = 1\n",
    "train_loss =[]\n",
    "val_loss = []\n",
    "train_acc = []\n",
    "val_acc = []\n",
    "\n",
    "for e in range(epoch):\n",
    "    X_train, Y_train = shuffle(X_train, Y_train)\n",
    "    for i in range(iter):\n",
    "        BX = X_train[i*batch_size:(i+1)*batch_size]\n",
    "        BY = Y_train[i*batch_size:(i+1)*batch_size]\n",
    "        grad_w, grad_b = gradient(BX, BY, w, b,lambda_ = lambda_)\n",
    "    \n",
    "        w = w - learning_rate/np.sqrt(step)*grad_w\n",
    "        b = b - learning_rate/np.sqrt(step)*grad_b\n",
    "\n",
    "        step += 1\n",
    "    Y_pred = f(X_train, w,b)\n",
    "    Y_dev_pred = f(X_dev,w,b)\n",
    "    train_loss.append(cross_entropy_loss(Y_pred,Y_train,w,lambda_))\n",
    "    val_loss.append(cross_entropy_loss(Y_dev_pred,Y_dev,w,lambda_))\n",
    "    Y_pred = np.round(Y_pred)\n",
    "    Y_dev_pred = np.round(Y_dev_pred)\n",
    "    train_acc.append(accuracy(Y_pred,Y_train))\n",
    "    val_acc.append(accuracy(Y_dev_pred,Y_dev))\n",
    "\n",
    "    print(\"t_loss: {:.4}, v_loss: {:.4},t_acc: {:.4},v_acc: {:.4}\".format(train_loss[-1],val_loss[-1],train_acc[-1],val_acc[-1]))\n",
    "\n",
    "print('Training loss: {}'.format(train_loss[-1]))\n",
    "print('Development loss: {}'.format(val_loss[-1]))\n",
    "print('Training accuracy: {}'.format(train_acc[-1]))\n",
    "print('Development accuracy: {}'.format(val_acc[-1]))\n",
    "\n"
   ]
  },
  {
   "cell_type": "code",
   "execution_count": 4,
   "metadata": {},
   "outputs": [
    {
     "data": {
      "image/png": "[encoded data removed]",
      "text/plain": [
       "<Figure size 432x288 with 1 Axes>"
      ]
     },
     "metadata": {
      "needs_background": "light"
     },
     "output_type": "display_data"
    },
    {
     "data": {
      "image/png": "[encoded data removed]",
      "text/plain": [
       "<Figure size 432x288 with 1 Axes>"
      ]
     },
     "metadata": {
      "needs_background": "light"
     },
     "output_type": "display_data"
    }
   ],
   "source": [
    "\n",
    "# plot loss\n",
    "from matplotlib import pyplot as plt\n",
    "plt.plot(train_loss, label = 'train_loss')\n",
    "plt.plot(val_loss,label = 'dev_loss')\n",
    "plt.legend()\n",
    "plt.show()\n",
    "plt.plot(train_acc,label = 'train_acc')\n",
    "plt.plot(val_acc,label = 'dev_acc')\n",
    "plt.legend()\n",
    "plt.show()"
   ]
  },
  {
   "cell_type": "code",
   "execution_count": 5,
   "metadata": {},
   "outputs": [],
   "source": [
    "# Predict testing labels\n",
    "predictions = predict(X_test, w, b)\n",
    "with open(output_fpath.format('logistic'), 'w') as f:\n",
    "    f.write('id,label\\n')\n",
    "    for i, label in  enumerate(predictions):\n",
    "        f.write('{},{}\\n'.format(i, label))"
   ]
  },
  {
   "cell_type": "markdown",
   "metadata": {},
   "source": [
    "## 2.3 Tuning Analyze\n",
    "\n",
    "从一开始模型loss波动非常剧烈到后期逐渐稳定下来，调参经验如下。\n",
    "\n",
    "- learning rate不要设置太大，损失函数设计也不要让梯度太大，否则会导致波动剧烈，无法收敛，梯度爆炸等问题。\n",
    "- batch_size，小批量梯度下降，这个参数影响随机梯度下降，设置得小，每次会选择很局部的梯度，模型波动会更强更不稳定，但是由于size小，跑完一次数据的iter就多，所以收敛要较快，而且我们也可以期望更大的随机性能有更大的可能让我们找到全局最优解。设置得大的话，可以考虑最大是整个数据集，即关闭小批量梯度下降，所以设置得越大，每次梯度越全局化，整体下降也更加稳定，但是，相应的size大，iter就小，所以看起来收敛会慢一点，可以适当提高epoch以得到相同的效果。\n",
    "- loss function实际上在上述实验中，对训练并无影响，为了方便可视化，应该设置合适的大小，很多看起来奇怪的结果，其实是可视化没做好。\n",
    "\n",
    "多次实验后，我的基本结论是：\n",
    "\n",
    "上述结果，已经接近瓶颈了，换句话说，逻辑回归模型中，510维度特征的基本就是这个performance，如果要更进一步，应该考虑feature selection。"
   ]
  },
  {
   "cell_type": "markdown",
   "metadata": {},
   "source": [
    "## 2.4 Feature Selection"
   ]
  },
  {
   "cell_type": "markdown",
   "metadata": {},
   "source": [
    "这是权重的分布。"
   ]
  },
  {
   "cell_type": "code",
   "execution_count": 7,
   "metadata": {},
   "outputs": [
    {
     "data": {
      "image/png": "[encoded data removed]",
      "text/plain": [
       "<Figure size 432x288 with 1 Axes>"
      ]
     },
     "metadata": {
      "needs_background": "light"
     },
     "output_type": "display_data"
    }
   ],
   "source": [
    "# show weight distribution\n",
    "plt.bar(range(len(w)),abs(w))\n",
    "plt.show()"
   ]
  },
  {
   "cell_type": "markdown",
   "metadata": {},
   "source": [
    "比较难判断，看看排序版的。"
   ]
  },
  {
   "cell_type": "code",
   "execution_count": 8,
   "metadata": {},
   "outputs": [
    {
     "data": {
      "image/png": "[encoded data removed]",
      "text/plain": [
       "<Figure size 432x288 with 1 Axes>"
      ]
     },
     "metadata": {
      "needs_background": "light"
     },
     "output_type": "display_data"
    }
   ],
   "source": [
    "# show weight distribution(sorted)\n",
    "plt.bar(range(len(w)),np.sort(abs(w)))\n",
    "plt.show()"
   ]
  },
  {
   "cell_type": "markdown",
   "metadata": {},
   "source": [
    "可以看到百分之二十的特征决定了百分之八十的结果。"
   ]
  },
  {
   "cell_type": "code",
   "execution_count": 17,
   "metadata": {},
   "outputs": [
    {
     "name": "stdout",
     "output_type": "stream",
     "text": [
      "id , features                                          , weight\n",
      "210, capital gains                           , 0.3312179777553165\n",
      "212, dividends from stocks                   , 0.31609651785976073\n",
      "507, weeks worked in year                    , 0.2274132217270788\n",
      "113, Masters degree(MA MS MEng MEd MSW MBA)  , 0.22589457224499335\n",
      "358, num persons worked for employer         , 0.214848453806637\n",
      "  0, age                                     , 0.21019529971494316\n",
      "191, Male                                    , 0.18821640011729027\n",
      "192, Female                                  , -0.18821640011729018\n",
      "120, Doctorate degree(PhD EdD)               , 0.16728958419703682\n",
      "211, capital losses                          , 0.16534364759523143\n"
     ]
    }
   ],
   "source": [
    "ind = np.argsort(np.abs(w))[::-1]\n",
    "with open(X_test_fpath) as f:\n",
    "    content = f.readline().strip('\\n').split(',')\n",
    "features = np.array(content)[1:]\n",
    "print(\"{:3}, {:50}, {}\".format('id','features', 'weight'))\n",
    "for i in ind[0:10]:\n",
    "    print(\"{:3}, {:40}, {}\".format(i,features[i].strip(), w[i]))"
   ]
  },
  {
   "cell_type": "markdown",
   "metadata": {},
   "source": [
    "可以看到上述的前十的影响因素，资产相关，工作时间，学位相关，性别……发现在这种one-hot编码下，我们可以直接分割属性。"
   ]
  },
  {
   "cell_type": "code",
   "execution_count": null,
   "metadata": {},
   "outputs": [],
   "source": []
  },
  {
   "cell_type": "code",
   "execution_count": null,
   "metadata": {},
   "outputs": [],
   "source": []
  }
 ],
 "metadata": {
  "accelerator": "GPU",
  "colab": {
   "authorship_tag": "ABX9TyNdo9wShV8UwuUw+dcElH2g",
   "name": "hw2.ipynb",
   "provenance": [],
   "toc_visible": true
  },
  "kernelspec": {
   "display_name": "Python 3",
   "language": "python",
   "name": "python3"
  },
  "language_info": {
   "codemirror_mode": {
    "name": "ipython",
    "version": 3
   },
   "file_extension": ".py",
   "mimetype": "text/x-python",
   "name": "python",
   "nbconvert_exporter": "python",
   "pygments_lexer": "ipython3",
   "version": "3.7.4"
  },
  "toc": {
   "base_numbering": 1,
   "nav_menu": {},
   "number_sections": false,
   "sideBar": true,
   "skip_h1_title": false,
   "title_cell": "Table of Contents",
   "title_sidebar": "Contents",
   "toc_cell": false,
   "toc_position": {
    "height": "calc(100% - 180px)",
    "left": "10px",
    "top": "150px",
    "width": "336px"
   },
   "toc_section_display": true,
   "toc_window_display": true
  }
 },
 "nbformat": 4,
 "nbformat_minor": 1
}
