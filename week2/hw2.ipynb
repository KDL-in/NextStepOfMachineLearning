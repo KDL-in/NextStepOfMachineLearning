{
 "cells": [
  {
   "cell_type": "markdown",
   "metadata": {
    "colab_type": "text",
    "id": "qGl4ARgP5chF"
   },
   "source": [
    "# 1. Task Description\n",
    "给定诸多属性，预测某人收入是否超过50000美元。\n",
    "\n",
    "**Notes**\n",
    "\n",
    "使用one-hot vector 处理离散型属性，具体而言，某些属性取离散值，如何进行预处理，这一直是我的疑问，这里算是一个方法。举例：\n",
    "属性education，可能包含n个离散值High scholl graduate、Master degree、Children……如何数据化？\n",
    "one-hot vector的方法是将其变为两n个属性，每个属性只取0，1两种值。\n",
    "\n",
    "**WHY**\n",
    "\n",
    "我过往的想法是直接给n个值编号，利用编号代替属性取值，但仔细想想这样是不好的。相当于给某个属性下的取值赋予了不同权重，但其实这些取值是对等的，而且，例如理发师编号为10，而CEO编号为11，loss function只会感知到大小，无法感知离散取值不同。所以这种奇怪的one-hot vector才是正确的做法。\n"
   ]
  },
  {
   "cell_type": "markdown",
   "metadata": {
    "colab_type": "text",
    "id": "nM26S5P6_3J-"
   },
   "source": [
    "\n",
    "# 2. Processing\n",
    "\n",
    "1. 读取数据\n",
    "2. 标准化\n",
    "3. 切分数据"
   ]
  },
  {
   "cell_type": "code",
   "execution_count": 1,
   "metadata": {
    "colab": {},
    "colab_type": "code",
    "id": "vqEI2Obs5eER"
   },
   "outputs": [
    {
     "name": "stdout",
     "output_type": "stream",
     "text": [
      "Size of training set: 48830\n",
      "Size of development set: 5426\n",
      "Size of testing set: 27622\n",
      "Dimension of data: 510\n"
     ]
    }
   ],
   "source": [
    "import numpy as np\n",
    "\n",
    "np.random.seed(0)\n",
    "\n",
    "X_train_fpath = './data/X_train'\n",
    "Y_train_fpath = './data/Y_train'\n",
    "X_test_fpath = './data/X_test'\n",
    "output_fpath = './output_{}.csv'\n",
    "\n",
    "# Parse csv files to numpy array\n",
    "with open(X_train_fpath) as f:\n",
    "    next(f)\n",
    "    X = np.array([line.strip('\\n').split(',')[1:] for line in f], dtype = float)\n",
    "with open(Y_train_fpath) as f:\n",
    "    next(f)\n",
    "    Y = np.array([line.strip('\\n').split(',')[1] for line in f], dtype = float)\n",
    "with open(X_test_fpath) as f:\n",
    "    next(f)\n",
    "    X_test = np.array([line.strip('\\n').split(',')[1:] for line in f], dtype = float)\n",
    "\n",
    "def normalize(X, train = True, specified_column = None, X_mean = None, X_std = None):\n",
    "    # This function normalizes specific columns of X.\n",
    "    # The mean and standard variance of training data will be reused when processing testing data.\n",
    "    #\n",
    "    # Arguments:\n",
    "    #     X: data to be processed\n",
    "    #     train: 'True' when processing training data, 'False' for testing data\n",
    "    #     specific_column: indexes of the columns that will be normalized. If 'None', all columns\n",
    "    #         will be normalized.\n",
    "    #     X_mean: mean value of training data, used when train = 'False'\n",
    "    #     X_std: standard deviation of training data, used when train = 'False'\n",
    "    # Outputs:\n",
    "    #     X: normalized data\n",
    "    #     X_mean: computed mean value of training data\n",
    "    #     X_std: computed standard deviation of training data\n",
    "\n",
    "    if specified_column == None:\n",
    "        specified_column = np.arange(X.shape[1])\n",
    "    if train:\n",
    "        X_mean = np.mean(X[:, specified_column] ,0).reshape(1, -1)\n",
    "        X_std  = np.std(X[:, specified_column], 0).reshape(1, -1)\n",
    "\n",
    "    X[:,specified_column] = (X[:, specified_column] - X_mean) / (X_std + 1e-8)\n",
    "     \n",
    "    return X, X_mean, X_std\n",
    "\n",
    "def train_dev_split(X, Y, dev_ratio = 0.25):\n",
    "    # This function spilts data into training set and development set.\n",
    "    train_size = int(len(X) * (1 - dev_ratio))\n",
    "    return X[:train_size], Y[:train_size], X[train_size:], Y[train_size:]\n",
    "\n",
    "# Normalize training and testing data\n",
    "X, X_mean, X_std = normalize(X, train = True)\n",
    "X_test, _, _= normalize(X_test, train = False, specified_column = None, X_mean = X_mean, X_std = X_std)\n",
    "    \n",
    "# Split data into training set and development set\n",
    "dev_ratio = 0.1\n",
    "X_train, Y_train, X_dev, Y_dev = train_dev_split(X, Y, dev_ratio = dev_ratio)\n",
    "\n",
    "train_size = X_train.shape[0]\n",
    "dev_size = X_dev.shape[0]\n",
    "test_size = X_test.shape[0]\n",
    "data_dim = X_train.shape[1]\n",
    "print('Size of training set: {}'.format(train_size))\n",
    "print('Size of development set: {}'.format(dev_size))\n",
    "print('Size of testing set: {}'.format(test_size))\n",
    "print('Dimension of data: {}'.format(data_dim))"
   ]
  },
  {
   "cell_type": "markdown",
   "metadata": {},
   "source": [
    "# 2. Model - Logistic Regression"
   ]
  },
  {
   "cell_type": "markdown",
   "metadata": {},
   "source": [
    "## 2.1 Logistic Regression\n",
    "\n",
    "$$Z=X\\cdot W + B=\\sum_iw_i \\cdot x_i + b \\\\ Y=\\sigma(Z)=\\frac{1}{1+e^{-Z}}$$\n",
    "\n",
    "**Cross Entropy**\n",
    "\n",
    "$$L = -\\frac{1}{N}\\sum_{n=1}^{N}\\hat{y}_n \\log y_n + \\left( 1 - \\hat{y}_n \\right) \\log \\left( 1 -  y_n \\right) + \\frac{\\lambda}{2N} \\sum_i w_i^{2}$$\n",
    "\n",
    "**Gradient**\n",
    "\n",
    "$$W = W - \\eta \\left[ \\frac{1}{N} \\left( Y - \\hat{Y} \\right) ^ \\mathrm{T} X + \\frac{\\lambda}{N} W \\right]= w_i -\\eta \\left[ \\frac{1}{N}\\sum_n\\left( y_n -  \\hat{y}_n\\right) x_{ni} + \\frac{\\lambda}{N} w_i \\right]  \\\\ B = B - \\frac{\\eta}{N}\\left( Y - \\hat{Y} \\right) $$ \n",
    "\n",
    "注：n 指sample数量，i 指 W 的维度。\n",
    "\n",
    "实现中把loss function中的1/N去掉。\n",
    "\n",
    "## 2.2 implementation"
   ]
  },
  {
   "cell_type": "code",
   "execution_count": 2,
   "metadata": {},
   "outputs": [],
   "source": [
    "def shuffle(X, Y):\n",
    "    # This function shuffles two equal-length list/array, X and Y, together.\n",
    "    randomize = np.arange(len(X))\n",
    "    np.random.shuffle(randomize)\n",
    "    return (X[randomize], Y[randomize])\n",
    "\n",
    "\n",
    "def sigmoid(z):\n",
    "    # Sigmoid function can be used to calculate probability.\n",
    "    # To avoid overflow, minimum/maximum output value is set.\n",
    "    return np.clip(1 / (1.0 + np.exp(-z)), 1e-8, 1 - (1e-8))\n",
    "\n",
    "\n",
    "def f(X, w, b):\n",
    "    # This is the logistic regression function, parameterized by w and b\n",
    "    #\n",
    "    # Arguements:\n",
    "    #     X: input data, shape = [batch_size, data_dimension]\n",
    "    #     w: weight vector, shape = [data_dimension, ]\n",
    "    #     b: bias, scalar\n",
    "    # Output:\n",
    "    #     predicted probability of each row of X being positively labeled, shape = [batch_size, ]\n",
    "    return sigmoid(np.matmul(X, w) + b)\n",
    "\n",
    "\n",
    "def predict(X, w, b):\n",
    "    # This function returns a truth value prediction for each row of X\n",
    "    # by rounding the result of logistic regression function.\n",
    "    return np.round(f(X, w, b)).astype(np.int)\n",
    "\n",
    "\n",
    "def accuracy(Y_pred, Y_label):\n",
    "    # This function calculates prediction accuracy\n",
    "    acc = 1 - np.mean(np.abs(Y_pred - Y_label))\n",
    "    return acc\n",
    "\n",
    "\n",
    "def cross_entropy_loss(y_pred, Y_label,w=None,lambda_ = 0):\n",
    "    # This function computes the cross entropy.\n",
    "    #\n",
    "    # Arguements:\n",
    "    #     y_pred: probabilistic predictions, float vector\n",
    "    #     Y_label: ground truth labels, bool vector\n",
    "    # Output:\n",
    "    #     cross entropy, scalar\n",
    "    N = y_pred.shape[0]\n",
    "    cross_entropy = -(np.dot(Y_label, np.log(y_pred)) \\\n",
    "            + np.dot((1 - Y_label), np.log(1 - y_pred)))/N\n",
    "    if lambda_:\n",
    "        cross_entropy += lambda_/2/N * np.dot(w,w)\n",
    "    return cross_entropy\n",
    "\n",
    "\n",
    "def gradient(X, Y_label, w, b,lambda_ = 0):\n",
    "    # This function computes the gradient of cross entropy loss with respect to weight w and bias b.\n",
    "    y_pred = f(X, w, b)\n",
    "    pred_error = y_pred - Y_label \n",
    "    N = Y_label.shape[0]\n",
    "    w_grad = (np.sum(pred_error * X.T, 1) + lambda_ * w)/N\n",
    "    b_grad = np.sum(pred_error)/N\n",
    "    return w_grad, b_grad"
   ]
  },
  {
   "cell_type": "code",
   "execution_count": 3,
   "metadata": {},
   "outputs": [
    {
     "name": "stdout",
     "output_type": "stream",
     "text": [
      "t_loss: 0.4655, v_loss: 0.4695,t_acc: 0.823,v_acc: 0.8229\n",
      "t_loss: 0.4311, v_loss: 0.4365,t_acc: 0.8405,v_acc: 0.8339\n",
      "t_loss: 0.4111, v_loss: 0.4174,t_acc: 0.8489,v_acc: 0.8411\n",
      "t_loss: 0.3972, v_loss: 0.4041,t_acc: 0.8539,v_acc: 0.8454\n",
      "t_loss: 0.3867, v_loss: 0.3941,t_acc: 0.8577,v_acc: 0.8472\n",
      "t_loss: 0.3784, v_loss: 0.3861,t_acc: 0.8601,v_acc: 0.8505\n",
      "t_loss: 0.3715, v_loss: 0.3795,t_acc: 0.8622,v_acc: 0.8513\n",
      "t_loss: 0.3657, v_loss: 0.374,t_acc: 0.8639,v_acc: 0.8544\n",
      "t_loss: 0.3607, v_loss: 0.3692,t_acc: 0.8655,v_acc: 0.8553\n",
      "t_loss: 0.3564, v_loss: 0.3651,t_acc: 0.8665,v_acc: 0.8575\n",
      "t_loss: 0.3525, v_loss: 0.3614,t_acc: 0.8674,v_acc: 0.8585\n",
      "t_loss: 0.3491, v_loss: 0.3581,t_acc: 0.8684,v_acc: 0.8607\n",
      "t_loss: 0.346, v_loss: 0.3552,t_acc: 0.8695,v_acc: 0.8609\n",
      "t_loss: 0.3432, v_loss: 0.3526,t_acc: 0.8699,v_acc: 0.8612\n",
      "t_loss: 0.3407, v_loss: 0.3501,t_acc: 0.8706,v_acc: 0.8616\n",
      "t_loss: 0.3384, v_loss: 0.3479,t_acc: 0.871,v_acc: 0.8616\n",
      "t_loss: 0.3362, v_loss: 0.3459,t_acc: 0.8716,v_acc: 0.8614\n",
      "t_loss: 0.3342, v_loss: 0.344,t_acc: 0.8725,v_acc: 0.8618\n",
      "t_loss: 0.3324, v_loss: 0.3423,t_acc: 0.8729,v_acc: 0.8625\n",
      "t_loss: 0.3307, v_loss: 0.3407,t_acc: 0.8732,v_acc: 0.8634\n",
      "t_loss: 0.329, v_loss: 0.3391,t_acc: 0.8735,v_acc: 0.8631\n",
      "t_loss: 0.3275, v_loss: 0.3377,t_acc: 0.8739,v_acc: 0.8633\n",
      "t_loss: 0.3261, v_loss: 0.3364,t_acc: 0.8741,v_acc: 0.8634\n",
      "t_loss: 0.3248, v_loss: 0.3351,t_acc: 0.8745,v_acc: 0.8633\n",
      "t_loss: 0.3235, v_loss: 0.3339,t_acc: 0.8748,v_acc: 0.8631\n",
      "t_loss: 0.3223, v_loss: 0.3328,t_acc: 0.8747,v_acc: 0.8633\n",
      "t_loss: 0.3212, v_loss: 0.3318,t_acc: 0.8749,v_acc: 0.8633\n",
      "t_loss: 0.3201, v_loss: 0.3308,t_acc: 0.8749,v_acc: 0.8633\n",
      "t_loss: 0.3191, v_loss: 0.3298,t_acc: 0.8753,v_acc: 0.8625\n",
      "t_loss: 0.3181, v_loss: 0.3289,t_acc: 0.8756,v_acc: 0.8631\n",
      "t_loss: 0.3172, v_loss: 0.328,t_acc: 0.8758,v_acc: 0.8634\n",
      "t_loss: 0.3163, v_loss: 0.3272,t_acc: 0.8761,v_acc: 0.8642\n",
      "t_loss: 0.3155, v_loss: 0.3264,t_acc: 0.8764,v_acc: 0.8644\n",
      "t_loss: 0.3146, v_loss: 0.3256,t_acc: 0.8767,v_acc: 0.8642\n",
      "t_loss: 0.3139, v_loss: 0.3249,t_acc: 0.8767,v_acc: 0.8645\n",
      "t_loss: 0.3131, v_loss: 0.3242,t_acc: 0.8767,v_acc: 0.8647\n",
      "t_loss: 0.3124, v_loss: 0.3236,t_acc: 0.8766,v_acc: 0.8649\n",
      "t_loss: 0.3117, v_loss: 0.3229,t_acc: 0.8766,v_acc: 0.8655\n",
      "t_loss: 0.311, v_loss: 0.3223,t_acc: 0.8765,v_acc: 0.8662\n",
      "t_loss: 0.3104, v_loss: 0.3217,t_acc: 0.8767,v_acc: 0.8668\n",
      "t_loss: 0.3098, v_loss: 0.3211,t_acc: 0.8767,v_acc: 0.8671\n",
      "t_loss: 0.3092, v_loss: 0.3206,t_acc: 0.8768,v_acc: 0.8675\n",
      "t_loss: 0.3086, v_loss: 0.32,t_acc: 0.8767,v_acc: 0.8675\n",
      "t_loss: 0.308, v_loss: 0.3195,t_acc: 0.8767,v_acc: 0.8675\n",
      "t_loss: 0.3075, v_loss: 0.319,t_acc: 0.877,v_acc: 0.8675\n",
      "t_loss: 0.3069, v_loss: 0.3185,t_acc: 0.8771,v_acc: 0.8675\n",
      "t_loss: 0.3064, v_loss: 0.3181,t_acc: 0.8771,v_acc: 0.8677\n",
      "t_loss: 0.3059, v_loss: 0.3176,t_acc: 0.8774,v_acc: 0.8682\n",
      "t_loss: 0.3055, v_loss: 0.3172,t_acc: 0.8775,v_acc: 0.8684\n",
      "t_loss: 0.305, v_loss: 0.3168,t_acc: 0.8775,v_acc: 0.8686\n",
      "t_loss: 0.3046, v_loss: 0.3164,t_acc: 0.8775,v_acc: 0.8679\n",
      "t_loss: 0.3041, v_loss: 0.316,t_acc: 0.8776,v_acc: 0.8679\n",
      "t_loss: 0.3037, v_loss: 0.3156,t_acc: 0.8778,v_acc: 0.868\n",
      "t_loss: 0.3033, v_loss: 0.3152,t_acc: 0.8778,v_acc: 0.8684\n",
      "t_loss: 0.3029, v_loss: 0.3148,t_acc: 0.8779,v_acc: 0.8684\n",
      "t_loss: 0.3025, v_loss: 0.3145,t_acc: 0.8779,v_acc: 0.8686\n",
      "t_loss: 0.3021, v_loss: 0.3141,t_acc: 0.878,v_acc: 0.8684\n",
      "t_loss: 0.3017, v_loss: 0.3138,t_acc: 0.878,v_acc: 0.8684\n",
      "t_loss: 0.3014, v_loss: 0.3134,t_acc: 0.878,v_acc: 0.8686\n",
      "t_loss: 0.301, v_loss: 0.3131,t_acc: 0.8779,v_acc: 0.869\n",
      "t_loss: 0.3007, v_loss: 0.3128,t_acc: 0.878,v_acc: 0.8691\n",
      "t_loss: 0.3003, v_loss: 0.3125,t_acc: 0.878,v_acc: 0.8691\n",
      "t_loss: 0.3, v_loss: 0.3122,t_acc: 0.8779,v_acc: 0.8695\n",
      "t_loss: 0.2997, v_loss: 0.3119,t_acc: 0.8779,v_acc: 0.8693\n",
      "t_loss: 0.2994, v_loss: 0.3116,t_acc: 0.8779,v_acc: 0.8693\n",
      "t_loss: 0.299, v_loss: 0.3114,t_acc: 0.8779,v_acc: 0.8693\n",
      "t_loss: 0.2987, v_loss: 0.3111,t_acc: 0.8779,v_acc: 0.8695\n",
      "t_loss: 0.2984, v_loss: 0.3108,t_acc: 0.878,v_acc: 0.8695\n",
      "t_loss: 0.2982, v_loss: 0.3106,t_acc: 0.878,v_acc: 0.8693\n",
      "t_loss: 0.2979, v_loss: 0.3103,t_acc: 0.8781,v_acc: 0.8697\n",
      "t_loss: 0.2976, v_loss: 0.3101,t_acc: 0.8782,v_acc: 0.8699\n",
      "t_loss: 0.2973, v_loss: 0.3098,t_acc: 0.8783,v_acc: 0.8699\n",
      "t_loss: 0.2971, v_loss: 0.3096,t_acc: 0.8783,v_acc: 0.8697\n",
      "t_loss: 0.2968, v_loss: 0.3094,t_acc: 0.8784,v_acc: 0.8697\n",
      "t_loss: 0.2966, v_loss: 0.3091,t_acc: 0.8785,v_acc: 0.8699\n",
      "t_loss: 0.2963, v_loss: 0.3089,t_acc: 0.8785,v_acc: 0.8701\n",
      "t_loss: 0.2961, v_loss: 0.3087,t_acc: 0.8786,v_acc: 0.8703\n",
      "t_loss: 0.2958, v_loss: 0.3085,t_acc: 0.8787,v_acc: 0.8704\n",
      "t_loss: 0.2956, v_loss: 0.3083,t_acc: 0.8787,v_acc: 0.8703\n",
      "t_loss: 0.2954, v_loss: 0.3081,t_acc: 0.8787,v_acc: 0.8706\n",
      "t_loss: 0.2951, v_loss: 0.3079,t_acc: 0.8787,v_acc: 0.8706\n",
      "t_loss: 0.2949, v_loss: 0.3077,t_acc: 0.8788,v_acc: 0.8708\n",
      "t_loss: 0.2947, v_loss: 0.3075,t_acc: 0.8788,v_acc: 0.871\n",
      "t_loss: 0.2945, v_loss: 0.3073,t_acc: 0.8788,v_acc: 0.8712\n",
      "t_loss: 0.2943, v_loss: 0.3071,t_acc: 0.8788,v_acc: 0.8712\n",
      "t_loss: 0.2941, v_loss: 0.3069,t_acc: 0.8789,v_acc: 0.8714\n",
      "t_loss: 0.2939, v_loss: 0.3067,t_acc: 0.879,v_acc: 0.8714\n",
      "t_loss: 0.2937, v_loss: 0.3065,t_acc: 0.8791,v_acc: 0.8714\n",
      "t_loss: 0.2935, v_loss: 0.3064,t_acc: 0.8792,v_acc: 0.8714\n",
      "t_loss: 0.2933, v_loss: 0.3062,t_acc: 0.8792,v_acc: 0.8715\n",
      "t_loss: 0.2931, v_loss: 0.306,t_acc: 0.8792,v_acc: 0.8715\n",
      "t_loss: 0.2929, v_loss: 0.3059,t_acc: 0.8792,v_acc: 0.8715\n",
      "t_loss: 0.2927, v_loss: 0.3057,t_acc: 0.8793,v_acc: 0.8714\n",
      "t_loss: 0.2925, v_loss: 0.3056,t_acc: 0.8793,v_acc: 0.8714\n",
      "t_loss: 0.2923, v_loss: 0.3054,t_acc: 0.8793,v_acc: 0.8714\n",
      "t_loss: 0.2922, v_loss: 0.3052,t_acc: 0.8794,v_acc: 0.8714\n",
      "t_loss: 0.292, v_loss: 0.3051,t_acc: 0.8794,v_acc: 0.8715\n",
      "t_loss: 0.2918, v_loss: 0.3049,t_acc: 0.8794,v_acc: 0.8715\n",
      "t_loss: 0.2917, v_loss: 0.3048,t_acc: 0.8794,v_acc: 0.8715\n",
      "t_loss: 0.2915, v_loss: 0.3047,t_acc: 0.8795,v_acc: 0.8715\n",
      "t_loss: 0.2913, v_loss: 0.3045,t_acc: 0.8796,v_acc: 0.8715\n",
      "t_loss: 0.2912, v_loss: 0.3044,t_acc: 0.8797,v_acc: 0.8714\n",
      "t_loss: 0.291, v_loss: 0.3042,t_acc: 0.8797,v_acc: 0.8715\n",
      "t_loss: 0.2909, v_loss: 0.3041,t_acc: 0.8797,v_acc: 0.8715\n",
      "t_loss: 0.2907, v_loss: 0.304,t_acc: 0.8798,v_acc: 0.8714\n",
      "t_loss: 0.2906, v_loss: 0.3038,t_acc: 0.8797,v_acc: 0.8714\n",
      "t_loss: 0.2904, v_loss: 0.3037,t_acc: 0.8798,v_acc: 0.8714\n",
      "t_loss: 0.2903, v_loss: 0.3036,t_acc: 0.8799,v_acc: 0.8715\n",
      "t_loss: 0.2901, v_loss: 0.3034,t_acc: 0.88,v_acc: 0.8717\n",
      "t_loss: 0.29, v_loss: 0.3033,t_acc: 0.8801,v_acc: 0.8715\n",
      "t_loss: 0.2898, v_loss: 0.3032,t_acc: 0.8801,v_acc: 0.8717\n",
      "t_loss: 0.2897, v_loss: 0.3031,t_acc: 0.88,v_acc: 0.8717\n",
      "t_loss: 0.2896, v_loss: 0.303,t_acc: 0.8801,v_acc: 0.8717\n",
      "t_loss: 0.2894, v_loss: 0.3028,t_acc: 0.8801,v_acc: 0.8717\n",
      "t_loss: 0.2893, v_loss: 0.3027,t_acc: 0.8802,v_acc: 0.8717\n",
      "t_loss: 0.2892, v_loss: 0.3026,t_acc: 0.8802,v_acc: 0.8717\n",
      "t_loss: 0.289, v_loss: 0.3025,t_acc: 0.8801,v_acc: 0.8719\n",
      "t_loss: 0.2889, v_loss: 0.3024,t_acc: 0.8801,v_acc: 0.8717\n",
      "t_loss: 0.2888, v_loss: 0.3023,t_acc: 0.8801,v_acc: 0.8717\n",
      "t_loss: 0.2887, v_loss: 0.3022,t_acc: 0.8801,v_acc: 0.8717\n",
      "t_loss: 0.2885, v_loss: 0.3021,t_acc: 0.8801,v_acc: 0.8717\n",
      "t_loss: 0.2884, v_loss: 0.302,t_acc: 0.8802,v_acc: 0.8717\n",
      "t_loss: 0.2883, v_loss: 0.3019,t_acc: 0.8802,v_acc: 0.8717\n",
      "t_loss: 0.2882, v_loss: 0.3018,t_acc: 0.8803,v_acc: 0.8717\n",
      "t_loss: 0.2881, v_loss: 0.3017,t_acc: 0.8803,v_acc: 0.8717\n",
      "Training loss: 0.28805002783315964\n",
      "Development loss: 0.30166065159942024\n",
      "Training accuracy: 0.8802785173049354\n",
      "Development accuracy: 0.8717287136011795\n"
     ]
    }
   ],
   "source": [
    "\n",
    "learning_rate = 0.01\n",
    "lambda_ = 0\n",
    "epoch = 125\n",
    "batch_size = 8\n",
    "\n",
    "\n",
    "\n",
    "w = np.zeros([X_train.shape[1],])\n",
    "b = np.zeros([1, ])\n",
    "iter = np.ceil(X_train.shape[0]/batch_size).astype(int)\n",
    "step = 1\n",
    "train_loss =[]\n",
    "val_loss = []\n",
    "train_acc = []\n",
    "val_acc = []\n",
    "\n",
    "for e in range(epoch):\n",
    "    X_train, Y_train = shuffle(X_train, Y_train)\n",
    "    for i in range(iter):\n",
    "        BX = X_train[i*batch_size:(i+1)*batch_size]\n",
    "        BY = Y_train[i*batch_size:(i+1)*batch_size]\n",
    "        grad_w, grad_b = gradient(BX, BY, w, b,lambda_ = lambda_)\n",
    "    \n",
    "        w = w - learning_rate/np.sqrt(step)*grad_w\n",
    "        b = b - learning_rate/np.sqrt(step)*grad_b\n",
    "\n",
    "        step += 1\n",
    "    Y_pred = f(X_train, w,b)\n",
    "    Y_dev_pred = f(X_dev,w,b)\n",
    "    train_loss.append(cross_entropy_loss(Y_pred,Y_train,w,lambda_))\n",
    "    val_loss.append(cross_entropy_loss(Y_dev_pred,Y_dev,w,lambda_))\n",
    "    Y_pred = np.round(Y_pred)\n",
    "    Y_dev_pred = np.round(Y_dev_pred)\n",
    "    train_acc.append(accuracy(Y_pred,Y_train))\n",
    "    val_acc.append(accuracy(Y_dev_pred,Y_dev))\n",
    "\n",
    "    print(\"t_loss: {:.4}, v_loss: {:.4},t_acc: {:.4},v_acc: {:.4}\".format(train_loss[-1],val_loss[-1],train_acc[-1],val_acc[-1]))\n",
    "\n",
    "print('Training loss: {}'.format(train_loss[-1]))\n",
    "print('Development loss: {}'.format(val_loss[-1]))\n",
    "print('Training accuracy: {}'.format(train_acc[-1]))\n",
    "print('Development accuracy: {}'.format(val_acc[-1]))\n",
    "\n"
   ]
  },
  {
   "cell_type": "code",
   "execution_count": 4,
   "metadata": {},
   "outputs": [
    {
     "data": {
      "image/png": "[encoded data removed]",
      "text/plain": [
       "<Figure size 432x288 with 1 Axes>"
      ]
     },
     "metadata": {
      "needs_background": "light"
     },
     "output_type": "display_data"
    },
    {
     "data": {
      "image/png": "[encoded data removed]",
      "text/plain": [
       "<Figure size 432x288 with 1 Axes>"
      ]
     },
     "metadata": {
      "needs_background": "light"
     },
     "output_type": "display_data"
    }
   ],
   "source": [
    "\n",
    "# plot loss\n",
    "from matplotlib import pyplot as plt\n",
    "plt.plot(train_loss, label = 'train_loss')\n",
    "plt.plot(val_loss,label = 'dev_loss')\n",
    "plt.legend()\n",
    "plt.show()\n",
    "plt.plot(train_acc,label = 'train_acc')\n",
    "plt.plot(val_acc,label = 'dev_acc')\n",
    "plt.legend()\n",
    "plt.show()"
   ]
  },
  {
   "cell_type": "code",
   "execution_count": 5,
   "metadata": {},
   "outputs": [],
   "source": [
    "np.save('w.npy',w)\n",
    "# # Predict testing labels\n",
    "predictions = predict(X_test, w, b)\n",
    "with open(output_fpath.format('logistic'), 'w') as f:\n",
    "    f.write('id,label\\n')\n",
    "    for i, label in  enumerate(predictions):\n",
    "        f.write('{},{}\\n'.format(i, label))"
   ]
  },
  {
   "cell_type": "markdown",
   "metadata": {},
   "source": [
    "## 2.3 Tuning Analyze\n",
    "\n",
    "从一开始模型loss波动非常剧烈到后期逐渐稳定下来，调参经验如下。\n",
    "\n",
    "- learning rate不要设置太大，损失函数设计也不要让梯度太大，否则会导致波动剧烈，无法收敛，梯度爆炸等问题。\n",
    "- batch_size，小批量梯度下降，这个参数影响随机梯度下降，设置得小，每次会选择很局部的梯度，模型波动会更强更不稳定，但是由于size小，跑完一次数据的iter就多，所以收敛要较快，而且我们也可以期望更大的随机性能有更大的可能让我们找到全局最优解。设置得大的话，可以考虑最大是整个数据集，即关闭小批量梯度下降，所以设置得越大，每次梯度越全局化，整体下降也更加稳定，但是，相应的size大，iter就小，所以看起来收敛会慢一点，可以适当提高epoch以得到相同的效果。\n",
    "- loss function实际上在上述实验中，对训练并无影响，为了方便可视化，应该设置合适的大小，很多看起来奇怪的结果，其实是可视化没做好。\n",
    "\n",
    "多次实验后，我的基本结论是：\n",
    "\n",
    "上述结果，已经接近瓶颈了，换句话说，逻辑回归模型中，510维度特征的基本就是这个performance，如果要更进一步，应该考虑feature selection。"
   ]
  },
  {
   "cell_type": "markdown",
   "metadata": {},
   "source": [
    "## 2.4 Feature Selection"
   ]
  },
  {
   "cell_type": "markdown",
   "metadata": {},
   "source": [
    "这是权重的分布。"
   ]
  },
  {
   "cell_type": "code",
   "execution_count": 29,
   "metadata": {},
   "outputs": [
    {
     "data": {
      "image/png": "[encoded data removed]",
      "text/plain": [
       "<Figure size 432x288 with 1 Axes>"
      ]
     },
     "metadata": {
      "needs_background": "light"
     },
     "output_type": "display_data"
    }
   ],
   "source": [
    "# show weight distribution\n",
    "plt.bar(range(len(w)),abs(w))\n",
    "plt.show()"
   ]
  },
  {
   "cell_type": "code",
   "execution_count": 30,
   "metadata": {},
   "outputs": [
    {
     "name": "stdout",
     "output_type": "stream",
     "text": [
      "id , features                                          , weight\n",
      "210, capital gains                           , 0.3312179777553165\n",
      "212, dividends from stocks                   , 0.31609651785976073\n",
      "507, weeks worked in year                    , 0.2274132217270788\n",
      "113, Masters degree(MA MS MEng MEd MSW MBA)  , 0.22589457224499335\n",
      "358, num persons worked for employer         , 0.214848453806637\n",
      "  0, age                                     , 0.21019529971494316\n",
      "191, Male                                    , 0.18821640011729027\n",
      "192, Female                                  , -0.18821640011729018\n",
      "120, Doctorate degree(PhD EdD)               , 0.16728958419703682\n",
      "211, capital losses                          , 0.16534364759523143\n"
     ]
    }
   ],
   "source": [
    "ind = np.argsort(np.abs(w))[::-1]\n",
    "with open(X_test_fpath) as f:\n",
    "    content = f.readline().strip('\\n').split(',')\n",
    "features = np.array(content)[1:]\n",
    "print(\"{:3}, {:50}, {}\".format('id','features', 'weight'))\n",
    "for i in ind[0:10]:\n",
    "    print(\"{:3}, {:40}, {}\".format(i,features[i].strip(), w[i]))"
   ]
  },
  {
   "cell_type": "markdown",
   "metadata": {},
   "source": [
    "可以看到上述的前十的影响因素，资产相关，工作时间，学位相关，性别……发现在这种one-hot编码下，我们可以直接分割属性。"
   ]
  },
  {
   "cell_type": "code",
   "execution_count": 31,
   "metadata": {
    "scrolled": true
   },
   "outputs": [
    {
     "data": {
      "image/png": "[encoded data removed]",
      "text/plain": [
       "<Figure size 432x288 with 1 Axes>"
      ]
     },
     "metadata": {
      "needs_background": "light"
     },
     "output_type": "display_data"
    }
   ],
   "source": [
    "# show weight distribution(sorted)\n",
    "plt.bar(range(len(w)),np.sort(abs(w)))\n",
    "plt.show()"
   ]
  },
  {
   "cell_type": "markdown",
   "metadata": {},
   "source": [
    "可以看排序版的权重分布，二八定律在这里应该是适用的。可以看到300之前的权重基本就低于0.025.\n",
    "\n",
    "**选取前200个features**"
   ]
  },
  {
   "cell_type": "code",
   "execution_count": 7,
   "metadata": {},
   "outputs": [
    {
     "name": "stdout",
     "output_type": "stream",
     "text": [
      "t_loss: 0.2743, v_loss: 0.2885,t_acc: 0.8824,v_acc: 0.8719\n",
      "t_loss: 0.271, v_loss: 0.285,t_acc: 0.883,v_acc: 0.8763\n",
      "t_loss: 0.2698, v_loss: 0.2835,t_acc: 0.8834,v_acc: 0.8785\n",
      "t_loss: 0.2687, v_loss: 0.2827,t_acc: 0.8838,v_acc: 0.8774\n",
      "t_loss: 0.2682, v_loss: 0.2824,t_acc: 0.884,v_acc: 0.8785\n",
      "t_loss: 0.2679, v_loss: 0.2822,t_acc: 0.8843,v_acc: 0.8784\n",
      "t_loss: 0.2677, v_loss: 0.2821,t_acc: 0.8842,v_acc: 0.8771\n",
      "t_loss: 0.2674, v_loss: 0.2819,t_acc: 0.8842,v_acc: 0.8776\n",
      "t_loss: 0.2672, v_loss: 0.2817,t_acc: 0.8843,v_acc: 0.878\n",
      "t_loss: 0.2671, v_loss: 0.2816,t_acc: 0.8842,v_acc: 0.8769\n",
      "Training loss: 0.26709118801135306\n",
      "Development loss: 0.28161317880417125\n",
      "Training accuracy: 0.8841900471021913\n",
      "Development accuracy: 0.876889052709178\n"
     ]
    },
    {
     "data": {
      "image/png": "[encoded data removed]",
      "text/plain": [
       "<Figure size 432x288 with 1 Axes>"
      ]
     },
     "metadata": {
      "needs_background": "light"
     },
     "output_type": "display_data"
    },
    {
     "data": {
      "image/png": "[encoded data removed]",
      "text/plain": [
       "<Figure size 432x288 with 1 Axes>"
      ]
     },
     "metadata": {
      "needs_background": "light"
     },
     "output_type": "display_data"
    }
   ],
   "source": [
    "w = np.load('./w.npy')\n",
    "ind = np.argsort(np.abs(w))[::-1]\n",
    "sind = np.sort(ind[:200])\n",
    "X_train_s = X_train[:,sind]\n",
    "X_dev_s = X_dev[:,sind]\n",
    "\n",
    "learning_rate = 1\n",
    "lambda_ = 0\n",
    "epoch = 10\n",
    "batch_size = 128\n",
    "w_s = np.zeros([X_train_s.shape[1],])\n",
    "b = np.zeros([1, ])\n",
    "iter = np.ceil(X_train.shape[0]/batch_size).astype(int)\n",
    "step = 1\n",
    "train_loss =[]\n",
    "val_loss = []\n",
    "train_acc = []\n",
    "val_acc = []\n",
    "\n",
    "for e in range(epoch):\n",
    "    X_train_s, Y_train = shuffle(X_train_s, Y_train)\n",
    "    for i in range(iter):\n",
    "        BX = X_train_s[i*batch_size:(i+1)*batch_size]\n",
    "        BY = Y_train[i*batch_size:(i+1)*batch_size]\n",
    "        grad_w, grad_b = gradient(BX, BY, w_s, b,lambda_ = lambda_)\n",
    "    \n",
    "        w_s = w_s - learning_rate/np.sqrt(step)*grad_w\n",
    "        b = b - learning_rate/np.sqrt(step)*grad_b\n",
    "\n",
    "        step += 1\n",
    "    Y_pred = f(X_train_s, w_s,b)\n",
    "    Y_dev_pred = f(X_dev_s,w_s,b)\n",
    "    train_loss.append(cross_entropy_loss(Y_pred,Y_train,w_s,lambda_))\n",
    "    val_loss.append(cross_entropy_loss(Y_dev_pred,Y_dev,w_s,lambda_))\n",
    "    Y_pred = np.round(Y_pred)\n",
    "    Y_dev_pred = np.round(Y_dev_pred)\n",
    "    train_acc.append(accuracy(Y_pred,Y_train))\n",
    "    val_acc.append(accuracy(Y_dev_pred,Y_dev))\n",
    "\n",
    "    print(\"t_loss: {:.4}, v_loss: {:.4},t_acc: {:.4},v_acc: {:.4}\".format(train_loss[-1],val_loss[-1],train_acc[-1],val_acc[-1]))\n",
    "\n",
    "print('Training loss: {}'.format(train_loss[-1]))\n",
    "print('Development loss: {}'.format(val_loss[-1]))\n",
    "print('Training accuracy: {}'.format(train_acc[-1]))\n",
    "print('Development accuracy: {}'.format(val_acc[-1]))\n",
    "\n",
    "\n",
    "# plot loss\n",
    "from matplotlib import pyplot as plt\n",
    "plt.plot(train_loss, label = 'train_loss')\n",
    "plt.plot(val_loss,label = 'dev_loss')\n",
    "plt.legend()\n",
    "plt.show()\n",
    "plt.plot(train_acc,label = 'train_acc')\n",
    "plt.plot(val_acc,label = 'dev_acc')\n",
    "plt.legend()\n",
    "plt.show()"
   ]
  },
  {
   "cell_type": "markdown",
   "metadata": {},
   "source": [
    "按上述设置，确实有所提高，但是kaggle上面测试，又只有0.87763，连simple baseline也没过。。最好的成绩是0.88936，不知道那些破90的做了什么，估计改变了模型。而且我最后又试了以下以最好成绩的配置，只改变features数量，结果表明，features selection在val set上有用，但在kaggle的test set上没有用，或者我方式没做对。"
   ]
  },
  {
   "cell_type": "markdown",
   "metadata": {},
   "source": [
    "# 3. Model - Probabilistic genereative model\n",
    "\n",
    "## 3.1 Math\n",
    "\n",
    "$$P\\left(C_{1} | x\\right)=\\frac{P\\left(x | C_{1}\\right) P\\left(C_{1}\\right)}{P\\left(x | C_{1}\\right) P\\left(C_{1}\\right)+P\\left(x | C_{2}\\right) P\\left(C_{2}\\right)}$$\n",
    "\n",
    "已知x，求它属于$C_1$的概率。其中$P(C_i)$只需要统计train set中的频率，以此来替代整体概率。\n",
    "\n",
    "然后是$P(x|C_i)$，已知分类情况下，x属于该分类的概率。模型假设某分类$C_i$服从正态分布，以此来求这个概率。\n",
    "\n",
    "$$f_{\\mu, \\Sigma}(x)=\\frac{1}{(2 \\pi)^{D / 2}} \\frac{1}{|\\Sigma|^{1 / 2}} \\exp \\left\\{-\\frac{1}{2}(x-\\mu)^{T} \\Sigma^{-1}(x-\\mu)\\right\\}$$\n",
    "\n",
    "上述为正态分布公式，正态分布，则重点是两个参数的求取——遍历所有情况，寻求最大置信度，置信度定义如下。\n",
    "\n",
    "$$L(\\mu, \\Sigma)=f_{\\mu, \\Sigma}\\left(x^{1}\\right) f_{\\mu, \\Sigma}\\left(x^{2}\\right) f_{\\mu, \\Sigma}\\left(x^{3}\\right) \\dots \\dots f_{\\mu, \\Sigma}\\left(x^{n}\\right)$$\n",
    "\n",
    "在二分类的情况下，上述公式可以做如下变形。\n",
    "\n",
    "$$P\\left(C_{1} | x\\right)=\\frac{1}{1+\\exp (-z)}$$\n",
    "\n",
    "$$z=\\ln \\frac{P\\left(x | C_{1}\\right) P\\left(C_{1}\\right)}{P\\left(x | C_{2}\\right) P\\left(C_{2}\\right)}$$\n",
    "\n",
    "所以，上述很多公式其实都是用不到的，对于z我们做如下推导。\n",
    "\n",
    "$$z=\\left(\\mu^{1}-\\mu^{2}\\right)^{T} \\Sigma^{-1} x-\\frac{1}{2}\\left(\\mu^{1}\\right)^{T} \\Sigma^{-1} \\mu^{1}+\\frac{1}{2}\\left(\\mu^{2}\\right)^{T} \\Sigma^{-1} \\mu^{2}+\\ln \\frac{N_{1}}{N_{2}}$$\n",
    "\n",
    "然后我们发现逻辑回归和概率模型本质上是一样的。\n",
    "\n",
    "$$Z=X \\cdot W+B  \\\\ Y =\\sigma(Z)=\\frac{1}{1+e^{-Z}}$$\n",
    "\n",
    "然后，剩下的问题就是$Σ$和$ \\mu$怎么求。\n",
    "\n",
    "$$\\mu^{*}=\\frac{1}{N} \\sum_{n=1}^{N} x^{n} \\\\ \\Sigma^{*}=\\frac{1}{N} \\sum_{n=1}^{N}\\left(x^{n}-\\mu^{*}\\right)\\left(x^{n}-\\mu^{*}\\right)^{T}$$\n",
    "\n",
    "注意，上述的 x 仅仅只一个维度的特征。而不是输入的X矩阵。那么，多维度的特征应该怎么办呢？\n",
    "\n",
    "模型再次假设所有维度是相关的，它们共享一个co-variance矩阵，即$\\sum$矩阵，然后各自拥有独立的mean，即$\\mu_i$。前者求法如下，后者求法和上面是一样的。\n",
    "\n",
    "$$\\Sigma=\\frac{79}{140} \\Sigma^{1}+\\frac{61}{140} \\Sigma^{2}$$\n",
    "\n",
    "上面使用了一个具体的例子来展示加权平均的公式。"
   ]
  },
  {
   "cell_type": "markdown",
   "metadata": {},
   "source": [
    "## 3.2 Implementation"
   ]
  },
  {
   "cell_type": "code",
   "execution_count": 8,
   "metadata": {},
   "outputs": [],
   "source": [
    "import numpy as np\n",
    "\n",
    "X_train_fpath = './data/X_train'\n",
    "Y_train_fpath = './data/Y_train'\n",
    "X_test_fpath = './data/X_test'\n",
    "output_fpath = './output_{}.csv'\n",
    "\n",
    "np.random.seed(0)\n",
    "# Parse csv files to numpy array\n",
    "with open(X_train_fpath) as f:\n",
    "    next(f)\n",
    "    X_train = np.array([line.strip('\\n').split(',')[1:] for line in f], dtype = float)\n",
    "with open(Y_train_fpath) as f:\n",
    "    next(f)\n",
    "    Y_train = np.array([line.strip('\\n').split(',')[1] for line in f], dtype = float)\n",
    "with open(X_test_fpath) as f:\n",
    "    next(f)\n",
    "    X_test = np.array([line.strip('\\n').split(',')[1:] for line in f], dtype = float)\n",
    "\n",
    "# Normalize training and testing data\n",
    "X_train, X_mean, X_std = normalize(X_train, train = True)\n",
    "X_test, _, _= normalize(X_test, train = False, specified_column = None, X_mean = X_mean, X_std = X_std)"
   ]
  },
  {
   "cell_type": "code",
   "execution_count": null,
   "metadata": {},
   "outputs": [],
   "source": [
    "# Compute in-class mean\n",
    "X_train_0 = np.array([x for x, y in zip(X_train, Y_train) if y == 0])\n",
    "X_train_1 = np.array([x for x, y in zip(X_train, Y_train) if y == 1])\n",
    "\n",
    "mean_0 = np.mean(X_train_0, axis = 0)\n",
    "mean_1 = np.mean(X_train_1, axis = 0)  \n",
    "\n",
    "# Compute in-class covariance\n",
    "cov_0 = np.zeros((data_dim, data_dim))\n",
    "cov_1 = np.zeros((data_dim, data_dim))\n",
    "\n",
    "for x in X_train_0:\n",
    "    cov_0 += np.dot(np.transpose([x - mean_0]), [x - mean_0]) / X_train_0.shape[0]\n",
    "for x in X_train_1:\n",
    "    cov_1 += np.dot(np.transpose([x - mean_1]), [x - mean_1]) / X_train_1.shape[0]\n",
    "\n",
    "# Shared covariance is taken as a weighted average of individual in-class covariance.\n",
    "cov = (cov_0 * X_train_0.shape[0] + cov_1 * X_train_1.shape[0]) / (X_train_0.shape[0] + X_train_1.shape[0])"
   ]
  },
  {
   "cell_type": "markdown",
   "metadata": {},
   "source": [
    "经典的使用svd分解求逆。"
   ]
  },
  {
   "cell_type": "code",
   "execution_count": 13,
   "metadata": {},
   "outputs": [
    {
     "name": "stdout",
     "output_type": "stream",
     "text": [
      "Training accuracy: 0.8719772928339723\n"
     ]
    }
   ],
   "source": [
    "# Compute inverse of covariance matrix.\n",
    "# Since covariance matrix may be nearly singular, np.linalg.inv() may give a large numerical error.\n",
    "# Via SVD decomposition, one can get matrix inverse efficiently and accurately.\n",
    "u, s, v = np.linalg.svd(cov, full_matrices=False)\n",
    "inv = np.matmul(v.T * 1 / s, u.T)\n",
    "\n",
    "# Directly compute weights and bias\n",
    "w = np.dot(inv, mean_0 - mean_1)\n",
    "b =  (-0.5) * np.dot(mean_0, np.dot(inv, mean_0)) + 0.5 * np.dot(mean_1, np.dot(inv, mean_1))\\\n",
    "    + np.log(float(X_train_0.shape[0]) / X_train_1.shape[0]) \n",
    "\n",
    "# Compute accuracy on training set\n",
    "Y_train_pred = 1 - predict(X_train, w, b)\n",
    "print('Training accuracy: {}'.format(accuracy(Y_train_pred, Y_train)))"
   ]
  },
  {
   "cell_type": "code",
   "execution_count": 15,
   "metadata": {},
   "outputs": [
    {
     "name": "stdout",
     "output_type": "stream",
     "text": [
      " Retail trade 9.948974609375\n",
      " 34 -7.5440673828125\n",
      " 37 -6.945068359375\n",
      " Other service -6.31884765625\n",
      " Different state in Midwest -5.08984375\n",
      " Manufacturing-nondurable goods 4.40625\n",
      " 31 -4.37109375\n",
      " Forestry and fisheries 3.806640625\n",
      " 29 -3.78515625\n",
      " Not identifiable -3.765625\n"
     ]
    }
   ],
   "source": [
    "# Predict testing labels\n",
    "predictions = 1 - predict(X_test, w, b)\n",
    "with open(output_fpath.format('generative'), 'w') as f:\n",
    "    f.write('id,label\\n')\n",
    "    for i, label in  enumerate(predictions):\n",
    "        f.write('{},{}\\n'.format(i, label))\n",
    "\n",
    "# Print out the most significant weights\n",
    "ind = np.argsort(np.abs(w))[::-1]\n",
    "with open(X_test_fpath) as f:\n",
    "    content = f.readline().strip('\\n').split(',')\n",
    "features = np.array(content)\n",
    "for i in ind[0:10]:\n",
    "    print(features[i], w[i])"
   ]
  },
  {
   "cell_type": "code",
   "execution_count": null,
   "metadata": {},
   "outputs": [],
   "source": []
  }
 ],
 "metadata": {
  "accelerator": "GPU",
  "colab": {
   "authorship_tag": "ABX9TyNdo9wShV8UwuUw+dcElH2g",
   "name": "hw2.ipynb",
   "provenance": [],
   "toc_visible": true
  },
  "kernelspec": {
   "display_name": "Python 3",
   "language": "python",
   "name": "python3"
  },
  "language_info": {
   "codemirror_mode": {
    "name": "ipython",
    "version": 3
   },
   "file_extension": ".py",
   "mimetype": "text/x-python",
   "name": "python",
   "nbconvert_exporter": "python",
   "pygments_lexer": "ipython3",
   "version": "3.7.4"
  },
  "toc": {
   "base_numbering": 1,
   "nav_menu": {},
   "number_sections": false,
   "sideBar": true,
   "skip_h1_title": false,
   "title_cell": "Table of Contents",
   "title_sidebar": "Contents",
   "toc_cell": false,
   "toc_position": {
    "height": "calc(100% - 180px)",
    "left": "10px",
    "top": "150px",
    "width": "336px"
   },
   "toc_section_display": true,
   "toc_window_display": true
  }
 },
 "nbformat": 4,
 "nbformat_minor": 1
}
